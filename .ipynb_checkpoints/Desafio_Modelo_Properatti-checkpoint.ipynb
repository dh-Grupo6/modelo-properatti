{
 "cells": [
  {
   "cell_type": "markdown",
   "metadata": {},
   "source": [
    "# DESAFIO MODELO PROPERATTI"
   ]
  },
  {
   "cell_type": "code",
   "execution_count": 8,
   "metadata": {},
   "outputs": [],
   "source": [
    "import Util as utl\n",
    "import pandas as pd\n",
    "import numpy as np"
   ]
  },
  {
   "cell_type": "markdown",
   "metadata": {},
   "source": [
    "#### SE PONEN NULLABLE LOS OUTLIERS Y SON IMPUTADOS   .......... z-score  [0.045]"
   ]
  },
  {
   "cell_type": "code",
   "execution_count": 9,
   "metadata": {},
   "outputs": [
    {
     "name": "stderr",
     "output_type": "stream",
     "text": [
      "/home/DS-DH/notebooks/digitalHouse/modelo-properatti/Util.py:497: UserWarning: Pandas doesn't allow columns to be created via a new attribute name - see https://pandas.pydata.org/pandas-docs/stable/indexing.html#attribute-access\n",
      "  data.ambientesImputados = ImputarAmbientesProceso(data,10)\n"
     ]
    }
   ],
   "source": [
    "data = pd.read_csv('/home/DS-DH/notebooks/digitalHouse/properatti.csv')\n",
    "data = utl.limpiarDatos(data,0.2)\n",
    "#data = pd.read_csv('/home/DS-DH/notebooks/digitalHouse/data.csv',sep='|')\n",
    "#data.to_csv('/home/DS-DH/notebooks/digitalHouse/data.csv',sep='|')\n"
   ]
  },
  {
   "cell_type": "code",
   "execution_count": 6,
   "metadata": {},
   "outputs": [
    {
     "data": {
      "text/html": [
       "<div>\n",
       "<style scoped>\n",
       "    .dataframe tbody tr th:only-of-type {\n",
       "        vertical-align: middle;\n",
       "    }\n",
       "\n",
       "    .dataframe tbody tr th {\n",
       "        vertical-align: top;\n",
       "    }\n",
       "\n",
       "    .dataframe thead th {\n",
       "        text-align: right;\n",
       "    }\n",
       "</style>\n",
       "<table border=\"1\" class=\"dataframe\">\n",
       "  <thead>\n",
       "    <tr style=\"text-align: right;\">\n",
       "      <th></th>\n",
       "      <th>Unnamed: 0</th>\n",
       "      <th>geonames_id</th>\n",
       "      <th>lat</th>\n",
       "      <th>lon</th>\n",
       "      <th>price</th>\n",
       "      <th>price_aprox_local_currency</th>\n",
       "      <th>price_aprox_usd</th>\n",
       "      <th>surface_total_in_m2</th>\n",
       "      <th>surface_covered_in_m2</th>\n",
       "      <th>price_usd_per_m2</th>\n",
       "      <th>...</th>\n",
       "      <th>ambientes_ceros</th>\n",
       "      <th>imputar_ambientes</th>\n",
       "      <th>superficie_cubierta_imputada</th>\n",
       "      <th>imputando_superficies_cubiertas</th>\n",
       "      <th>ambientes_imputados_ceros</th>\n",
       "      <th>imputando_superficies_total</th>\n",
       "      <th>superficie_total_imputada_Cubierta</th>\n",
       "      <th>superficie_total_imputada_Ambientes</th>\n",
       "      <th>imputar_precios_usd</th>\n",
       "      <th>imputandoPrecioSupTotal</th>\n",
       "    </tr>\n",
       "  </thead>\n",
       "  <tbody>\n",
       "    <tr>\n",
       "      <th>count</th>\n",
       "      <td>93893.000000</td>\n",
       "      <td>7.878500e+04</td>\n",
       "      <td>55720.000000</td>\n",
       "      <td>55720.000000</td>\n",
       "      <td>7.881500e+04</td>\n",
       "      <td>7.881500e+04</td>\n",
       "      <td>5.951800e+04</td>\n",
       "      <td>73187.000000</td>\n",
       "      <td>19461.000000</td>\n",
       "      <td>58991.000000</td>\n",
       "      <td>...</td>\n",
       "      <td>93893.000000</td>\n",
       "      <td>93893.000000</td>\n",
       "      <td>19461.000000</td>\n",
       "      <td>13075.000000</td>\n",
       "      <td>93893.000000</td>\n",
       "      <td>71474.000000</td>\n",
       "      <td>14826.000000</td>\n",
       "      <td>73187.000000</td>\n",
       "      <td>5.473500e+04</td>\n",
       "      <td>5.951800e+04</td>\n",
       "    </tr>\n",
       "    <tr>\n",
       "      <th>mean</th>\n",
       "      <td>59733.339780</td>\n",
       "      <td>3.569240e+06</td>\n",
       "      <td>-34.705873</td>\n",
       "      <td>-59.170773</td>\n",
       "      <td>4.125636e+05</td>\n",
       "      <td>3.953389e+06</td>\n",
       "      <td>2.199544e+05</td>\n",
       "      <td>182.129587</td>\n",
       "      <td>207.213818</td>\n",
       "      <td>1568.723765</td>\n",
       "      <td>...</td>\n",
       "      <td>1.107324</td>\n",
       "      <td>1.207353</td>\n",
       "      <td>207.213818</td>\n",
       "      <td>224.223786</td>\n",
       "      <td>1.207416</td>\n",
       "      <td>165.511404</td>\n",
       "      <td>169.746227</td>\n",
       "      <td>166.324311</td>\n",
       "      <td>2.208216e+05</td>\n",
       "      <td>2.199544e+05</td>\n",
       "    </tr>\n",
       "    <tr>\n",
       "      <th>std</th>\n",
       "      <td>34787.187105</td>\n",
       "      <td>3.665535e+05</td>\n",
       "      <td>1.954426</td>\n",
       "      <td>2.217738</td>\n",
       "      <td>2.424165e+06</td>\n",
       "      <td>5.442323e+06</td>\n",
       "      <td>1.590503e+05</td>\n",
       "      <td>153.125570</td>\n",
       "      <td>226.246596</td>\n",
       "      <td>1136.130928</td>\n",
       "      <td>...</td>\n",
       "      <td>1.570424</td>\n",
       "      <td>1.694912</td>\n",
       "      <td>226.246596</td>\n",
       "      <td>236.147737</td>\n",
       "      <td>1.694988</td>\n",
       "      <td>114.030346</td>\n",
       "      <td>138.263351</td>\n",
       "      <td>125.360573</td>\n",
       "      <td>1.600216e+05</td>\n",
       "      <td>1.590503e+05</td>\n",
       "    </tr>\n",
       "    <tr>\n",
       "      <th>min</th>\n",
       "      <td>0.000000</td>\n",
       "      <td>3.427208e+06</td>\n",
       "      <td>-54.819736</td>\n",
       "      <td>-71.665143</td>\n",
       "      <td>5.000000e+03</td>\n",
       "      <td>8.822250e+04</td>\n",
       "      <td>1.121673e+04</td>\n",
       "      <td>26.000000</td>\n",
       "      <td>26.000000</td>\n",
       "      <td>14.942529</td>\n",
       "      <td>...</td>\n",
       "      <td>0.000000</td>\n",
       "      <td>0.000000</td>\n",
       "      <td>26.000000</td>\n",
       "      <td>36.000000</td>\n",
       "      <td>0.000000</td>\n",
       "      <td>26.000000</td>\n",
       "      <td>26.000000</td>\n",
       "      <td>26.000000</td>\n",
       "      <td>1.682510e+04</td>\n",
       "      <td>1.121673e+04</td>\n",
       "    </tr>\n",
       "    <tr>\n",
       "      <th>25%</th>\n",
       "      <td>30019.000000</td>\n",
       "      <td>3.430234e+06</td>\n",
       "      <td>-34.689492</td>\n",
       "      <td>-58.703362</td>\n",
       "      <td>1.080000e+05</td>\n",
       "      <td>1.588005e+06</td>\n",
       "      <td>1.107229e+05</td>\n",
       "      <td>93.107623</td>\n",
       "      <td>75.571429</td>\n",
       "      <td>834.273095</td>\n",
       "      <td>...</td>\n",
       "      <td>0.000000</td>\n",
       "      <td>0.000000</td>\n",
       "      <td>75.571429</td>\n",
       "      <td>75.571429</td>\n",
       "      <td>0.000000</td>\n",
       "      <td>98.000000</td>\n",
       "      <td>93.107623</td>\n",
       "      <td>91.586207</td>\n",
       "      <td>1.107229e+05</td>\n",
       "      <td>1.107229e+05</td>\n",
       "    </tr>\n",
       "    <tr>\n",
       "      <th>50%</th>\n",
       "      <td>59391.000000</td>\n",
       "      <td>3.433775e+06</td>\n",
       "      <td>-34.600234</td>\n",
       "      <td>-58.478080</td>\n",
       "      <td>1.790000e+05</td>\n",
       "      <td>2.558452e+06</td>\n",
       "      <td>1.700000e+05</td>\n",
       "      <td>134.384615</td>\n",
       "      <td>118.000000</td>\n",
       "      <td>1315.346410</td>\n",
       "      <td>...</td>\n",
       "      <td>0.000000</td>\n",
       "      <td>0.000000</td>\n",
       "      <td>118.000000</td>\n",
       "      <td>150.000000</td>\n",
       "      <td>0.000000</td>\n",
       "      <td>126.229167</td>\n",
       "      <td>125.450000</td>\n",
       "      <td>125.450000</td>\n",
       "      <td>1.724811e+05</td>\n",
       "      <td>1.700000e+05</td>\n",
       "    </tr>\n",
       "    <tr>\n",
       "      <th>75%</th>\n",
       "      <td>89736.000000</td>\n",
       "      <td>3.832791e+06</td>\n",
       "      <td>-34.466232</td>\n",
       "      <td>-58.393053</td>\n",
       "      <td>3.750000e+05</td>\n",
       "      <td>4.587570e+06</td>\n",
       "      <td>2.800000e+05</td>\n",
       "      <td>232.466165</td>\n",
       "      <td>245.000000</td>\n",
       "      <td>2023.192260</td>\n",
       "      <td>...</td>\n",
       "      <td>2.000000</td>\n",
       "      <td>2.000000</td>\n",
       "      <td>245.000000</td>\n",
       "      <td>240.000000</td>\n",
       "      <td>2.000000</td>\n",
       "      <td>196.500000</td>\n",
       "      <td>215.806452</td>\n",
       "      <td>200.000000</td>\n",
       "      <td>2.864633e+05</td>\n",
       "      <td>2.800000e+05</td>\n",
       "    </tr>\n",
       "    <tr>\n",
       "      <th>max</th>\n",
       "      <td>121219.000000</td>\n",
       "      <td>6.948895e+06</td>\n",
       "      <td>-23.137164</td>\n",
       "      <td>-54.580379</td>\n",
       "      <td>6.500000e+08</td>\n",
       "      <td>4.411125e+08</td>\n",
       "      <td>3.200000e+06</td>\n",
       "      <td>8700.000000</td>\n",
       "      <td>8700.000000</td>\n",
       "      <td>34444.444444</td>\n",
       "      <td>...</td>\n",
       "      <td>9.000000</td>\n",
       "      <td>9.000000</td>\n",
       "      <td>8700.000000</td>\n",
       "      <td>3100.000000</td>\n",
       "      <td>9.000000</td>\n",
       "      <td>8700.000000</td>\n",
       "      <td>8700.000000</td>\n",
       "      <td>8700.000000</td>\n",
       "      <td>3.100000e+06</td>\n",
       "      <td>3.200000e+06</td>\n",
       "    </tr>\n",
       "  </tbody>\n",
       "</table>\n",
       "<p>8 rows × 25 columns</p>\n",
       "</div>"
      ],
      "text/plain": [
       "          Unnamed: 0   geonames_id           lat           lon         price  \\\n",
       "count   93893.000000  7.878500e+04  55720.000000  55720.000000  7.881500e+04   \n",
       "mean    59733.339780  3.569240e+06    -34.705873    -59.170773  4.125636e+05   \n",
       "std     34787.187105  3.665535e+05      1.954426      2.217738  2.424165e+06   \n",
       "min         0.000000  3.427208e+06    -54.819736    -71.665143  5.000000e+03   \n",
       "25%     30019.000000  3.430234e+06    -34.689492    -58.703362  1.080000e+05   \n",
       "50%     59391.000000  3.433775e+06    -34.600234    -58.478080  1.790000e+05   \n",
       "75%     89736.000000  3.832791e+06    -34.466232    -58.393053  3.750000e+05   \n",
       "max    121219.000000  6.948895e+06    -23.137164    -54.580379  6.500000e+08   \n",
       "\n",
       "       price_aprox_local_currency  price_aprox_usd  surface_total_in_m2  \\\n",
       "count                7.881500e+04     5.951800e+04         73187.000000   \n",
       "mean                 3.953389e+06     2.199544e+05           182.129587   \n",
       "std                  5.442323e+06     1.590503e+05           153.125570   \n",
       "min                  8.822250e+04     1.121673e+04            26.000000   \n",
       "25%                  1.588005e+06     1.107229e+05            93.107623   \n",
       "50%                  2.558452e+06     1.700000e+05           134.384615   \n",
       "75%                  4.587570e+06     2.800000e+05           232.466165   \n",
       "max                  4.411125e+08     3.200000e+06          8700.000000   \n",
       "\n",
       "       surface_covered_in_m2  price_usd_per_m2           ...             \\\n",
       "count           19461.000000      58991.000000           ...              \n",
       "mean              207.213818       1568.723765           ...              \n",
       "std               226.246596       1136.130928           ...              \n",
       "min                26.000000         14.942529           ...              \n",
       "25%                75.571429        834.273095           ...              \n",
       "50%               118.000000       1315.346410           ...              \n",
       "75%               245.000000       2023.192260           ...              \n",
       "max              8700.000000      34444.444444           ...              \n",
       "\n",
       "       ambientes_ceros  imputar_ambientes  superficie_cubierta_imputada  \\\n",
       "count     93893.000000       93893.000000                  19461.000000   \n",
       "mean          1.107324           1.207353                    207.213818   \n",
       "std           1.570424           1.694912                    226.246596   \n",
       "min           0.000000           0.000000                     26.000000   \n",
       "25%           0.000000           0.000000                     75.571429   \n",
       "50%           0.000000           0.000000                    118.000000   \n",
       "75%           2.000000           2.000000                    245.000000   \n",
       "max           9.000000           9.000000                   8700.000000   \n",
       "\n",
       "       imputando_superficies_cubiertas  ambientes_imputados_ceros  \\\n",
       "count                     13075.000000               93893.000000   \n",
       "mean                        224.223786                   1.207416   \n",
       "std                         236.147737                   1.694988   \n",
       "min                          36.000000                   0.000000   \n",
       "25%                          75.571429                   0.000000   \n",
       "50%                         150.000000                   0.000000   \n",
       "75%                         240.000000                   2.000000   \n",
       "max                        3100.000000                   9.000000   \n",
       "\n",
       "       imputando_superficies_total  superficie_total_imputada_Cubierta  \\\n",
       "count                 71474.000000                        14826.000000   \n",
       "mean                    165.511404                          169.746227   \n",
       "std                     114.030346                          138.263351   \n",
       "min                      26.000000                           26.000000   \n",
       "25%                      98.000000                           93.107623   \n",
       "50%                     126.229167                          125.450000   \n",
       "75%                     196.500000                          215.806452   \n",
       "max                    8700.000000                         8700.000000   \n",
       "\n",
       "       superficie_total_imputada_Ambientes  imputar_precios_usd  \\\n",
       "count                         73187.000000         5.473500e+04   \n",
       "mean                            166.324311         2.208216e+05   \n",
       "std                             125.360573         1.600216e+05   \n",
       "min                              26.000000         1.682510e+04   \n",
       "25%                              91.586207         1.107229e+05   \n",
       "50%                             125.450000         1.724811e+05   \n",
       "75%                             200.000000         2.864633e+05   \n",
       "max                            8700.000000         3.100000e+06   \n",
       "\n",
       "       imputandoPrecioSupTotal  \n",
       "count             5.951800e+04  \n",
       "mean              2.199544e+05  \n",
       "std               1.590503e+05  \n",
       "min               1.121673e+04  \n",
       "25%               1.107229e+05  \n",
       "50%               1.700000e+05  \n",
       "75%               2.800000e+05  \n",
       "max               3.200000e+06  \n",
       "\n",
       "[8 rows x 25 columns]"
      ]
     },
     "execution_count": 6,
     "metadata": {},
     "output_type": "execute_result"
    }
   ],
   "source": [
    "data.describe()"
   ]
  },
  {
   "cell_type": "code",
   "execution_count": 10,
   "metadata": {},
   "outputs": [],
   "source": [
    "matriz = utl.GenerarMatriz(data)"
   ]
  },
  {
   "cell_type": "code",
   "execution_count": null,
   "metadata": {},
   "outputs": [],
   "source": []
  },
  {
   "cell_type": "markdown",
   "metadata": {},
   "source": [
    "#### SE GENERAN LAS DUMMYS PARA EL MODELO"
   ]
  },
  {
   "cell_type": "code",
   "execution_count": 11,
   "metadata": {},
   "outputs": [],
   "source": [
    "modeloMatriz = utl.generarDummies(matriz)\n",
    "#modeloMatriz=modeloMatriz[(modeloMatriz.superficie_total>20) & (modeloMatriz.superficie_total<150)]\n",
    "#modeloMatriz=modeloMatriz[(modeloMatriz.precio_m2>20) & (modeloMatriz.precio_m2<8000)]\n",
    "#modeloMatriz.describe()"
   ]
  },
  {
   "cell_type": "code",
   "execution_count": null,
   "metadata": {},
   "outputs": [],
   "source": []
  },
  {
   "cell_type": "code",
   "execution_count": 7,
   "metadata": {},
   "outputs": [
    {
     "data": {
      "text/html": [
       "<div>\n",
       "<style scoped>\n",
       "    .dataframe tbody tr th:only-of-type {\n",
       "        vertical-align: middle;\n",
       "    }\n",
       "\n",
       "    .dataframe tbody tr th {\n",
       "        vertical-align: top;\n",
       "    }\n",
       "\n",
       "    .dataframe thead th {\n",
       "        text-align: right;\n",
       "    }\n",
       "</style>\n",
       "<table border=\"1\" class=\"dataframe\">\n",
       "  <thead>\n",
       "    <tr style=\"text-align: right;\">\n",
       "      <th></th>\n",
       "      <th>precio_m2</th>\n",
       "      <th>superficie_total</th>\n",
       "      <th>superficieJardines</th>\n",
       "      <th>superficieTerrazas</th>\n",
       "      <th>superficieJardinesTerrazas</th>\n",
       "      <th>1_AMBIENTE</th>\n",
       "      <th>2_AMBIENTE</th>\n",
       "      <th>3_AMBIENTE</th>\n",
       "      <th>4_AMBIENTE</th>\n",
       "      <th>5_AMBIENTE</th>\n",
       "      <th>...</th>\n",
       "      <th>tribunales</th>\n",
       "      <th>villa_general_mitre</th>\n",
       "      <th>palermo_viejo</th>\n",
       "      <th>villa_lugano</th>\n",
       "      <th>villa_ortuzar</th>\n",
       "      <th>villa_soldati</th>\n",
       "      <th>villa_real</th>\n",
       "      <th>villa_riachuelo</th>\n",
       "      <th>superficie_total_2</th>\n",
       "      <th>superficie_total_3</th>\n",
       "    </tr>\n",
       "  </thead>\n",
       "  <tbody>\n",
       "    <tr>\n",
       "      <th>count</th>\n",
       "      <td>17845.000000</td>\n",
       "      <td>17845.000000</td>\n",
       "      <td>17845.000000</td>\n",
       "      <td>17845.000000</td>\n",
       "      <td>17845.000000</td>\n",
       "      <td>17845.000000</td>\n",
       "      <td>17845.000000</td>\n",
       "      <td>17845.000000</td>\n",
       "      <td>17845.000000</td>\n",
       "      <td>17845.000000</td>\n",
       "      <td>...</td>\n",
       "      <td>17845.000000</td>\n",
       "      <td>17845.000000</td>\n",
       "      <td>17845.000000</td>\n",
       "      <td>17845.000000</td>\n",
       "      <td>17845.000000</td>\n",
       "      <td>17845.000000</td>\n",
       "      <td>17845.000000</td>\n",
       "      <td>17845.000000</td>\n",
       "      <td>1.784500e+04</td>\n",
       "      <td>1.784500e+04</td>\n",
       "    </tr>\n",
       "    <tr>\n",
       "      <th>mean</th>\n",
       "      <td>2095.149226</td>\n",
       "      <td>132.801145</td>\n",
       "      <td>0.123060</td>\n",
       "      <td>0.198935</td>\n",
       "      <td>0.098235</td>\n",
       "      <td>0.135500</td>\n",
       "      <td>0.142337</td>\n",
       "      <td>0.158812</td>\n",
       "      <td>0.110283</td>\n",
       "      <td>0.039283</td>\n",
       "      <td>...</td>\n",
       "      <td>0.002914</td>\n",
       "      <td>0.001961</td>\n",
       "      <td>0.001289</td>\n",
       "      <td>0.007845</td>\n",
       "      <td>0.002185</td>\n",
       "      <td>0.000504</td>\n",
       "      <td>0.001681</td>\n",
       "      <td>0.000280</td>\n",
       "      <td>3.078809e+04</td>\n",
       "      <td>9.884316e+09</td>\n",
       "    </tr>\n",
       "    <tr>\n",
       "      <th>std</th>\n",
       "      <td>1013.369023</td>\n",
       "      <td>114.685158</td>\n",
       "      <td>0.328515</td>\n",
       "      <td>0.399210</td>\n",
       "      <td>0.297640</td>\n",
       "      <td>0.342267</td>\n",
       "      <td>0.349405</td>\n",
       "      <td>0.365511</td>\n",
       "      <td>0.313251</td>\n",
       "      <td>0.194272</td>\n",
       "      <td>...</td>\n",
       "      <td>0.053904</td>\n",
       "      <td>0.044245</td>\n",
       "      <td>0.035879</td>\n",
       "      <td>0.088228</td>\n",
       "      <td>0.046699</td>\n",
       "      <td>0.022453</td>\n",
       "      <td>0.040968</td>\n",
       "      <td>0.016737</td>\n",
       "      <td>9.453523e+04</td>\n",
       "      <td>1.183515e+11</td>\n",
       "    </tr>\n",
       "    <tr>\n",
       "      <th>min</th>\n",
       "      <td>500.000000</td>\n",
       "      <td>27.000000</td>\n",
       "      <td>0.000000</td>\n",
       "      <td>0.000000</td>\n",
       "      <td>0.000000</td>\n",
       "      <td>0.000000</td>\n",
       "      <td>0.000000</td>\n",
       "      <td>0.000000</td>\n",
       "      <td>0.000000</td>\n",
       "      <td>0.000000</td>\n",
       "      <td>...</td>\n",
       "      <td>0.000000</td>\n",
       "      <td>0.000000</td>\n",
       "      <td>0.000000</td>\n",
       "      <td>0.000000</td>\n",
       "      <td>0.000000</td>\n",
       "      <td>0.000000</td>\n",
       "      <td>0.000000</td>\n",
       "      <td>0.000000</td>\n",
       "      <td>7.290000e+02</td>\n",
       "      <td>5.314410e+05</td>\n",
       "    </tr>\n",
       "    <tr>\n",
       "      <th>25%</th>\n",
       "      <td>1257.281553</td>\n",
       "      <td>73.348624</td>\n",
       "      <td>0.000000</td>\n",
       "      <td>0.000000</td>\n",
       "      <td>0.000000</td>\n",
       "      <td>0.000000</td>\n",
       "      <td>0.000000</td>\n",
       "      <td>0.000000</td>\n",
       "      <td>0.000000</td>\n",
       "      <td>0.000000</td>\n",
       "      <td>...</td>\n",
       "      <td>0.000000</td>\n",
       "      <td>0.000000</td>\n",
       "      <td>0.000000</td>\n",
       "      <td>0.000000</td>\n",
       "      <td>0.000000</td>\n",
       "      <td>0.000000</td>\n",
       "      <td>0.000000</td>\n",
       "      <td>0.000000</td>\n",
       "      <td>5.380021e+03</td>\n",
       "      <td>2.894462e+07</td>\n",
       "    </tr>\n",
       "    <tr>\n",
       "      <th>50%</th>\n",
       "      <td>2051.260417</td>\n",
       "      <td>103.066667</td>\n",
       "      <td>0.000000</td>\n",
       "      <td>0.000000</td>\n",
       "      <td>0.000000</td>\n",
       "      <td>0.000000</td>\n",
       "      <td>0.000000</td>\n",
       "      <td>0.000000</td>\n",
       "      <td>0.000000</td>\n",
       "      <td>0.000000</td>\n",
       "      <td>...</td>\n",
       "      <td>0.000000</td>\n",
       "      <td>0.000000</td>\n",
       "      <td>0.000000</td>\n",
       "      <td>0.000000</td>\n",
       "      <td>0.000000</td>\n",
       "      <td>0.000000</td>\n",
       "      <td>0.000000</td>\n",
       "      <td>0.000000</td>\n",
       "      <td>1.062274e+04</td>\n",
       "      <td>1.128426e+08</td>\n",
       "    </tr>\n",
       "    <tr>\n",
       "      <th>75%</th>\n",
       "      <td>2719.298246</td>\n",
       "      <td>151.000000</td>\n",
       "      <td>0.000000</td>\n",
       "      <td>0.000000</td>\n",
       "      <td>0.000000</td>\n",
       "      <td>0.000000</td>\n",
       "      <td>0.000000</td>\n",
       "      <td>0.000000</td>\n",
       "      <td>0.000000</td>\n",
       "      <td>0.000000</td>\n",
       "      <td>...</td>\n",
       "      <td>0.000000</td>\n",
       "      <td>0.000000</td>\n",
       "      <td>0.000000</td>\n",
       "      <td>0.000000</td>\n",
       "      <td>0.000000</td>\n",
       "      <td>0.000000</td>\n",
       "      <td>0.000000</td>\n",
       "      <td>0.000000</td>\n",
       "      <td>2.280100e+04</td>\n",
       "      <td>5.198856e+08</td>\n",
       "    </tr>\n",
       "    <tr>\n",
       "      <th>max</th>\n",
       "      <td>6000.000000</td>\n",
       "      <td>1825.000000</td>\n",
       "      <td>1.000000</td>\n",
       "      <td>1.000000</td>\n",
       "      <td>1.000000</td>\n",
       "      <td>1.000000</td>\n",
       "      <td>1.000000</td>\n",
       "      <td>1.000000</td>\n",
       "      <td>1.000000</td>\n",
       "      <td>1.000000</td>\n",
       "      <td>...</td>\n",
       "      <td>1.000000</td>\n",
       "      <td>1.000000</td>\n",
       "      <td>1.000000</td>\n",
       "      <td>1.000000</td>\n",
       "      <td>1.000000</td>\n",
       "      <td>1.000000</td>\n",
       "      <td>1.000000</td>\n",
       "      <td>1.000000</td>\n",
       "      <td>3.330625e+06</td>\n",
       "      <td>1.109306e+13</td>\n",
       "    </tr>\n",
       "  </tbody>\n",
       "</table>\n",
       "<p>8 rows × 79 columns</p>\n",
       "</div>"
      ],
      "text/plain": [
       "          precio_m2  superficie_total  superficieJardines  superficieTerrazas  \\\n",
       "count  17845.000000      17845.000000        17845.000000        17845.000000   \n",
       "mean    2095.149226        132.801145            0.123060            0.198935   \n",
       "std     1013.369023        114.685158            0.328515            0.399210   \n",
       "min      500.000000         27.000000            0.000000            0.000000   \n",
       "25%     1257.281553         73.348624            0.000000            0.000000   \n",
       "50%     2051.260417        103.066667            0.000000            0.000000   \n",
       "75%     2719.298246        151.000000            0.000000            0.000000   \n",
       "max     6000.000000       1825.000000            1.000000            1.000000   \n",
       "\n",
       "       superficieJardinesTerrazas    1_AMBIENTE    2_AMBIENTE    3_AMBIENTE  \\\n",
       "count                17845.000000  17845.000000  17845.000000  17845.000000   \n",
       "mean                     0.098235      0.135500      0.142337      0.158812   \n",
       "std                      0.297640      0.342267      0.349405      0.365511   \n",
       "min                      0.000000      0.000000      0.000000      0.000000   \n",
       "25%                      0.000000      0.000000      0.000000      0.000000   \n",
       "50%                      0.000000      0.000000      0.000000      0.000000   \n",
       "75%                      0.000000      0.000000      0.000000      0.000000   \n",
       "max                      1.000000      1.000000      1.000000      1.000000   \n",
       "\n",
       "         4_AMBIENTE    5_AMBIENTE         ...            tribunales  \\\n",
       "count  17845.000000  17845.000000         ...          17845.000000   \n",
       "mean       0.110283      0.039283         ...              0.002914   \n",
       "std        0.313251      0.194272         ...              0.053904   \n",
       "min        0.000000      0.000000         ...              0.000000   \n",
       "25%        0.000000      0.000000         ...              0.000000   \n",
       "50%        0.000000      0.000000         ...              0.000000   \n",
       "75%        0.000000      0.000000         ...              0.000000   \n",
       "max        1.000000      1.000000         ...              1.000000   \n",
       "\n",
       "       villa_general_mitre  palermo_viejo  villa_lugano  villa_ortuzar  \\\n",
       "count         17845.000000   17845.000000  17845.000000   17845.000000   \n",
       "mean              0.001961       0.001289      0.007845       0.002185   \n",
       "std               0.044245       0.035879      0.088228       0.046699   \n",
       "min               0.000000       0.000000      0.000000       0.000000   \n",
       "25%               0.000000       0.000000      0.000000       0.000000   \n",
       "50%               0.000000       0.000000      0.000000       0.000000   \n",
       "75%               0.000000       0.000000      0.000000       0.000000   \n",
       "max               1.000000       1.000000      1.000000       1.000000   \n",
       "\n",
       "       villa_soldati    villa_real  villa_riachuelo  superficie_total_2  \\\n",
       "count   17845.000000  17845.000000     17845.000000        1.784500e+04   \n",
       "mean        0.000504      0.001681         0.000280        3.078809e+04   \n",
       "std         0.022453      0.040968         0.016737        9.453523e+04   \n",
       "min         0.000000      0.000000         0.000000        7.290000e+02   \n",
       "25%         0.000000      0.000000         0.000000        5.380021e+03   \n",
       "50%         0.000000      0.000000         0.000000        1.062274e+04   \n",
       "75%         0.000000      0.000000         0.000000        2.280100e+04   \n",
       "max         1.000000      1.000000         1.000000        3.330625e+06   \n",
       "\n",
       "       superficie_total_3  \n",
       "count        1.784500e+04  \n",
       "mean         9.884316e+09  \n",
       "std          1.183515e+11  \n",
       "min          5.314410e+05  \n",
       "25%          2.894462e+07  \n",
       "50%          1.128426e+08  \n",
       "75%          5.198856e+08  \n",
       "max          1.109306e+13  \n",
       "\n",
       "[8 rows x 79 columns]"
      ]
     },
     "execution_count": 7,
     "metadata": {},
     "output_type": "execute_result"
    }
   ],
   "source": [
    "modeloMatriz.describe()"
   ]
  },
  {
   "cell_type": "code",
   "execution_count": null,
   "metadata": {},
   "outputs": [],
   "source": []
  },
  {
   "cell_type": "code",
   "execution_count": null,
   "metadata": {},
   "outputs": [],
   "source": []
  },
  {
   "cell_type": "code",
   "execution_count": null,
   "metadata": {},
   "outputs": [],
   "source": []
  },
  {
   "cell_type": "code",
   "execution_count": null,
   "metadata": {},
   "outputs": [],
   "source": []
  },
  {
   "cell_type": "code",
   "execution_count": 38,
   "metadata": {},
   "outputs": [
    {
     "data": {
      "image/png": "[encoded data removed]",
      "text/plain": [
       "<Figure size 432x288 with 1 Axes>"
      ]
     },
     "metadata": {},
     "output_type": "display_data"
    },
    {
     "name": "stdout",
     "output_type": "stream",
     "text": [
      "CROSS VALIDATION: 3.6304157906563717e-05 0.39310153820102645 0.41694878924205975 0.34974838473183045 0.38726907422851375\n",
      "MAE: 19405635829.805634\n",
      "MSE: 1.085429071482973e+21\n",
      "RMSE: 32945850595.833355\n",
      "EL R2 TRAIN ES DE:  0.39978306297706234\n",
      "EL R2 TEST ES DE:  -1.0854290714829733e+21\n"
     ]
    },
    {
     "data": {
      "text/plain": [
       "LinearRegression(copy_X=True, fit_intercept=False, n_jobs=1, normalize=False)"
      ]
     },
     "execution_count": 38,
     "metadata": {},
     "output_type": "execute_result"
    }
   ],
   "source": [
    "utl.modelo_regresion_lineal_normalizar_antes(modeloMatriz)"
   ]
  },
  {
   "cell_type": "markdown",
   "metadata": {},
   "source": [
    "### Regresion Lineal Multiple"
   ]
  },
  {
   "cell_type": "code",
   "execution_count": 13,
   "metadata": {},
   "outputs": [
    {
     "name": "stderr",
     "output_type": "stream",
     "text": [
      "/home/DS-DH/notebooks/digitalHouse/modelo-properatti/Util.py:152: FutureWarning: Method .as_matrix will be removed in a future version. Use .values instead.\n",
      "  xs = xs.as_matrix()\n",
      "/home/DS-DH/notebooks/digitalHouse/modelo-properatti/Util.py:154: FutureWarning: Method .as_matrix will be removed in a future version. Use .values instead.\n",
      "  y = y.as_matrix()\n"
     ]
    },
    {
     "data": {
      "image/png": "[encoded data removed]",
      "text/plain": [
       "<Figure size 432x288 with 1 Axes>"
      ]
     },
     "metadata": {},
     "output_type": "display_data"
    },
    {
     "name": "stdout",
     "output_type": "stream",
     "text": [
      "CROSS VALIDATION: 0.16811194637424887 0.19414258506610826 0.11945979343060309 0.14096555557342427 0.1959180811616501\n",
      "MAE: 527.8140424222252\n",
      "MSE: 443882.9780643327\n",
      "RMSE: 666.2454338037393\n",
      "EL R2 TRAIN ES DE:  0.20915757583029848\n",
      "EL R2 TEST ES DE:  0.13613830983661201\n"
     ]
    }
   ],
   "source": [
    "modelo = utl.modelo_regresion_lineal(modeloMatriz)"
   ]
  },
  {
   "cell_type": "code",
   "execution_count": 12,
   "metadata": {},
   "outputs": [
    {
     "data": {
      "text/plain": [
       "(5955, 79)"
      ]
     },
     "execution_count": 12,
     "metadata": {},
     "output_type": "execute_result"
    }
   ],
   "source": [
    "modeloMatriz.shape"
   ]
  },
  {
   "cell_type": "code",
   "execution_count": 7,
   "metadata": {},
   "outputs": [],
   "source": [
    "    data['categorias_superficie_total_m2'] = pd.qcut(data.surface_total_in_m2,20)\n",
    "    data['categorias_precios_aprox_usd'] = pd.qcut(data.price_aprox_usd,20)\n",
    "    df_precio_sup_total = pd.DataFrame(data.groupby(['state_name','place_name','property_type','categorias_superficie_total_m2','categorias_precios_aprox_usd'])['price_usd_per_m2'].mean())\n",
    "    serie_imputada_precio_sup_total = data.merge(df_precio_sup_total,how='left',left_on=['state_name','place_name','property_type','categorias_superficie_total_m2','categorias_precios_aprox_usd'], right_on=['state_name','place_name','property_type','categorias_superficie_total_m2','categorias_precios_aprox_usd'])['price_usd_per_m2_y']            \n",
    "    data.imputar_precios_m2.update(serie_imputada_precio_sup_total)\n",
    "    data.imputar_precios_m2.update(data.price_usd_per_m2)\n"
   ]
  },
  {
   "cell_type": "code",
   "execution_count": 9,
   "metadata": {},
   "outputs": [],
   "source": [
    "data['categorias_precios_aprox_usd'] = pd.qcut(data.price_aprox_usd,5)"
   ]
  },
  {
   "cell_type": "code",
   "execution_count": 10,
   "metadata": {},
   "outputs": [],
   "source": [
    "df_precio_sup_total = pd.DataFrame(data.groupby(['state_name','place_name','property_type','categorias_superficie_total_m2','categorias_precios_aprox_usd'])['price_usd_per_m2'].mean())\n",
    "serie_imputada_precio_sup_total = data.merge(df_precio_sup_total,how='left',left_on=['state_name','place_name','property_type','categorias_superficie_total_m2','categorias_precios_aprox_usd'], right_on=['state_name','place_name','property_type','categorias_superficie_total_m2','categorias_precios_aprox_usd'])['price_usd_per_m2_y']            \n",
    "data.imputar_precios_m2.update(serie_imputada_precio_sup_total)\n",
    "data.imputar_precios_m2.update(data.price_usd_per_m2)\n"
   ]
  },
  {
   "cell_type": "code",
   "execution_count": 4,
   "metadata": {},
   "outputs": [],
   "source": [
    "def imputarPrecioM2(p_data):\n",
    "\n",
    "    data = p_data\n",
    "\n",
    "    data['imputar_precios_m2'] = np.nan\n",
    "\n",
    "    data['categorias_superficie_total_m2'] = pd.qcut(data.surface_total_in_m2,5)\n",
    "    data['categorias_precios_aprox_usd'] = pd.qcut(data.categorias_precios_aprox_usd,5)\n",
    "    df_precio_sup_total = pd.DataFrame(data.groupby(['state_name','place_name','property_type','categorias_superficie_total_m2','categorias_precios_aprox_usd'])['price_usd_per_m2'].mean())\n",
    "    serie_imputada_precio_sup_total = data.merge(df_precio_sup_total,how='left',left_on=['state_name','place_name','property_type','categorias_superficie_total_m2','categorias_precios_aprox_usd'], right_on=['state_name','place_name','property_type','categorias_superficie_total_m2','categorias_precios_aprox_usd'])['price_usd_per_m2_y']            \n",
    "    data.imputar_precios_m2.update(serie_imputada_precio_sup_total)\n",
    "    data.imputar_precios_m2.update(data.price_usd_per_m2)\n",
    "\n",
    "    \n",
    "\n",
    "\n",
    "    return data.imputar_precios_m2"
   ]
  },
  {
   "cell_type": "code",
   "execution_count": null,
   "metadata": {},
   "outputs": [],
   "source": []
  },
  {
   "cell_type": "markdown",
   "metadata": {},
   "source": [
    "#### Regresion Ridge"
   ]
  },
  {
   "cell_type": "code",
   "execution_count": 13,
   "metadata": {},
   "outputs": [
    {
     "name": "stderr",
     "output_type": "stream",
     "text": [
      "/home/DS-DH/notebooks/digitalHouse/modelo-properatti/Util.py:59: FutureWarning: Method .as_matrix will be removed in a future version. Use .values instead.\n",
      "  xs = xs.as_matrix()\n",
      "/home/DS-DH/notebooks/digitalHouse/modelo-properatti/Util.py:60: FutureWarning: Method .as_matrix will be removed in a future version. Use .values instead.\n",
      "  y = y.as_matrix()\n"
     ]
    },
    {
     "name": "stdout",
     "output_type": "stream",
     "text": [
      "REGULARIZACION CON RIDGE\n",
      "CROSS VALIDATION: 0.41177902671143424 0.4099727965317605 0.4050549886001112 0.43569668377208676 0.4044968691831607\n",
      "MAE RIDGE: 570.3298053871952\n",
      "MSE RIDGE: 633289.6764642397\n",
      "RMSE RIDGE: 795.7949965061604\n",
      "RIDGE -> R2 TRAIN:  0.4211343474806727\n",
      "RIDGE -> R2 TEST:  0.3925377606279611\n"
     ]
    },
    {
     "data": {
      "text/plain": [
       "(2910.2750037470505,\n",
       " array([-4.94164922e+00, -8.14011458e+01,  3.57259558e+01,  3.67695180e+01,\n",
       "        -2.79835028e+02, -2.53486231e+02, -1.84405967e+02,  1.41490340e+01,\n",
       "         1.64632875e+02,  2.80604624e+02,  3.82858212e+02,  2.80083662e+02,\n",
       "        -2.67521800e+02, -2.77305514e+01, -7.68586956e+02, -6.47699383e+02,\n",
       "         5.21051495e+02, -6.44686039e+01,  6.03070426e+02, -4.87748740e+02,\n",
       "        -4.58126141e+02,  9.45181590e+02,  2.18962477e+03, -6.46146601e+02,\n",
       "        -1.04875980e+02,  2.34002135e+02, -2.14713251e+02, -3.40189730e+02,\n",
       "         3.53405594e+01,  4.40583593e+02, -4.17880406e+02,  7.06739812e+02,\n",
       "        -6.06677171e+01, -8.76532722e+02, -1.52887964e+02,  7.79193975e+01,\n",
       "        -1.64840570e+02, -1.12245266e+03, -6.76682017e+02, -5.86910793e+02,\n",
       "        -4.07501745e+02, -4.23960220e+02, -2.34881008e+01, -1.15119565e+02,\n",
       "        -3.26558987e+02, -3.98074070e+02,  1.19431396e+03, -2.12687186e+02,\n",
       "        -5.21206549e+02, -2.56804015e+02, -7.84563872e+02, -8.13152189e+02,\n",
       "        -3.38498607e+02, -5.87032525e+02, -5.76805627e+02, -7.03388189e+02,\n",
       "        -5.07916072e+02, -5.68078139e+02,  4.20334393e+02, -6.03792694e+02,\n",
       "        -4.11477862e+02, -3.77075471e+02, -4.74900898e+02, -9.28174836e+01,\n",
       "        -6.92834523e+02, -3.09041259e+02, -5.63233401e+02,  2.29009360e+03,\n",
       "        -5.85326104e+02,  2.29410947e+02, -1.10401177e+03, -6.30371020e+01,\n",
       "        -1.49020125e+02, -1.19709360e+03, -6.56173062e+02, -1.15438573e+03,\n",
       "         2.34149706e-03]))"
      ]
     },
     "execution_count": 13,
     "metadata": {},
     "output_type": "execute_result"
    },
    {
     "data": {
      "image/png": "[encoded data removed]",
      "text/plain": [
       "<Figure size 432x288 with 1 Axes>"
      ]
     },
     "metadata": {},
     "output_type": "display_data"
    }
   ],
   "source": [
    "modelo_ridge = utl.modelo_ridge_cross_validation(modeloMatriz)\n",
    "(modelo_ridge.intercept_,modelo_ridge.coef_)"
   ]
  },
  {
   "cell_type": "markdown",
   "metadata": {},
   "source": [
    "#### Lasso Regression"
   ]
  },
  {
   "cell_type": "code",
   "execution_count": null,
   "metadata": {},
   "outputs": [],
   "source": []
  },
  {
   "cell_type": "code",
   "execution_count": 15,
   "metadata": {},
   "outputs": [
    {
     "name": "stderr",
     "output_type": "stream",
     "text": [
      "/home/DS-DH/notebooks/digitalHouse/modelo-properatti/Util.py:23: FutureWarning: Method .as_matrix will be removed in a future version. Use .values instead.\n",
      "  xs = xs.as_matrix()\n",
      "/home/DS-DH/notebooks/digitalHouse/modelo-properatti/Util.py:24: FutureWarning: Method .as_matrix will be removed in a future version. Use .values instead.\n",
      "  y = y.as_matrix()\n"
     ]
    },
    {
     "name": "stdout",
     "output_type": "stream",
     "text": [
      "LASSO REGRESSION\n",
      "CROSS VALIDATION: 0.40730651766606785 0.43110759227616535 0.3921728520771691 0.41509570264877627 0.41450356097286245\n",
      "MAE LASSO: 580.9499006402381\n",
      "MSE LASSO: 658252.3179761947\n",
      "RMSE LASSO: 811.3275035250529\n",
      "LASSO -> R2 TRAIN:  0.4205598876640288\n",
      "LASSO -> R2 TEST:  0.3966747349320646\n"
     ]
    },
    {
     "data": {
      "text/plain": [
       "(2670.2542032572355,\n",
       " array([-5.34269069e+00, -7.29220342e+01,  3.17195372e+01,  5.06615821e+00,\n",
       "        -2.74519675e+02, -2.52781440e+02, -1.55879568e+02,  5.05234639e+01,\n",
       "         1.80799476e+02,  3.29871873e+02,  3.66889258e+02,  3.32487126e+02,\n",
       "        -2.42576672e+02, -0.00000000e+00, -5.33313513e+02, -3.79634213e+02,\n",
       "         7.65316594e+02, -0.00000000e+00,  8.06649280e+02, -2.73928204e+02,\n",
       "        -2.47929254e+02,  1.32470163e+03,  2.50355753e+03, -3.83423669e+02,\n",
       "         1.12475105e+02,  5.17452439e+02, -0.00000000e+00,  1.29796496e+01,\n",
       "         2.96645420e+02,  6.06075899e+02, -1.74264678e+02,  9.01713123e+02,\n",
       "         1.53349398e+02, -5.64676554e+02,  9.41126098e+01,  5.61390669e+01,\n",
       "         6.29199700e+01, -8.73465399e+02, -2.95146819e+02, -4.01956430e+02,\n",
       "        -4.26162204e+01, -1.77353605e+02,  1.88773916e+02,  7.54862722e+01,\n",
       "        -1.01750476e+02, -1.81960269e+02,  1.05872222e+03, -1.81176225e+02,\n",
       "        -2.85984800e+02, -0.00000000e+00, -4.93936683e+02, -4.08056215e+02,\n",
       "         3.36946670e+00, -9.93991498e+01, -3.24760395e+02, -3.90429725e+02,\n",
       "        -1.94374266e+02, -1.53568455e+02,  5.24167950e+02, -4.46797719e+02,\n",
       "        -1.14687052e+02, -1.35526485e+02, -2.36717545e+02,  3.89575094e+01,\n",
       "        -3.70463702e+02, -7.42179437e+01, -9.54719100e+01,  1.40368899e+03,\n",
       "        -2.36126725e+02,  2.08676819e+02, -7.90796887e+02,  2.10771198e+02,\n",
       "         8.94569855e+01, -8.55762422e+02, -3.47396051e+02, -8.08420163e+02,\n",
       "         2.38483347e-03]))"
      ]
     },
     "execution_count": 15,
     "metadata": {},
     "output_type": "execute_result"
    },
    {
     "data": {
      "image/png": "[encoded data removed]",
      "text/plain": [
       "<Figure size 432x288 with 1 Axes>"
      ]
     },
     "metadata": {},
     "output_type": "display_data"
    }
   ],
   "source": [
    "modelo_lasso = utl.modelo_lasso_cross_validation(modeloMatriz)\n",
    "(modelo_lasso.intercept_,modelo_lasso.coef_)"
   ]
  },
  {
   "cell_type": "markdown",
   "metadata": {},
   "source": [
    "## PARAMETROS A PREDECIR\n",
    "###### PARA LA PREDICCION DE PRECIOS POR M2 DE ALQUILERES EN CAPITAL FEDERAL\n",
    "## NORMALIZAR O NO.. DEPENDE EL MODELO A USAR"
   ]
  },
  {
   "cell_type": "code",
   "execution_count": 50,
   "metadata": {},
   "outputs": [
    {
     "name": "stderr",
     "output_type": "stream",
     "text": [
      "/home/DS-DH/notebooks/digitalHouse/modelo-properatti/Util.py:336: UserWarning: Pandas doesn't allow columns to be created via a new attribute name - see https://pandas.pydata.org/pandas-docs/stable/indexing.html#attribute-access\n",
      "  predecir_data.superficie_total_2 = predecir_data.superficie_total**2\n"
     ]
    },
    {
     "data": {
      "text/plain": [
       "'EL RESULTADO DEL MODELO PARA LAS VARIABLES INGRESADAS ES DE 2400 U$D POR M2'"
      ]
     },
     "execution_count": 50,
     "metadata": {},
     "output_type": "execute_result"
    }
   ],
   "source": [
    "SUPERFICIE_TOTAL = 150           ##  [0,600]\n",
    "JARDIN = '0'                      ##  0,1\n",
    "TERRAZA = '1'                     ##  0,1\n",
    "CANTIDAD_DE_AMBIENTES = '2'       ##  1,2,3,4,4,5,6,7\n",
    "TIPO_DE_PROPIEDAD = 'CASA'        ##  CASA, PH, DTO\n",
    "BARRIO = 'flores'               ##  barrios de CABA, en minusculas\n",
    "\n",
    "nuevos_Feactures = utl.nuevosDatos(modeloMatriz, SUPERFICIE_TOTAL, JARDIN, TERRAZA, CANTIDAD_DE_AMBIENTES, TIPO_DE_PROPIEDAD, BARRIO)\n",
    "y_predict = modelo_lasso.predict(nuevos_Feactures)\n",
    "\n",
    "'EL RESULTADO DEL MODELO PARA LAS VARIABLES INGRESADAS ES DE {} U$D POR M2'.format(y_predict[0].astype(int))\n"
   ]
  }
 ],
 "metadata": {
  "kernelspec": {
   "display_name": "Python 3",
   "language": "python",
   "name": "python3"
  },
  "language_info": {
   "codemirror_mode": {
    "name": "ipython",
    "version": 3
   },
   "file_extension": ".py",
   "mimetype": "text/x-python",
   "name": "python",
   "nbconvert_exporter": "python",
   "pygments_lexer": "ipython3",
   "version": "3.6.6"
  }
 },
 "nbformat": 4,
 "nbformat_minor": 2
}
