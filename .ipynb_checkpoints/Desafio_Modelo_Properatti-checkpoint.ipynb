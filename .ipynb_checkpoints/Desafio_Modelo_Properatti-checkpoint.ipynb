{
 "cells": [
  {
   "cell_type": "markdown",
   "metadata": {},
   "source": [
    "# DESAFIO MODELO PROPERATTI"
   ]
  },
  {
   "cell_type": "code",
   "execution_count": 1,
   "metadata": {},
   "outputs": [
    {
     "name": "stderr",
     "output_type": "stream",
     "text": [
      "/opt/conda/lib/python3.6/site-packages/sklearn/cross_validation.py:41: DeprecationWarning: This module was deprecated in version 0.18 in favor of the model_selection module into which all the refactored classes and functions are moved. Also note that the interface of the new CV iterators are different from that of this module. This module will be removed in 0.20.\n",
      "  \"This module will be removed in 0.20.\", DeprecationWarning)\n"
     ]
    }
   ],
   "source": [
    "import pandas as pd\n",
    "import Util as utl"
   ]
  },
  {
   "cell_type": "markdown",
   "metadata": {},
   "source": [
    "#### SE PONEN NULLABLE LOS OUTLIERS Y SON IMPUTADOS   .......... z-score  [0.80]"
   ]
  },
  {
   "cell_type": "code",
   "execution_count": 2,
   "metadata": {},
   "outputs": [
    {
     "name": "stderr",
     "output_type": "stream",
     "text": [
      "/home/DS-DH/jupyter/digitalHouse/modelo-properatti/Util.py:585: UserWarning: Pandas doesn't allow columns to be created via a new attribute name - see https://pandas.pydata.org/pandas-docs/stable/indexing.html#attribute-access\n",
      "  data.ambientesImputados = ImputarAmbientesProceso(data,10)\n"
     ]
    }
   ],
   "source": [
    "data = pd.read_csv('/home/DS-DH/jupyter/digitalHouse/properatti.csv')\n",
    "data = utl.limpiarDatos(data,0.80)\n",
    "#data = pd.read_csv('/home/DS-DH/jupyter/digitalHouse/data.csv',sep='|')\n",
    "#data.to_csv('/home/DS-DH/jupyter/digitalHouse/data.csv',sep='|')\n",
    "matriz = utl.GenerarMatriz(data)"
   ]
  },
  {
   "cell_type": "markdown",
   "metadata": {},
   "source": [
    "#### SE GENERAN LAS DUMMYS PARA EL MODELO"
   ]
  },
  {
   "cell_type": "code",
   "execution_count": 3,
   "metadata": {},
   "outputs": [
    {
     "data": {
      "text/plain": [
       "(10064, 77)"
      ]
     },
     "execution_count": 3,
     "metadata": {},
     "output_type": "execute_result"
    }
   ],
   "source": [
    "modeloMatriz = utl.generarDummies(matriz)\n",
    "modeloMatriz.shape"
   ]
  },
  {
   "cell_type": "markdown",
   "metadata": {},
   "source": [
    "#### SE LIMPIAN VARIABLES APLICANDO RECURSIVAMENtE LASSO"
   ]
  },
  {
   "cell_type": "code",
   "execution_count": 4,
   "metadata": {},
   "outputs": [],
   "source": [
    "#modeloMatriz_2 = utl.eliminar_features_lasso(modeloMatriz)\n",
    "#modeloMatriz_2.shape"
   ]
  },
  {
   "cell_type": "markdown",
   "metadata": {},
   "source": [
    "#### SE LIMPIAN VARIABLES CON CORRELACION BAJA "
   ]
  },
  {
   "cell_type": "code",
   "execution_count": 5,
   "metadata": {},
   "outputs": [
    {
     "data": {
      "text/plain": [
       "(10064, 31)"
      ]
     },
     "execution_count": 5,
     "metadata": {},
     "output_type": "execute_result"
    }
   ],
   "source": [
    "modeloMatriz_3 = utl.eliminar_features(modeloMatriz)\n",
    "modeloMatriz_3.shape"
   ]
  },
  {
   "cell_type": "markdown",
   "metadata": {},
   "source": [
    "#### STATS MODELS"
   ]
  },
  {
   "cell_type": "code",
   "execution_count": 6,
   "metadata": {},
   "outputs": [
    {
     "name": "stdout",
     "output_type": "stream",
     "text": [
      "EMC: 105536.63237670413\n",
      "                            OLS Regression Results                            \n",
      "==============================================================================\n",
      "Dep. Variable:              precio_m2   R-squared:                       0.807\n",
      "Model:                            OLS   Adj. R-squared:                  0.806\n",
      "Method:                 Least Squares   F-statistic:                     577.7\n",
      "Date:                Tue, 05 May 2020   Prob (F-statistic):               0.00\n",
      "Time:                        00:02:34   Log-Likelihood:                -28970.\n",
      "No. Observations:                4025   AIC:                         5.800e+04\n",
      "Df Residuals:                    3995   BIC:                         5.819e+04\n",
      "Df Model:                          29                                         \n",
      "Covariance Type:            nonrobust                                         \n",
      "==============================================================================================\n",
      "                                 coef    std err          t      P>|t|      [0.025      0.975]\n",
      "----------------------------------------------------------------------------------------------\n",
      "superficie_total              -0.4178      0.063     -6.580      0.000      -0.542      -0.293\n",
      "superficieJardines            12.4028     18.192      0.682      0.495     -23.264      48.069\n",
      "superficieJardinesTerrazas    23.0261     21.948      1.049      0.294     -20.004      66.056\n",
      "CASA                        1643.9048     32.822     50.085      0.000    1579.555    1708.255\n",
      "PH                          1717.5051     25.470     67.432      0.000    1667.569    1767.441\n",
      "DTO                         2353.6364      9.784    240.569      0.000    2334.455    2372.818\n",
      "mataderos                   -485.2066     50.388     -9.629      0.000    -583.995    -386.418\n",
      "belgrano                     660.3782     18.213     36.258      0.000     624.670     696.086\n",
      "palermo_soho                 -37.0955     55.003     -0.674      0.500    -144.932      70.740\n",
      "palermo                      759.2406     18.115     41.913      0.000     723.725     794.756\n",
      "flores                      -287.2726     27.631    -10.397      0.000    -341.444    -233.101\n",
      "boedo                       -597.4378     37.101    -16.103      0.000    -670.177    -524.698\n",
      "balvanera                   -447.0967     33.453    -13.365      0.000    -512.683    -381.510\n",
      "nunez                        569.1159     33.286     17.098      0.000     503.857     634.374\n",
      "almagro                     -111.4134     26.998     -4.127      0.000    -164.345     -58.482\n",
      "capital_federal             -355.7561     32.300    -11.014      0.000    -419.081    -292.431\n",
      "barracas                    -273.1530     37.759     -7.234      0.000    -347.182    -199.124\n",
      "las_canitas                 1051.9870     61.984     16.972      0.000     930.464    1173.510\n",
      "recoleta                     774.4046     24.408     31.728      0.000     726.552     822.257\n",
      "puerto_madero               2785.6907     42.552     65.465      0.000    2702.264    2869.117\n",
      "barrio_norte                 505.3300     28.842     17.521      0.000     448.783     561.877\n",
      "palermo_hollywood             27.5438     40.483      0.680      0.496     -51.826     106.914\n",
      "floresta                    -118.1674     52.637     -2.245      0.025    -221.365     -14.970\n",
      "boca                        -666.3351     68.243     -9.764      0.000    -800.129    -532.541\n",
      "san_cristobal               -313.1633     39.750     -7.878      0.000    -391.095    -235.232\n",
      "liniers                     -321.7825     41.393     -7.774      0.000    -402.935    -240.630\n",
      "constitucion                -531.7125     63.058     -8.432      0.000    -655.341    -408.084\n",
      "parque_patricios            -448.8076     60.928     -7.366      0.000    -568.260    -329.356\n",
      "palermo_chico               1060.3626     62.520     16.960      0.000     937.788    1182.937\n",
      "villa_lugano                -833.2440     64.646    -12.889      0.000    -959.986    -706.502\n",
      "==============================================================================\n",
      "Omnibus:                      157.161   Durbin-Watson:                   1.993\n",
      "Prob(Omnibus):                  0.000   Jarque-Bera (JB):              234.177\n",
      "Skew:                           0.369   Prob(JB):                     1.41e-51\n",
      "Kurtosis:                       3.922   Cond. No.                     2.17e+03\n",
      "==============================================================================\n",
      "\n",
      "Warnings:\n",
      "[1] Standard Errors assume that the covariance matrix of the errors is correctly specified.\n",
      "[2] The condition number is large, 2.17e+03. This might indicate that there are\n",
      "strong multicollinearity or other numerical problems.\n"
     ]
    },
    {
     "data": {
      "text/plain": [
       "<statsmodels.regression.linear_model.RegressionResultsWrapper at 0x7fb7b2020be0>"
      ]
     },
     "execution_count": 6,
     "metadata": {},
     "output_type": "execute_result"
    }
   ],
   "source": [
    "utl.summary(modeloMatriz_30_variables)"
   ]
  },
  {
   "cell_type": "markdown",
   "metadata": {},
   "source": [
    "### Regresion Lineal Multiple"
   ]
  },
  {
   "cell_type": "code",
   "execution_count": 7,
   "metadata": {},
   "outputs": [
    {
     "name": "stderr",
     "output_type": "stream",
     "text": [
      "/home/DS-DH/jupyter/digitalHouse/modelo-properatti/Util.py:243: FutureWarning: Method .as_matrix will be removed in a future version. Use .values instead.\n",
      "  xs = xs.as_matrix()\n",
      "/home/DS-DH/jupyter/digitalHouse/modelo-properatti/Util.py:245: FutureWarning: Method .as_matrix will be removed in a future version. Use .values instead.\n",
      "  y = y.as_matrix()\n"
     ]
    },
    {
     "data": {
      "image/png": "[encoded data removed]",
      "text/plain": [
       "<Figure size 432x288 with 1 Axes>"
      ]
     },
     "metadata": {
      "needs_background": "light"
     },
     "output_type": "display_data"
    },
    {
     "name": "stdout",
     "output_type": "stream",
     "text": [
      "CROSS VALIDATION: 0.7983547001469774 0.8106183076865853 0.8051213798119718 0.8086072142033041 0.7767366445356036\n",
      "MAE: 262.2635526957421\n",
      "MSE: 107172.87054255095\n",
      "RMSE: 327.37267836908893\n",
      "EL R2 TRAIN ES DE:  0.8033387398715051\n",
      "EL R2 TEST ES DE:  0.8013938362305936\n"
     ]
    }
   ],
   "source": [
    "modelo = utl.modelo_regresion_lineal(modeloMatriz_30_variables)"
   ]
  },
  {
   "cell_type": "markdown",
   "metadata": {},
   "source": [
    "#### Regresion Ridge"
   ]
  },
  {
   "cell_type": "code",
   "execution_count": 8,
   "metadata": {},
   "outputs": [
    {
     "name": "stderr",
     "output_type": "stream",
     "text": [
      "/home/DS-DH/jupyter/digitalHouse/modelo-properatti/Util.py:144: FutureWarning: Method .as_matrix will be removed in a future version. Use .values instead.\n",
      "  xs = xs.as_matrix()\n",
      "/home/DS-DH/jupyter/digitalHouse/modelo-properatti/Util.py:145: FutureWarning: Method .as_matrix will be removed in a future version. Use .values instead.\n",
      "  y = y.as_matrix()\n"
     ]
    },
    {
     "name": "stdout",
     "output_type": "stream",
     "text": [
      "REGULARIZACION CON RIDGE\n",
      "CROSS VALIDATION: 0.8019165018691736 0.7905892513219054 0.8079698590156897 0.8033412792705854 0.8235776839093881\n",
      "MAE RIDGE: 261.2756907203245\n",
      "MSE RIDGE: 104804.93933680971\n",
      "RMSE RIDGE: 323.73590986606615\n",
      "RIDGE -> R2 TRAIN:  0.8078160742781699\n",
      "RIDGE -> R2 TEST:  0.7957277783888167\n"
     ]
    },
    {
     "data": {
      "text/plain": [
       "(2007.9771539119015,\n",
       " array([-3.49460200e-01, -1.10167385e+01,  2.96987553e+01, -3.81312931e+02,\n",
       "        -2.65023635e+02,  3.56501777e+02, -5.12074025e+02,  6.53593310e+02,\n",
       "         4.19129399e+01,  7.51010183e+02, -3.06883487e+02, -5.66423570e+02,\n",
       "        -4.58351265e+02,  5.50030654e+02, -1.42647228e+02, -3.85054836e+02,\n",
       "        -3.14729687e+02,  9.68144779e+02,  7.71006136e+02,  2.75942004e+03,\n",
       "         4.92642876e+02, -2.12070122e+01, -1.38316013e+02, -6.60269746e+02,\n",
       "        -3.79419104e+02, -3.66993290e+02, -5.58300167e+02, -4.78774329e+02,\n",
       "         1.11809551e+03, -8.56526106e+02]))"
      ]
     },
     "execution_count": 8,
     "metadata": {},
     "output_type": "execute_result"
    },
    {
     "data": {
      "image/png": "[encoded data removed]",
      "text/plain": [
       "<Figure size 432x288 with 1 Axes>"
      ]
     },
     "metadata": {
      "needs_background": "light"
     },
     "output_type": "display_data"
    }
   ],
   "source": [
    "modelo_ridge = utl.modelo_ridge_cross_validation(modeloMatriz_30_variables)\n",
    "(modelo_ridge.intercept_,modelo_ridge.coef_)"
   ]
  },
  {
   "cell_type": "markdown",
   "metadata": {},
   "source": [
    "#### Lasso Regression"
   ]
  },
  {
   "cell_type": "code",
   "execution_count": 9,
   "metadata": {
    "scrolled": false
   },
   "outputs": [
    {
     "name": "stderr",
     "output_type": "stream",
     "text": [
      "/home/DS-DH/jupyter/digitalHouse/modelo-properatti/Util.py:108: FutureWarning: Method .as_matrix will be removed in a future version. Use .values instead.\n",
      "  xs = xs.as_matrix()\n",
      "/home/DS-DH/jupyter/digitalHouse/modelo-properatti/Util.py:109: FutureWarning: Method .as_matrix will be removed in a future version. Use .values instead.\n",
      "  y = y.as_matrix()\n"
     ]
    },
    {
     "name": "stdout",
     "output_type": "stream",
     "text": [
      "LASSO REGRESSION\n",
      "CROSS VALIDATION: 0.7921320390994359 0.798178293940778 0.7956835303976703 0.82188222187613 0.7935583838335749\n",
      "MAE LASSO: 264.798445269831\n",
      "MSE LASSO: 107025.62498214141\n",
      "RMSE LASSO: 327.147711259213\n",
      "LASSO -> R2 TRAIN:  0.8032848266573072\n",
      "LASSO -> R2 TEST:  0.8024475926253509\n"
     ]
    },
    {
     "data": {
      "text/plain": [
       "(1783.9919178369455,\n",
       " array([-3.34479952e-01, -1.18858129e+01,  9.38414199e+00, -1.36208310e+02,\n",
       "        -0.00000000e+00,  5.74860478e+02, -5.29535845e+02,  6.61367592e+02,\n",
       "         5.47959042e+01,  7.69425619e+02, -2.94231258e+02, -6.05722713e+02,\n",
       "        -4.34498058e+02,  5.51659431e+02, -1.39105297e+02, -3.66499886e+02,\n",
       "        -3.60940154e+02,  1.02305063e+03,  7.74229499e+02,  2.76303993e+03,\n",
       "         4.87183714e+02, -4.07462016e+01, -1.27671559e+02, -6.52748886e+02,\n",
       "        -3.55618673e+02, -3.50714210e+02, -5.52916539e+02, -5.07551757e+02,\n",
       "         1.04408450e+03, -8.06459183e+02]))"
      ]
     },
     "execution_count": 9,
     "metadata": {},
     "output_type": "execute_result"
    },
    {
     "data": {
      "image/png": "[encoded data removed]",
      "text/plain": [
       "<Figure size 432x288 with 1 Axes>"
      ]
     },
     "metadata": {
      "needs_background": "light"
     },
     "output_type": "display_data"
    }
   ],
   "source": [
    "modelo_lasso = utl.modelo_lasso_cross_validation(modeloMatriz_30_variables)\n",
    "(modelo_lasso.intercept_,modelo_lasso.coef_)"
   ]
  },
  {
   "cell_type": "markdown",
   "metadata": {},
   "source": [
    "## PARAMETROS A PREDECIR\n",
    "###### PARA LA PREDICCION DE PRECIOS POR M2 DE ALQUILERES EN CAPITAL FEDERAL\n",
    "## NORMALIZAR O NO.. DEPENDE EL MODELO A USAR"
   ]
  },
  {
   "cell_type": "code",
   "execution_count": 8,
   "metadata": {},
   "outputs": [
    {
     "data": {
      "text/plain": [
       "'EL RESULTADO DEL MODELO PARA LAS VARIABLES INGRESADAS ES DE 2277 U$D POR M2'"
      ]
     },
     "execution_count": 8,
     "metadata": {},
     "output_type": "execute_result"
    }
   ],
   "source": [
    "SUPERFICIE_TOTAL = 30             ##  [0,600]\n",
    "JARDIN = '0'                      ##  0,1\n",
    "TERRAZA = '1'                     ##  0,1\n",
    "CANTIDAD_DE_AMBIENTES = '1'       ##  1,2,3,4,4,5,6,7\n",
    "TIPO_DE_PROPIEDAD = 'DTO'         ##  CASA, PH, DTO\n",
    "BARRIO = 'belgrano'          ##  barrios de CABA, en minusculas\n",
    "\n",
    "nuevos_Feactures = utl.nuevosDatos(modeloMatriz_3, SUPERFICIE_TOTAL, JARDIN, TERRAZA, CANTIDAD_DE_AMBIENTES, TIPO_DE_PROPIEDAD, BARRIO)\n",
    "y_predict = modelo_lasso.predict(nuevos_Feactures)\n",
    "\n",
    "'EL RESULTADO DEL MODELO PARA LAS VARIABLES INGRESADAS ES DE {} U$D POR M2'.format(y_predict[0].astype(int))\n"
   ]
  },
  {
   "cell_type": "code",
   "execution_count": null,
   "metadata": {},
   "outputs": [],
   "source": [
    "diccionario = {'modelo':modelo_ridge,'modeloMatriz':modeloMatriz_3}"
   ]
  },
  {
   "cell_type": "markdown",
   "metadata": {},
   "source": [
    "## GUARDAMOS EN PKL"
   ]
  },
  {
   "cell_type": "code",
   "execution_count": 26,
   "metadata": {},
   "outputs": [],
   "source": [
    "import os\n",
    "import pickle\n",
    "with open('modelo.pkl', 'wb') as pkl:\n",
    "    pickle.dump(diccionario, pkl)"
   ]
  }
 ],
 "metadata": {
  "kernelspec": {
   "display_name": "Python 3",
   "language": "python",
   "name": "python3"
  },
  "language_info": {
   "codemirror_mode": {
    "name": "ipython",
    "version": 3
   },
   "file_extension": ".py",
   "mimetype": "text/x-python",
   "name": "python",
   "nbconvert_exporter": "python",
   "pygments_lexer": "ipython3",
   "version": "3.6.6"
  }
 },
 "nbformat": 4,
 "nbformat_minor": 2
}
