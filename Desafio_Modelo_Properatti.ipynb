{
 "cells": [
  {
   "cell_type": "markdown",
   "metadata": {},
   "source": [
    "# DESAFIO MODELO PROPERATTI"
   ]
  },
  {
   "cell_type": "code",
   "execution_count": 1,
   "metadata": {},
   "outputs": [
    {
     "name": "stderr",
     "output_type": "stream",
     "text": [
      "/opt/conda/lib/python3.6/site-packages/sklearn/cross_validation.py:41: DeprecationWarning: This module was deprecated in version 0.18 in favor of the model_selection module into which all the refactored classes and functions are moved. Also note that the interface of the new CV iterators are different from that of this module. This module will be removed in 0.20.\n",
      "  \"This module will be removed in 0.20.\", DeprecationWarning)\n"
     ]
    }
   ],
   "source": [
    "import Util as utl\n",
    "import pandas as pd\n",
    "import numpy as np\n",
    "import seaborn as sns"
   ]
  },
  {
   "cell_type": "markdown",
   "metadata": {},
   "source": [
    "#### SE PONEN NULLABLE LOS OUTLIERS Y SON IMPUTADOS   .......... z-score  [0.75]"
   ]
  },
  {
   "cell_type": "code",
   "execution_count": 2,
   "metadata": {},
   "outputs": [],
   "source": [
    "#data = pd.read_csv('/home/DS-DH/jupyter/digitalHouse/properatti.csv')\n",
    "#data = utl.limpiarDatos(data,0.75)\n",
    "data = pd.read_csv('/home/DS-DH/jupyter/digitalHouse/data.csv',sep='|')\n",
    "#data.to_csv('/home/DS-DH/jupyter/digitalHouse/data.csv',sep='|')\n"
   ]
  },
  {
   "cell_type": "code",
   "execution_count": 3,
   "metadata": {},
   "outputs": [],
   "source": [
    "matriz = utl.GenerarMatriz(data)"
   ]
  },
  {
   "cell_type": "markdown",
   "metadata": {},
   "source": [
    "#### SE GENERAN LAS DUMMYS PARA EL MODELO"
   ]
  },
  {
   "cell_type": "code",
   "execution_count": 4,
   "metadata": {},
   "outputs": [],
   "source": [
    "modeloMatriz = utl.generarDummies(matriz)\n",
    "#modeloMatriz=modeloMatriz[(modeloMatriz.superficie_total>20) & (modeloMatriz.superficie_total<150)]\n",
    "#modeloMatriz=modeloMatriz[(modeloMatriz.precio_m2>20) & (modeloMatriz.precio_m2<8000)]\n",
    "#modeloMatriz.describe()"
   ]
  },
  {
   "cell_type": "code",
   "execution_count": 5,
   "metadata": {},
   "outputs": [
    {
     "data": {
      "text/plain": [
       "(9577, 77)"
      ]
     },
     "execution_count": 5,
     "metadata": {},
     "output_type": "execute_result"
    }
   ],
   "source": [
    "modeloMatriz.describe()\n",
    "modeloMatriz.shape\n",
    "#modeloMatriz.precio_m2 = pd.qcut(modeloMatriz.precio_m2,25).apply(lambda x: x.mid.round(-2).astype(int))"
   ]
  },
  {
   "cell_type": "code",
   "execution_count": 10,
   "metadata": {},
   "outputs": [],
   "source": [
    "from sklearn.datasets import make_friedman1\n",
    "from sklearn.feature_selection import RFECV\n",
    "from sklearn.svm import SVR\n",
    "xs = modeloMatriz.iloc[:,1:]\n",
    "y = modeloMatriz.iloc[:,0]\n"
   ]
  },
  {
   "cell_type": "code",
   "execution_count": 11,
   "metadata": {},
   "outputs": [],
   "source": [
    "estimator = SVR(kernel=\"linear\")"
   ]
  },
  {
   "cell_type": "code",
   "execution_count": 12,
   "metadata": {},
   "outputs": [],
   "source": [
    "selector = RFECV(estimator, step=1, cv=5)"
   ]
  },
  {
   "cell_type": "code",
   "execution_count": null,
   "metadata": {},
   "outputs": [],
   "source": [
    "selector = selector.fit(xs, y)"
   ]
  },
  {
   "cell_type": "code",
   "execution_count": null,
   "metadata": {},
   "outputs": [],
   "source": []
  },
  {
   "cell_type": "code",
   "execution_count": null,
   "metadata": {},
   "outputs": [],
   "source": []
  },
  {
   "cell_type": "markdown",
   "metadata": {},
   "source": [
    "### Regresion Lineal Multiple"
   ]
  },
  {
   "cell_type": "code",
   "execution_count": 6,
   "metadata": {},
   "outputs": [
    {
     "name": "stderr",
     "output_type": "stream",
     "text": [
      "/home/DS-DH/jupyter/digitalHouse/modelo-properatti/Util.py:170: FutureWarning: Method .as_matrix will be removed in a future version. Use .values instead.\n",
      "  xs = xs.as_matrix()\n",
      "/home/DS-DH/jupyter/digitalHouse/modelo-properatti/Util.py:172: FutureWarning: Method .as_matrix will be removed in a future version. Use .values instead.\n",
      "  y = y.as_matrix()\n"
     ]
    },
    {
     "data": {
      "image/png": "[encoded data removed]",
      "text/plain": [
       "<Figure size 432x288 with 1 Axes>"
      ]
     },
     "metadata": {
      "needs_background": "light"
     },
     "output_type": "display_data"
    },
    {
     "name": "stdout",
     "output_type": "stream",
     "text": [
      "CROSS VALIDATION: 0.8153636622504373 0.8329406978344485 0.8571407155597679 0.8296679738889998 0.8372344790443041\n",
      "MAE: 230.84778467989443\n",
      "MSE: 82645.62340834651\n",
      "RMSE: 287.481518377002\n",
      "EL R2 TRAIN ES DE:  0.8446832621690762\n",
      "EL R2 TEST ES DE:  0.8412325827698014\n"
     ]
    }
   ],
   "source": [
    "modelo = utl.modelo_regresion_lineal(modeloMatriz)"
   ]
  },
  {
   "cell_type": "code",
   "execution_count": 67,
   "metadata": {},
   "outputs": [],
   "source": [
    "modeloMatriz_2 = modeloMatriz[['precio_m2','superficie_total',                            \n",
    "'CASA',\n",
    "'PH',\n",
    "'DTO',\n",
    "'mataderos',\n",
    "'belgrano',\n",
    "'palermo',\n",
    "'flores',\n",
    "'boedo',\n",
    "'balvanera',\n",
    "'caballito',\n",
    "'nunez',\n",
    "'almagro',\n",
    "'capital_federal',\n",
    "'barracas',\n",
    "'las_canitas',\n",
    "'recoleta',\n",
    "'puerto_madero',\n",
    "'villa_crespo',                               \n",
    "'barrio_norte',\n",
    "'saavedra',\n",
    "'coghlan',\n",
    "'san_telmo',\n",
    "'monserrat',\n",
    "'floresta',\n",
    "'boca',\n",
    "'san_cristobal',\n",
    "'retiro',\n",
    "'parque_chas',\n",
    "'villa_urquiza',\n",
    "'villa_devoto',\n",
    "'colegiales',\n",
    "'parque_avellaneda',\n",
    "'liniers',\n",
    "'tribunales',\n",
    "'constitucion',\n",
    "'congreso',\n",
    "'once',\n",
    "'palermo_viejo',\n",
    "'parque_patricios',\n",
    "'velez_sarsfield',\n",
    "'villa_luro',\n",
    "'palermo_chico',\n",
    "'parque_centenario',\n",
    "'villa_ortuzar',\n",
    "'parque_chacabuco',\n",
    "'villa_lugano',\n",
    "'villa_soldati',\n",
    "'chacarita',\n",
    "'villa_riachuelo',\n",
    "'pompeya']]"
   ]
  },
  {
   "cell_type": "code",
   "execution_count": 6,
   "metadata": {},
   "outputs": [
    {
     "name": "stdout",
     "output_type": "stream",
     "text": [
      "EMC: 80807.04654940696\n",
      "                            OLS Regression Results                            \n",
      "==============================================================================\n",
      "Dep. Variable:              precio_m2   R-squared:                       0.843\n",
      "Model:                            OLS   Adj. R-squared:                  0.841\n",
      "Method:                 Least Squares   F-statistic:                     361.6\n",
      "Date:                Sat, 02 May 2020   Prob (F-statistic):               0.00\n",
      "Time:                        02:39:21   Log-Likelihood:                -33923.\n",
      "No. Observations:                4788   AIC:                         6.799e+04\n",
      "Df Residuals:                    4717   BIC:                         6.845e+04\n",
      "Df Model:                          70                                         \n",
      "Covariance Type:            nonrobust                                         \n",
      "========================================================================================\n",
      "                           coef    std err          t      P>|t|      [0.025      0.975]\n",
      "----------------------------------------------------------------------------------------\n",
      "superficie_total        -0.2679      0.042     -6.402      0.000      -0.350      -0.186\n",
      "0                       -7.9134      9.608     -0.824      0.410     -26.749      10.922\n",
      "1_AMBIENTE             -27.7239     13.629     -2.034      0.042     -54.443      -1.004\n",
      "2_AMBIENTE             -23.0061     14.048     -1.638      0.102     -50.547       4.534\n",
      "3_AMBIENTE             -25.8076     13.700     -1.884      0.060     -52.666       1.051\n",
      "4_AMBIENTE             -29.2763     16.144     -1.813      0.070     -60.926       2.373\n",
      "5_AMBIENTE             -26.8683     24.914     -1.078      0.281     -75.711      21.974\n",
      "6_AMBIENTE               7.4050     45.472      0.163      0.871     -81.741      96.551\n",
      "7_AMBIENTE              39.9466     81.880      0.488      0.626    -120.577     200.470\n",
      "CASA                  1443.6840     23.376     61.758      0.000    1397.855    1489.513\n",
      "PH                    1618.8112     22.388     72.307      0.000    1574.920    1662.702\n",
      "DTO                   2184.0373     11.514    189.681      0.000    2161.464    2206.611\n",
      "mataderos             -338.1195     33.881     -9.980      0.000    -404.543    -271.696\n",
      "belgrano               871.7966     16.212     53.774      0.000     840.013     903.580\n",
      "palermo_soho           102.3039     46.537      2.198      0.028      11.069     193.539\n",
      "palermo                950.8211     16.588     57.320      0.000     918.301     983.341\n",
      "flores                -107.6463     22.493     -4.786      0.000    -151.743     -63.549\n",
      "boedo                 -350.1028     28.532    -12.270      0.000    -406.040    -294.166\n",
      "balvanera             -256.2445     28.137     -9.107      0.000    -311.406    -201.083\n",
      "caballito              286.8335     18.523     15.485      0.000     250.519     323.147\n",
      "nunez                  798.5637     27.267     29.287      0.000     745.108     852.019\n",
      "almagro                 41.3136     22.019      1.876      0.061      -1.854      84.481\n",
      "capital_federal       -178.4934     25.054     -7.124      0.000    -227.610    -129.377\n",
      "barracas              -160.2991     33.473     -4.789      0.000    -225.922     -94.676\n",
      "las_canitas           1217.4330     51.553     23.615      0.000    1116.366    1318.500\n",
      "recoleta               985.6773     22.076     44.650      0.000     942.398    1028.956\n",
      "puerto_madero         2981.7564     35.453     84.105      0.000    2912.252    3051.260\n",
      "villa_crespo           343.9540     24.300     14.155      0.000     296.315     391.593\n",
      "barrio_norte           669.8892     22.216     30.154      0.000     626.336     713.442\n",
      "palermo_hollywood      -60.9056     35.722     -1.705      0.088    -130.937       9.126\n",
      "saavedra               231.3641     31.094      7.441      0.000     170.405     292.323\n",
      "villa_pueyrredon       124.7575     60.472      2.063      0.039       6.205     243.310\n",
      "coghlan                431.7695     40.152     10.753      0.000     353.053     510.486\n",
      "san_telmo              110.4400     25.609      4.313      0.000      60.234     160.646\n",
      "monserrat              -96.3652     32.727     -2.945      0.003    -160.526     -32.205\n",
      "floresta              -126.0067     42.374     -2.974      0.003    -209.080     -42.933\n",
      "boca                  -459.4399     50.014     -9.186      0.000    -557.491    -361.388\n",
      "san_cristobal         -160.2096     35.225     -4.548      0.000    -229.267     -91.152\n",
      "abasto                -141.9725     91.003     -1.560      0.119    -320.382      36.437\n",
      "monte_castro          -112.0896     86.877     -1.290      0.197    -282.409      58.230\n",
      "retiro                 604.3737     44.362     13.624      0.000     517.403     691.344\n",
      "parque_chas            -10.4033    143.462     -0.073      0.942    -291.655     270.849\n",
      "villa_urquiza          376.0676     21.855     17.207      0.000     333.221     418.914\n",
      "villa_del_parque         8.4321     34.280      0.246      0.806     -58.774      75.638\n",
      "centro_/_microcentro    76.4973     48.961      1.562      0.118     -19.489     172.484\n",
      "parque_avellaneda     -425.3469    128.427     -3.312      0.001    -677.124    -173.570\n",
      "liniers               -184.7828     38.461     -4.804      0.000    -260.184    -109.381\n",
      "tribunales             -53.7911     72.176     -0.745      0.456    -195.290      87.707\n",
      "colegiales             491.1939     35.229     13.943      0.000     422.129     560.259\n",
      "constitucion          -368.0446     60.408     -6.093      0.000    -486.473    -249.616\n",
      "congreso              -182.2264     41.968     -4.342      0.000    -264.504     -99.949\n",
      "catalinas            -1.008e-13   7.52e-14     -1.341      0.180   -2.48e-13    4.66e-14\n",
      "san_nicolas             25.0710     55.029      0.456      0.649     -82.812     132.954\n",
      "paternal               -82.9891     54.934     -1.511      0.131    -190.686      24.707\n",
      "villa_devoto           193.4423     35.186      5.498      0.000     124.461     262.424\n",
      "once                  -348.8429     64.698     -5.392      0.000    -475.681    -222.005\n",
      "palermo_viejo         -165.6765    119.845     -1.382      0.167    -400.628      69.275\n",
      "velez_sarsfield      -2.723e-15   5.35e-14     -0.051      0.959   -1.08e-13    1.02e-13\n",
      "villa_luro             -93.9142     44.157     -2.127      0.033    -180.482      -7.347\n",
      "palermo_chico         1071.2019     62.431     17.158      0.000     948.808    1193.596\n",
      "parque_centenario      119.3855     70.287      1.699      0.089     -18.409     257.180\n",
      "villa_general_mitre   -107.8155    117.243     -0.920      0.358    -337.666     122.035\n",
      "agronomia               79.4769    117.277      0.678      0.498    -150.441     309.394\n",
      "villa_santa_rita        42.1485    128.305      0.329      0.743    -209.390     293.687\n",
      "parque_patricios      -333.5846     45.121     -7.393      0.000    -422.043    -245.126\n",
      "versalles              -55.5781    102.285     -0.543      0.587    -256.105     144.949\n",
      "villa_ortuzar          253.6388     66.281      3.827      0.000     123.697     383.581\n",
      "parque_chacabuco      -139.6211     83.211     -1.678      0.093    -302.753      23.511\n",
      "villa_lugano          -565.5496     51.164    -11.054      0.000    -665.855    -465.244\n",
      "villa_soldati         -865.5837    166.148     -5.210      0.000   -1191.312    -539.855\n",
      "chacarita              210.9093     59.223      3.561      0.000      94.804     327.014\n",
      "villa_real            -110.0782    109.548     -1.005      0.315    -324.843     104.687\n",
      "villa_riachuelo       -338.9379    165.824     -2.044      0.041    -664.030     -13.846\n",
      "pompeya               -652.4008    117.380     -5.558      0.000    -882.520    -422.282\n",
      "==============================================================================\n",
      "Omnibus:                      514.249   Durbin-Watson:                   1.993\n",
      "Prob(Omnibus):                  0.000   Jarque-Bera (JB):             1339.575\n",
      "Skew:                           0.609   Prob(JB):                    1.30e-291\n",
      "Kurtosis:                       5.287   Cond. No.                     1.00e+16\n",
      "==============================================================================\n",
      "\n",
      "Warnings:\n",
      "[1] Standard Errors assume that the covariance matrix of the errors is correctly specified.\n",
      "[2] The smallest eigenvalue is 1.39e-24. This might indicate that there are\n",
      "strong multicollinearity problems or that the design matrix is singular.\n"
     ]
    },
    {
     "ename": "NameError",
     "evalue": "name 'modelo' is not defined",
     "output_type": "error",
     "traceback": [
      "\u001b[0;31m\u001b[0m",
      "\u001b[0;31mNameError\u001b[0mTraceback (most recent call last)",
      "\u001b[0;32m<ipython-input-6-81be233547db>\u001b[0m in \u001b[0;36m<module>\u001b[0;34m()\u001b[0m\n\u001b[0;32m----> 1\u001b[0;31m \u001b[0mutl\u001b[0m\u001b[0;34m.\u001b[0m\u001b[0msummary\u001b[0m\u001b[0;34m(\u001b[0m\u001b[0mmodeloMatriz\u001b[0m\u001b[0;34m)\u001b[0m\u001b[0;34m\u001b[0m\u001b[0m\n\u001b[0m",
      "\u001b[0;32m~/jupyter/digitalHouse/modelo-properatti/Util.py\u001b[0m in \u001b[0;36msummary\u001b[0;34m(p_modeloMatriz)\u001b[0m\n\u001b[1;32m     23\u001b[0m     \u001b[0mprint\u001b[0m\u001b[0;34m(\u001b[0m\u001b[0mmodel\u001b[0m\u001b[0;34m.\u001b[0m\u001b[0msummary\u001b[0m\u001b[0;34m(\u001b[0m\u001b[0;34m)\u001b[0m\u001b[0;34m)\u001b[0m\u001b[0;34m\u001b[0m\u001b[0m\n\u001b[1;32m     24\u001b[0m \u001b[0;34m\u001b[0m\u001b[0m\n\u001b[0;32m---> 25\u001b[0;31m     \u001b[0;32mreturn\u001b[0m \u001b[0mmodelo\u001b[0m\u001b[0;34m\u001b[0m\u001b[0m\n\u001b[0m\u001b[1;32m     26\u001b[0m \u001b[0;34m\u001b[0m\u001b[0m\n\u001b[1;32m     27\u001b[0m \u001b[0;34m\u001b[0m\u001b[0m\n",
      "\u001b[0;31mNameError\u001b[0m: name 'modelo' is not defined"
     ]
    }
   ],
   "source": [
    "utl.summary(modeloMatriz)"
   ]
  },
  {
   "cell_type": "code",
   "execution_count": 12,
   "metadata": {},
   "outputs": [],
   "source": [
    "matriz[['superficieJardines','superficieTerrazas','superficieJardinesTerrazas']].applymap(lambda x: 1 if x>0 else 0)\t#GENERO VARIABLES INDEPENDIENTE"
   ]
  },
  {
   "cell_type": "code",
   "execution_count": null,
   "metadata": {},
   "outputs": [],
   "source": [
    "%matplotlib inline\n",
    "from matplotlib import pyplot as plt\n",
    "from sklearn import datasets, linear_model\n",
    "from sklearn.metrics import mean_squared_error, r2_score\n",
    "from sklearn.model_selection import train_test_split\n",
    "xs = modeloMatriz_2.iloc[:,1:]\n",
    "y = modeloMatriz_2.iloc[:,0]\n",
    "x_train, x_test, y_train, y_test = train_test_split(xs, y, test_size=0.6)\n",
    "model = sm.OLS(y_train, x_train).fit()\n",
    "predictions = model.predict(x_test)\n",
    "print (\"EMC:\", mean_squared_error(y_test, predictions))\n",
    "print(model.summary())"
   ]
  },
  {
   "cell_type": "markdown",
   "metadata": {},
   "source": [
    "#### Regresion Ridge"
   ]
  },
  {
   "cell_type": "code",
   "execution_count": 26,
   "metadata": {},
   "outputs": [
    {
     "name": "stderr",
     "output_type": "stream",
     "text": [
      "/home/DS-DH/notebooks/digitalHouse/modelo-properatti/Util.py:59: FutureWarning: Method .as_matrix will be removed in a future version. Use .values instead.\n",
      "  xs = xs.as_matrix()\n",
      "/home/DS-DH/notebooks/digitalHouse/modelo-properatti/Util.py:60: FutureWarning: Method .as_matrix will be removed in a future version. Use .values instead.\n",
      "  y = y.as_matrix()\n"
     ]
    },
    {
     "name": "stdout",
     "output_type": "stream",
     "text": [
      "REGULARIZACION CON RIDGE\n",
      "CROSS VALIDATION: 0.84307790146404 0.8283855319515387 0.8395720552228034 0.8273539691502757 0.8317468444275985\n",
      "MAE RIDGE: 241.94510776071132\n",
      "MSE RIDGE: 94043.7692642826\n",
      "RMSE RIDGE: 306.66556582747046\n",
      "RIDGE -> R2 TRAIN:  0.8391322541626478\n",
      "RIDGE -> R2 TEST:  0.8250003577164868\n"
     ]
    },
    {
     "data": {
      "text/plain": [
       "(2161.586147418442,\n",
       " array([ 9.32008600e-02, -1.42853369e+01, -9.01936978e+00,  8.69791939e+00,\n",
       "        -8.67974432e+00, -2.24421411e+01, -3.09566315e+01, -3.73379144e+01,\n",
       "        -3.93318132e+01,  4.72171077e+00,  9.51547137e+01, -4.08241128e+02,\n",
       "        -2.29849348e+02,  3.54330808e+02, -6.86725800e+02,  4.98232964e+02,\n",
       "         1.76725818e+01,  5.94362505e+02, -4.71398254e+02, -7.52448999e+02,\n",
       "        -5.89297012e+02, -6.31815362e+01,  3.93764188e+02, -3.11550333e+02,\n",
       "        -5.34058684e+02, -4.79969569e+02,  8.29839241e+02,  5.82765918e+02,\n",
       "         2.59951039e+03, -7.93323245e+00,  3.06660098e+02, -1.28345935e+01,\n",
       "        -1.12272876e+02, -2.72674824e+02,  5.57339435e+01, -2.32004741e+02,\n",
       "        -4.48679010e+02, -1.10435044e+02, -8.21152754e+02, -5.50506063e+02,\n",
       "        -4.15955514e+02, -4.37345543e+02,  2.10925500e+02, -1.81433005e+02,\n",
       "         3.75699248e+01, -3.28230634e+02, -1.57142927e+02, -3.37215922e+02,\n",
       "         1.11942783e+02, -7.21706969e+02, -5.36630936e+02, -4.17007356e+02,\n",
       "        -7.02974267e+02, -5.53617040e+02, -6.23499577e+02, -3.43720240e+02,\n",
       "        -3.97195947e+02, -6.75010739e+02, -2.34660725e+02, -6.40109789e+02,\n",
       "        -5.97917520e+02, -4.55068584e+02,  8.61832448e+02, -2.39295865e+02,\n",
       "        -4.42311199e+02, -2.74702034e+02, -3.69084740e+02, -4.56028186e+02,\n",
       "        -5.92421331e+01, -5.16740763e+02, -9.75979540e+02, -1.20164993e+03,\n",
       "        -4.29400482e+02, -1.60613765e+02, -8.22275459e+02, -1.03846040e+03,\n",
       "        -6.39719786e-04,  1.73536006e-10]))"
      ]
     },
     "execution_count": 26,
     "metadata": {},
     "output_type": "execute_result"
    },
    {
     "data": {
      "image/png": "[encoded data removed]",
      "text/plain": [
       "<Figure size 432x288 with 1 Axes>"
      ]
     },
     "metadata": {
      "needs_background": "light"
     },
     "output_type": "display_data"
    }
   ],
   "source": [
    "modelo_ridge = utl.modelo_ridge_cross_validation(modeloMatriz)\n",
    "(modelo_ridge.intercept_,modelo_ridge.coef_)"
   ]
  },
  {
   "cell_type": "code",
   "execution_count": null,
   "metadata": {},
   "outputs": [],
   "source": []
  },
  {
   "cell_type": "markdown",
   "metadata": {},
   "source": [
    "#### Lasso Regression"
   ]
  },
  {
   "cell_type": "code",
   "execution_count": 80,
   "metadata": {},
   "outputs": [
    {
     "name": "stderr",
     "output_type": "stream",
     "text": [
      "/home/DS-DH/streamlit/digitalHouse/modelo-properatti/Util.py:23: FutureWarning: Method .as_matrix will be removed in a future version. Use .values instead.\n",
      "  xs = xs.as_matrix()\n",
      "/home/DS-DH/streamlit/digitalHouse/modelo-properatti/Util.py:24: FutureWarning: Method .as_matrix will be removed in a future version. Use .values instead.\n",
      "  y = y.as_matrix()\n"
     ]
    },
    {
     "name": "stdout",
     "output_type": "stream",
     "text": [
      "LASSO REGRESSION\n",
      "CROSS VALIDATION: 0.8229439823715031 0.839345296882035 0.8411883244802392 0.8519973284253005 0.844909761834099\n",
      "MAE LASSO: 230.1730800411223\n",
      "MSE LASSO: 83098.42105389433\n",
      "RMSE LASSO: 288.26796744330494\n",
      "LASSO -> R2 TRAIN:  0.8436673834386264\n",
      "LASSO -> R2 TEST:  0.8422866816618438\n"
     ]
    },
    {
     "data": {
      "text/plain": [
       "(1572.9796165802068,\n",
       " array([-2.81456483e-01, -1.40903015e+02, -0.00000000e+00,  5.98148235e+02,\n",
       "        -3.24016418e+02,  8.70655374e+02,  9.58455843e+02, -1.03490849e+02,\n",
       "        -3.59764942e+02, -2.52466811e+02,  2.52506235e+02,  8.00858318e+02,\n",
       "         6.04621537e+01, -1.81930080e+02, -1.14886152e+02,  1.15421323e+03,\n",
       "         9.61412362e+02,  2.94365731e+03,  3.46940918e+02,  6.83108557e+02,\n",
       "         2.52975721e+02,  4.49050280e+02,  7.34657622e+01, -1.04124263e+02,\n",
       "        -1.16697270e+02, -4.72878774e+02, -1.36286282e+02,  6.19099025e+02,\n",
       "         1.22763955e+02,  3.95180168e+02,  1.79166788e+02,  4.24189101e+02,\n",
       "        -3.81251610e+02, -1.52898768e+02, -1.04823474e+02, -4.56923386e+02,\n",
       "        -1.57906983e+02, -3.41349554e+02, -1.36131698e+02, -3.04481850e+02,\n",
       "        -3.06921118e+02, -6.91842530e+01,  1.05085516e+03,  1.52383076e+02,\n",
       "         2.95729999e+02, -1.64381037e+02, -7.23447367e+02, -8.36442325e+02,\n",
       "         2.04018650e+02, -2.85651274e+02, -6.63663209e+02]))"
      ]
     },
     "execution_count": 80,
     "metadata": {},
     "output_type": "execute_result"
    },
    {
     "data": {
      "image/png": "[encoded data removed]",
      "text/plain": [
       "<Figure size 432x288 with 1 Axes>"
      ]
     },
     "metadata": {
      "needs_background": "light"
     },
     "output_type": "display_data"
    }
   ],
   "source": [
    "modelo_lasso = utl.modelo_lasso_cross_validation(modeloMatriz_2)\n",
    "(modelo_lasso.intercept_,modelo_lasso.coef_)\n"
   ]
  },
  {
   "cell_type": "code",
   "execution_count": 91,
   "metadata": {},
   "outputs": [
    {
     "data": {
      "text/plain": [
       "array([-2.81456483e-01, -1.40903015e+02, -0.00000000e+00,  5.98148235e+02,\n",
       "       -3.24016418e+02,  8.70655374e+02,  9.58455843e+02, -1.03490849e+02,\n",
       "       -3.59764942e+02, -2.52466811e+02,  2.52506235e+02,  8.00858318e+02,\n",
       "        6.04621537e+01, -1.81930080e+02, -1.14886152e+02,  1.15421323e+03,\n",
       "        9.61412362e+02,  2.94365731e+03,  3.46940918e+02,  6.83108557e+02,\n",
       "        2.52975721e+02,  4.49050280e+02,  7.34657622e+01, -1.04124263e+02,\n",
       "       -1.16697270e+02, -4.72878774e+02, -1.36286282e+02,  6.19099025e+02,\n",
       "        1.22763955e+02,  3.95180168e+02,  1.79166788e+02,  4.24189101e+02,\n",
       "       -3.81251610e+02, -1.52898768e+02, -1.04823474e+02, -4.56923386e+02,\n",
       "       -1.57906983e+02, -3.41349554e+02, -1.36131698e+02, -3.04481850e+02,\n",
       "       -3.06921118e+02, -6.91842530e+01,  1.05085516e+03,  1.52383076e+02,\n",
       "        2.95729999e+02, -1.64381037e+02, -7.23447367e+02, -8.36442325e+02,\n",
       "        2.04018650e+02, -2.85651274e+02, -6.63663209e+02])"
      ]
     },
     "execution_count": 91,
     "metadata": {},
     "output_type": "execute_result"
    }
   ],
   "source": [
    "modelo_lasso.coef_"
   ]
  },
  {
   "cell_type": "code",
   "execution_count": null,
   "metadata": {},
   "outputs": [],
   "source": []
  },
  {
   "cell_type": "code",
   "execution_count": null,
   "metadata": {},
   "outputs": [],
   "source": [
    "import statsmodels.api as sm\n",
    "\n",
    "X = df[[\"RM\"]]\n",
    "y = modeloMatriz.precio_m2\n",
    "\n",
    "# Tenemos que agregar explícitamente a una constante:\n",
    "X = sm.add_constant(X)\n",
    "\n",
    "model = sm.OLS(y, X).fit()\n",
    "predictions = model.predict(X)\n",
    "\n",
    "# Graficamos los resultados\n",
    "plt.plot(y,y, '-.', c='grey')\n",
    "plt.scatter(predictions, y, s=30, c='r', marker='+', zorder=10)\n",
    "plt.xlabel(\"Predicciones usando RM\")\n",
    "plt.ylabel(\"Valores reales MEDV\")\n",
    "plt.show()\n",
    "\n",
    "# Imprimimos el MSE y un resumen del modelo\n",
    "print (\"EMC:\", mean_squared_error(y, predictions))\n",
    "print (model.summary())"
   ]
  },
  {
   "cell_type": "code",
   "execution_count": null,
   "metadata": {},
   "outputs": [],
   "source": []
  },
  {
   "cell_type": "code",
   "execution_count": null,
   "metadata": {},
   "outputs": [],
   "source": []
  },
  {
   "cell_type": "code",
   "execution_count": null,
   "metadata": {},
   "outputs": [],
   "source": []
  },
  {
   "cell_type": "code",
   "execution_count": null,
   "metadata": {},
   "outputs": [],
   "source": []
  },
  {
   "cell_type": "code",
   "execution_count": null,
   "metadata": {},
   "outputs": [],
   "source": []
  },
  {
   "cell_type": "markdown",
   "metadata": {},
   "source": [
    "## PARAMETROS A PREDECIR\n",
    "###### PARA LA PREDICCION DE PRECIOS POR M2 DE ALQUILERES EN CAPITAL FEDERAL\n",
    "## NORMALIZAR O NO.. DEPENDE EL MODELO A USAR"
   ]
  },
  {
   "cell_type": "code",
   "execution_count": 60,
   "metadata": {},
   "outputs": [
    {
     "name": "stderr",
     "output_type": "stream",
     "text": [
      "/home/DS-DH/notebooks/digitalHouse/modelo-properatti/Util.py:376: UserWarning: Pandas doesn't allow columns to be created via a new attribute name - see https://pandas.pydata.org/pandas-docs/stable/indexing.html#attribute-access\n",
      "  predecir_data.superficie_total_2 = predecir_data.superficie_total**2\n"
     ]
    },
    {
     "data": {
      "text/plain": [
       "'EL RESULTADO DEL MODELO PARA LAS VARIABLES INGRESADAS ES DE 2546 U$D POR M2'"
      ]
     },
     "execution_count": 60,
     "metadata": {},
     "output_type": "execute_result"
    }
   ],
   "source": [
    "SUPERFICIE_TOTAL = 30          ##  [0,600]\n",
    "JARDIN = '0'                      ##  0,1\n",
    "TERRAZA = '1'                     ##  0,1\n",
    "CANTIDAD_DE_AMBIENTES = '1'       ##  1,2,3,4,4,5,6,7\n",
    "TIPO_DE_PROPIEDAD = 'DTO'        ##  CASA, PH, DTO\n",
    "BARRIO = 'villa urquiza'               ##  barrios de CABA, en minusculas\n",
    "\n",
    "nuevos_Feactures = utl.nuevosDatos(modeloMatriz, SUPERFICIE_TOTAL, JARDIN, TERRAZA, CANTIDAD_DE_AMBIENTES, TIPO_DE_PROPIEDAD, BARRIO)\n",
    "y_predict = modelo.predict(nuevos_Feactures)\n",
    "\n",
    "'EL RESULTADO DEL MODELO PARA LAS VARIABLES INGRESADAS ES DE {} U$D POR M2'.format(y_predict[0].astype(int))\n"
   ]
  },
  {
   "cell_type": "code",
   "execution_count": null,
   "metadata": {},
   "outputs": [],
   "source": []
  },
  {
   "cell_type": "code",
   "execution_count": null,
   "metadata": {},
   "outputs": [],
   "source": []
  },
  {
   "cell_type": "code",
   "execution_count": null,
   "metadata": {},
   "outputs": [],
   "source": []
  },
  {
   "cell_type": "code",
   "execution_count": null,
   "metadata": {},
   "outputs": [],
   "source": []
  },
  {
   "cell_type": "markdown",
   "metadata": {},
   "source": [
    "## GUARDAMOS EN PKL"
   ]
  },
  {
   "cell_type": "code",
   "execution_count": 6,
   "metadata": {},
   "outputs": [],
   "source": [
    "import os\n",
    "import pickle\n",
    "with open('modelo.pkl', 'wb') as pkl:\n",
    "    pickle.dump((modelo,data,matriz,modeloMatriz), pkl)"
   ]
  },
  {
   "cell_type": "code",
   "execution_count": 8,
   "metadata": {},
   "outputs": [],
   "source": []
  },
  {
   "cell_type": "code",
   "execution_count": null,
   "metadata": {},
   "outputs": [],
   "source": []
  },
  {
   "cell_type": "code",
   "execution_count": null,
   "metadata": {},
   "outputs": [],
   "source": []
  },
  {
   "cell_type": "code",
   "execution_count": null,
   "metadata": {},
   "outputs": [],
   "source": []
  },
  {
   "cell_type": "code",
   "execution_count": null,
   "metadata": {},
   "outputs": [],
   "source": []
  },
  {
   "cell_type": "code",
   "execution_count": null,
   "metadata": {},
   "outputs": [],
   "source": []
  }
 ],
 "metadata": {
  "kernelspec": {
   "display_name": "Python 3",
   "language": "python",
   "name": "python3"
  },
  "language_info": {
   "codemirror_mode": {
    "name": "ipython",
    "version": 3
   },
   "file_extension": ".py",
   "mimetype": "text/x-python",
   "name": "python",
   "nbconvert_exporter": "python",
   "pygments_lexer": "ipython3",
   "version": "3.6.6"
  }
 },
 "nbformat": 4,
 "nbformat_minor": 2
}
