{
 "cells": [
  {
   "cell_type": "markdown",
   "metadata": {},
   "source": [
    "# DESAFIO MODELO PROPERATTI"
   ]
  },
  {
   "cell_type": "code",
   "execution_count": 3,
   "metadata": {},
   "outputs": [
    {
     "name": "stderr",
     "output_type": "stream",
     "text": [
      "/opt/conda/lib/python3.6/site-packages/sklearn/cross_validation.py:41: DeprecationWarning: This module was deprecated in version 0.18 in favor of the model_selection module into which all the refactored classes and functions are moved. Also note that the interface of the new CV iterators are different from that of this module. This module will be removed in 0.20.\n",
      "  \"This module will be removed in 0.20.\", DeprecationWarning)\n"
     ]
    }
   ],
   "source": [
    "import pandas as pd\n",
    "import Util as utl"
   ]
  },
  {
   "cell_type": "markdown",
   "metadata": {},
   "source": [
    "#### SE PONEN NULLABLE LOS OUTLIERS Y SON IMPUTADOS   .......... z-score  [0.75]"
   ]
  },
  {
   "cell_type": "code",
   "execution_count": 7,
   "metadata": {},
   "outputs": [],
   "source": [
    "#data = pd.read_csv('/home/DS-DH/jupyter/digitalHouse/properatti.csv')\n",
    "#data = utl.limpiarDatos(data,0.80)\n",
    "data = pd.read_csv('/home/DS-DH/jupyter/digitalHouse/data.csv',sep='|')\n",
    "#data.to_csv('/home/DS-DH/jupyter/digitalHouse/data.csv',sep='|')\n",
    "matriz = utl.GenerarMatriz(data)"
   ]
  },
  {
   "cell_type": "markdown",
   "metadata": {},
   "source": [
    "#### SE GENERAN LAS DUMMYS PARA EL MODELO"
   ]
  },
  {
   "cell_type": "code",
   "execution_count": 9,
   "metadata": {},
   "outputs": [
    {
     "data": {
      "text/plain": [
       "(10064, 77)"
      ]
     },
     "execution_count": 9,
     "metadata": {},
     "output_type": "execute_result"
    }
   ],
   "source": [
    "modeloMatriz = utl.generarDummies(matriz)\n",
    "modeloMatriz.shape"
   ]
  },
  {
   "cell_type": "markdown",
   "metadata": {},
   "source": [
    "#### SE LIMPIAN VARIABLES APLICANDO RECURSIVAMENtE LASSO"
   ]
  },
  {
   "cell_type": "code",
   "execution_count": 10,
   "metadata": {},
   "outputs": [
    {
     "name": "stderr",
     "output_type": "stream",
     "text": [
      "/home/DS-DH/jupyter/digitalHouse/modelo-properatti/Util.py:108: FutureWarning: Method .as_matrix will be removed in a future version. Use .values instead.\n",
      "  xs = xs.as_matrix()\n",
      "/home/DS-DH/jupyter/digitalHouse/modelo-properatti/Util.py:109: FutureWarning: Method .as_matrix will be removed in a future version. Use .values instead.\n",
      "  y = y.as_matrix()\n"
     ]
    },
    {
     "name": "stdout",
     "output_type": "stream",
     "text": [
      "LASSO REGRESSION\n",
      "CROSS VALIDATION: 0.8259023565868884 0.8334533885965255 0.8368437654620631 0.8307889353718871 0.8408744973527152\n",
      "MAE LASSO: 240.4790745213374\n",
      "MSE LASSO: 90006.93997013563\n",
      "RMSE LASSO: 300.0115663939236\n",
      "LASSO -> R2 TRAIN:  0.8373676122415304\n",
      "LASSO -> R2 TEST:  0.8264892269321906\n",
      "len indices;  72\n",
      "tamaño df0:  76\n"
     ]
    },
    {
     "name": "stderr",
     "output_type": "stream",
     "text": [
      "/home/DS-DH/jupyter/digitalHouse/modelo-properatti/Util.py:108: FutureWarning: Method .as_matrix will be removed in a future version. Use .values instead.\n",
      "  xs = xs.as_matrix()\n",
      "/home/DS-DH/jupyter/digitalHouse/modelo-properatti/Util.py:109: FutureWarning: Method .as_matrix will be removed in a future version. Use .values instead.\n",
      "  y = y.as_matrix()\n"
     ]
    },
    {
     "name": "stdout",
     "output_type": "stream",
     "text": [
      "LASSO REGRESSION\n",
      "CROSS VALIDATION: 0.8367254632303196 0.8113421568276281 0.8456734789605241 0.8338311172242875 0.8371727211859251\n",
      "MAE LASSO: 241.08775203719017\n",
      "MSE LASSO: 90817.6113823021\n",
      "RMSE LASSO: 301.3596047619888\n",
      "LASSO -> R2 TRAIN:  0.8377445038819713\n",
      "LASSO -> R2 TEST:  0.8255878835834782\n",
      "len indices;  69\n",
      "tamaño df0:  72\n"
     ]
    },
    {
     "name": "stderr",
     "output_type": "stream",
     "text": [
      "/home/DS-DH/jupyter/digitalHouse/modelo-properatti/Util.py:108: FutureWarning: Method .as_matrix will be removed in a future version. Use .values instead.\n",
      "  xs = xs.as_matrix()\n",
      "/home/DS-DH/jupyter/digitalHouse/modelo-properatti/Util.py:109: FutureWarning: Method .as_matrix will be removed in a future version. Use .values instead.\n",
      "  y = y.as_matrix()\n"
     ]
    },
    {
     "name": "stdout",
     "output_type": "stream",
     "text": [
      "LASSO REGRESSION\n",
      "CROSS VALIDATION: 0.8301097884931019 0.8414049403858053 0.8409091739688404 0.8066547019876077 0.8337645285836967\n",
      "MAE LASSO: 242.4454111257488\n",
      "MSE LASSO: 91446.70074120242\n",
      "RMSE LASSO: 302.401555454337\n",
      "LASSO -> R2 TRAIN:  0.83622057091248\n",
      "LASSO -> R2 TEST:  0.8288132260496236\n",
      "len indices;  68\n",
      "tamaño df0:  69\n"
     ]
    },
    {
     "name": "stderr",
     "output_type": "stream",
     "text": [
      "/home/DS-DH/jupyter/digitalHouse/modelo-properatti/Util.py:108: FutureWarning: Method .as_matrix will be removed in a future version. Use .values instead.\n",
      "  xs = xs.as_matrix()\n",
      "/home/DS-DH/jupyter/digitalHouse/modelo-properatti/Util.py:109: FutureWarning: Method .as_matrix will be removed in a future version. Use .values instead.\n",
      "  y = y.as_matrix()\n"
     ]
    },
    {
     "name": "stdout",
     "output_type": "stream",
     "text": [
      "LASSO REGRESSION\n",
      "CROSS VALIDATION: 0.817260777981601 0.8219312043139715 0.8277189162444701 0.8310611981730665 0.8264950200412574\n",
      "MAE LASSO: 239.30577843318892\n",
      "MSE LASSO: 87499.31403190637\n",
      "RMSE LASSO: 295.8028296550024\n",
      "LASSO -> R2 TRAIN:  0.8297050911165516\n",
      "LASSO -> R2 TEST:  0.8385725011374976\n",
      "len indices;  66\n",
      "tamaño df0:  68\n"
     ]
    },
    {
     "name": "stderr",
     "output_type": "stream",
     "text": [
      "/home/DS-DH/jupyter/digitalHouse/modelo-properatti/Util.py:108: FutureWarning: Method .as_matrix will be removed in a future version. Use .values instead.\n",
      "  xs = xs.as_matrix()\n",
      "/home/DS-DH/jupyter/digitalHouse/modelo-properatti/Util.py:109: FutureWarning: Method .as_matrix will be removed in a future version. Use .values instead.\n",
      "  y = y.as_matrix()\n"
     ]
    },
    {
     "name": "stdout",
     "output_type": "stream",
     "text": [
      "LASSO REGRESSION\n",
      "CROSS VALIDATION: 0.828611184402971 0.8235748962630827 0.847665793651104 0.8370535965685333 0.8261810908346476\n",
      "MAE LASSO: 240.91622585475838\n",
      "MSE LASSO: 90858.51288697984\n",
      "RMSE LASSO: 301.42745874750665\n",
      "LASSO -> R2 TRAIN:  0.8366639657418228\n",
      "LASSO -> R2 TEST:  0.8282105761347994\n",
      "len indices;  65\n",
      "tamaño df0:  66\n"
     ]
    },
    {
     "name": "stderr",
     "output_type": "stream",
     "text": [
      "/home/DS-DH/jupyter/digitalHouse/modelo-properatti/Util.py:108: FutureWarning: Method .as_matrix will be removed in a future version. Use .values instead.\n",
      "  xs = xs.as_matrix()\n",
      "/home/DS-DH/jupyter/digitalHouse/modelo-properatti/Util.py:109: FutureWarning: Method .as_matrix will be removed in a future version. Use .values instead.\n",
      "  y = y.as_matrix()\n"
     ]
    },
    {
     "name": "stdout",
     "output_type": "stream",
     "text": [
      "LASSO REGRESSION\n",
      "CROSS VALIDATION: 0.8300148957508783 0.840326866112874 0.81707553003287 0.8243278703696328 0.8318741732345193\n",
      "MAE LASSO: 238.8851741342109\n",
      "MSE LASSO: 89416.6933027133\n",
      "RMSE LASSO: 299.0262418295647\n",
      "LASSO -> R2 TRAIN:  0.8329638940949713\n",
      "LASSO -> R2 TEST:  0.8340342889738321\n",
      "len indices;  64\n",
      "tamaño df0:  65\n"
     ]
    },
    {
     "name": "stderr",
     "output_type": "stream",
     "text": [
      "/home/DS-DH/jupyter/digitalHouse/modelo-properatti/Util.py:108: FutureWarning: Method .as_matrix will be removed in a future version. Use .values instead.\n",
      "  xs = xs.as_matrix()\n",
      "/home/DS-DH/jupyter/digitalHouse/modelo-properatti/Util.py:109: FutureWarning: Method .as_matrix will be removed in a future version. Use .values instead.\n",
      "  y = y.as_matrix()\n"
     ]
    },
    {
     "name": "stdout",
     "output_type": "stream",
     "text": [
      "LASSO REGRESSION\n",
      "CROSS VALIDATION: 0.8304294657747081 0.8447280289651468 0.8254208901176526 0.8310758567813729 0.8287155113630338\n",
      "MAE LASSO: 239.62387696534282\n",
      "MSE LASSO: 89772.899228729\n",
      "RMSE LASSO: 299.62125964078217\n",
      "LASSO -> R2 TRAIN:  0.8355833941500013\n",
      "LASSO -> R2 TEST:  0.8297237766235113\n",
      "len indices;  61\n",
      "tamaño df0:  64\n"
     ]
    },
    {
     "name": "stderr",
     "output_type": "stream",
     "text": [
      "/home/DS-DH/jupyter/digitalHouse/modelo-properatti/Util.py:108: FutureWarning: Method .as_matrix will be removed in a future version. Use .values instead.\n",
      "  xs = xs.as_matrix()\n",
      "/home/DS-DH/jupyter/digitalHouse/modelo-properatti/Util.py:109: FutureWarning: Method .as_matrix will be removed in a future version. Use .values instead.\n",
      "  y = y.as_matrix()\n"
     ]
    },
    {
     "name": "stdout",
     "output_type": "stream",
     "text": [
      "LASSO REGRESSION\n",
      "CROSS VALIDATION: 0.8289015922356531 0.8421771252069287 0.8052260051488433 0.8393792614433052 0.8280358232509855\n",
      "MAE LASSO: 239.28595006398214\n",
      "MSE LASSO: 90084.6495489721\n",
      "RMSE LASSO: 300.1410494233871\n",
      "LASSO -> R2 TRAIN:  0.833886313563915\n",
      "LASSO -> R2 TEST:  0.8322913159893058\n",
      "len indices;  61\n",
      "tamaño df0:  61\n",
      "break\n"
     ]
    },
    {
     "data": {
      "text/plain": [
       "(10064, 62)"
      ]
     },
     "execution_count": 10,
     "metadata": {},
     "output_type": "execute_result"
    },
    {
     "data": {
      "image/png": "[encoded data removed]",
      "text/plain": [
       "<Figure size 432x288 with 1 Axes>"
      ]
     },
     "metadata": {
      "needs_background": "light"
     },
     "output_type": "display_data"
    }
   ],
   "source": [
    "modeloMatriz_2 = utl.eliminar_features_lasso(modeloMatriz)\n",
    "modeloMatriz_2.shape"
   ]
  },
  {
   "cell_type": "markdown",
   "metadata": {},
   "source": [
    "#### SE LIMPIAN VARIABLES CON CORRELACION BAJA "
   ]
  },
  {
   "cell_type": "code",
   "execution_count": 11,
   "metadata": {},
   "outputs": [
    {
     "data": {
      "text/plain": [
       "(10064, 31)"
      ]
     },
     "execution_count": 11,
     "metadata": {},
     "output_type": "execute_result"
    }
   ],
   "source": [
    "modeloMatriz_3 = utl.eliminar_features(modeloMatriz)\n",
    "modeloMatriz_3.shape"
   ]
  },
  {
   "cell_type": "code",
   "execution_count": null,
   "metadata": {},
   "outputs": [],
   "source": []
  },
  {
   "cell_type": "markdown",
   "metadata": {},
   "source": [
    "### Regresion Lineal Multiple"
   ]
  },
  {
   "cell_type": "code",
   "execution_count": 15,
   "metadata": {},
   "outputs": [
    {
     "name": "stderr",
     "output_type": "stream",
     "text": [
      "/home/DS-DH/jupyter/digitalHouse/modelo-properatti/Util.py:243: FutureWarning: Method .as_matrix will be removed in a future version. Use .values instead.\n",
      "  xs = xs.as_matrix()\n",
      "/home/DS-DH/jupyter/digitalHouse/modelo-properatti/Util.py:245: FutureWarning: Method .as_matrix will be removed in a future version. Use .values instead.\n",
      "  y = y.as_matrix()\n"
     ]
    },
    {
     "data": {
      "image/png": "[encoded data removed]",
      "text/plain": [
       "<Figure size 432x288 with 1 Axes>"
      ]
     },
     "metadata": {
      "needs_background": "light"
     },
     "output_type": "display_data"
    },
    {
     "name": "stdout",
     "output_type": "stream",
     "text": [
      "CROSS VALIDATION: 0.7923319413317268 0.7842865356122833 0.795723748715061 0.8251346541652222 0.8085803237309727\n",
      "MAE: 260.57158763375855\n",
      "MSE: 105633.7062774817\n",
      "RMSE: 325.01339399705006\n",
      "EL R2 TRAIN ES DE:  0.8056122040162375\n",
      "EL R2 TEST ES DE:  0.8008180820295149\n"
     ]
    }
   ],
   "source": [
    "modelo = utl.modelo_regresion_lineal(modeloMatriz_3)"
   ]
  },
  {
   "cell_type": "markdown",
   "metadata": {},
   "source": [
    "#### Regresion Ridge"
   ]
  },
  {
   "cell_type": "code",
   "execution_count": 17,
   "metadata": {},
   "outputs": [
    {
     "name": "stderr",
     "output_type": "stream",
     "text": [
      "/home/DS-DH/jupyter/digitalHouse/modelo-properatti/Util.py:144: FutureWarning: Method .as_matrix will be removed in a future version. Use .values instead.\n",
      "  xs = xs.as_matrix()\n",
      "/home/DS-DH/jupyter/digitalHouse/modelo-properatti/Util.py:145: FutureWarning: Method .as_matrix will be removed in a future version. Use .values instead.\n",
      "  y = y.as_matrix()\n"
     ]
    },
    {
     "name": "stdout",
     "output_type": "stream",
     "text": [
      "REGULARIZACION CON RIDGE\n",
      "CROSS VALIDATION: 0.838573011388775 0.8219775307381142 0.8292211408609581 0.8114463883085005 0.8353611719430247\n",
      "MAE RIDGE: 238.61575260529855\n",
      "MSE RIDGE: 88813.90448295094\n",
      "RMSE RIDGE: 298.0166177966439\n",
      "RIDGE -> R2 TRAIN:  0.831295308734194\n",
      "RIDGE -> R2 TEST:  0.8359086680144617\n"
     ]
    },
    {
     "data": {
      "text/plain": [
       "(1718.9728647368602,\n",
       " array([-4.18851824e-01, -1.41434556e+01, -1.40034946e+01, -2.49586682e+01,\n",
       "        -3.86285827e+01, -2.96595732e+01, -4.24289167e+01, -1.40450101e+02,\n",
       "         5.57822042e+02, -4.35214199e+02,  7.56799204e+02,  4.90883286e+01,\n",
       "         8.48621718e+02, -1.99558056e+02, -4.74694233e+02, -3.51166586e+02,\n",
       "         1.81076260e+02,  6.86255065e+02, -2.52992198e+02, -2.18924002e+02,\n",
       "         1.00804502e+03,  8.65574432e+02,  2.89274371e+03,  2.63976292e+02,\n",
       "         5.75338477e+02,  1.55797774e+02,  3.52634313e+02, -1.99308984e+02,\n",
       "        -1.09201647e+02, -5.97143361e+02, -2.80877719e+02, -1.22172362e+02,\n",
       "        -1.90692654e+02,  5.62073781e+02,  1.57166899e+01,  3.03918369e+02,\n",
       "        -8.03294588e+01,  9.80586086e+01,  3.35920327e+02, -4.77235750e+02,\n",
       "        -2.56028142e+02, -2.68734388e+02, -4.49949652e+02, -2.51552996e+02,\n",
       "        -5.40329121e+01, -4.33459197e+02, -8.65633662e+01, -3.51901998e+02,\n",
       "        -3.04452881e+02, -1.83428421e+02,  1.09314826e+03,  1.12904642e+01,\n",
       "        -1.40449385e+02, -2.07439623e+02,  2.48806428e+02, -2.52141466e+02,\n",
       "        -6.78643998e+02, -1.60150691e+02,  9.33774192e+01, -1.82215213e+02,\n",
       "        -8.01080695e+02]))"
      ]
     },
     "execution_count": 17,
     "metadata": {},
     "output_type": "execute_result"
    },
    {
     "data": {
      "image/png": "[encoded data removed]",
      "text/plain": [
       "<Figure size 432x288 with 1 Axes>"
      ]
     },
     "metadata": {
      "needs_background": "light"
     },
     "output_type": "display_data"
    }
   ],
   "source": [
    "modelo_ridge = utl.modelo_ridge_cross_validation(modeloMatriz_2)\n",
    "(modelo_ridge.intercept_,modelo_ridge.coef_)"
   ]
  },
  {
   "cell_type": "markdown",
   "metadata": {},
   "source": [
    "### STATS PROPERTIES "
   ]
  },
  {
   "cell_type": "code",
   "execution_count": 22,
   "metadata": {},
   "outputs": [
    {
     "name": "stdout",
     "output_type": "stream",
     "text": [
      "EMC: 106673.88394123357\n",
      "                            OLS Regression Results                            \n",
      "==============================================================================\n",
      "Dep. Variable:              precio_m2   R-squared:                       0.809\n",
      "Model:                            OLS   Adj. R-squared:                  0.807\n",
      "Method:                 Least Squares   F-statistic:                     582.2\n",
      "Date:                Mon, 04 May 2020   Prob (F-statistic):               0.00\n",
      "Time:                        03:09:43   Log-Likelihood:                -28946.\n",
      "No. Observations:                4025   AIC:                         5.795e+04\n",
      "Df Residuals:                    3995   BIC:                         5.814e+04\n",
      "Df Model:                          29                                         \n",
      "Covariance Type:            nonrobust                                         \n",
      "==============================================================================================\n",
      "                                 coef    std err          t      P>|t|      [0.025      0.975]\n",
      "----------------------------------------------------------------------------------------------\n",
      "superficie_total              -0.3600      0.062     -5.822      0.000      -0.481      -0.239\n",
      "superficieJardines             5.5869     18.056      0.309      0.757     -29.814      40.988\n",
      "superficieJardinesTerrazas    -4.4429     21.430     -0.207      0.836     -46.458      37.572\n",
      "CASA                        1617.8771     31.686     51.060      0.000    1555.756    1679.998\n",
      "PH                          1778.5721     24.249     73.346      0.000    1731.031    1826.114\n",
      "DTO                         2367.8289      9.685    244.480      0.000    2348.841    2386.817\n",
      "mataderos                   -529.0303     43.723    -12.100      0.000    -614.752    -443.309\n",
      "belgrano                     666.7389     18.570     35.905      0.000     630.332     703.146\n",
      "palermo_soho                   3.9376     54.934      0.072      0.943    -103.764     111.640\n",
      "palermo                      757.6758     18.815     40.270      0.000     720.788     794.563\n",
      "flores                      -316.4512     26.580    -11.906      0.000    -368.562    -264.341\n",
      "boedo                       -684.4309     33.551    -20.400      0.000    -750.210    -618.652\n",
      "balvanera                   -435.7711     33.254    -13.105      0.000    -500.967    -370.576\n",
      "nunez                        562.0673     33.079     16.992      0.000     497.215     626.920\n",
      "almagro                     -137.1013     25.200     -5.440      0.000    -186.508     -87.694\n",
      "capital_federal             -388.6936     31.930    -12.173      0.000    -451.294    -326.093\n",
      "barracas                    -351.7914     38.725     -9.084      0.000    -427.714    -275.868\n",
      "las_canitas                  961.1464     65.154     14.752      0.000     833.409    1088.884\n",
      "recoleta                     775.1963     25.082     30.906      0.000     726.021     824.372\n",
      "puerto_madero               2788.1639     45.668     61.053      0.000    2698.629    2877.699\n",
      "barrio_norte                 485.0489     26.711     18.159      0.000     432.680     537.418\n",
      "palermo_hollywood             -2.7297     42.032     -0.065      0.948     -85.136      79.676\n",
      "floresta                     -87.0708     48.611     -1.791      0.073    -182.375       8.233\n",
      "boca                        -660.1175     63.842    -10.340      0.000    -785.284    -534.951\n",
      "san_cristobal               -356.3597     37.044     -9.620      0.000    -428.987    -283.732\n",
      "liniers                     -378.6939     48.474     -7.812      0.000    -473.731    -283.657\n",
      "constitucion                -632.4302     70.938     -8.915      0.000    -771.509    -493.352\n",
      "parque_patricios            -513.9543     58.725     -8.752      0.000    -629.088    -398.821\n",
      "palermo_chico                900.9468     62.426     14.432      0.000     778.556    1023.337\n",
      "villa_lugano                -829.0999     68.021    -12.189      0.000    -962.459    -695.741\n",
      "==============================================================================\n",
      "Omnibus:                       42.535   Durbin-Watson:                   2.051\n",
      "Prob(Omnibus):                  0.000   Jarque-Bera (JB):               43.674\n",
      "Skew:                           0.252   Prob(JB):                     3.28e-10\n",
      "Kurtosis:                       2.917   Cond. No.                     2.22e+03\n",
      "==============================================================================\n",
      "\n",
      "Warnings:\n",
      "[1] Standard Errors assume that the covariance matrix of the errors is correctly specified.\n",
      "[2] The condition number is large, 2.22e+03. This might indicate that there are\n",
      "strong multicollinearity or other numerical problems.\n"
     ]
    },
    {
     "data": {
      "text/plain": [
       "<statsmodels.regression.linear_model.RegressionResultsWrapper at 0x7f49a9cab198>"
      ]
     },
     "execution_count": 22,
     "metadata": {},
     "output_type": "execute_result"
    }
   ],
   "source": [
    "utl.summary(modeloMatriz_3)"
   ]
  },
  {
   "cell_type": "markdown",
   "metadata": {},
   "source": [
    "#### Lasso Regression"
   ]
  },
  {
   "cell_type": "code",
   "execution_count": 24,
   "metadata": {
    "scrolled": false
   },
   "outputs": [
    {
     "name": "stderr",
     "output_type": "stream",
     "text": [
      "/home/DS-DH/jupyter/digitalHouse/modelo-properatti/Util.py:108: FutureWarning: Method .as_matrix will be removed in a future version. Use .values instead.\n",
      "  xs = xs.as_matrix()\n",
      "/home/DS-DH/jupyter/digitalHouse/modelo-properatti/Util.py:109: FutureWarning: Method .as_matrix will be removed in a future version. Use .values instead.\n",
      "  y = y.as_matrix()\n"
     ]
    },
    {
     "name": "stdout",
     "output_type": "stream",
     "text": [
      "LASSO REGRESSION\n",
      "CROSS VALIDATION: 0.8130288995853117 0.8031439664548383 0.7968566331945469 0.7770632929822912 0.8065059691797988\n",
      "MAE LASSO: 258.1865178520358\n",
      "MSE LASSO: 102042.52303679455\n",
      "RMSE LASSO: 319.4409539129173\n",
      "LASSO -> R2 TRAIN:  0.8020755242713115\n",
      "LASSO -> R2 TEST:  0.8047086570794714\n"
     ]
    },
    {
     "data": {
      "text/plain": [
       "(1744.3686738201375,\n",
       " array([-3.82421880e-01, -1.43083351e+01,  1.70950803e+01, -1.00327458e+02,\n",
       "        -0.00000000e+00,  6.25110822e+02, -4.91691503e+02,  6.61662704e+02,\n",
       "         9.93650034e+01,  7.55027438e+02, -2.77771017e+02, -5.82888469e+02,\n",
       "        -4.71255234e+02,  5.75969841e+02, -1.48756698e+02, -3.30960995e+02,\n",
       "        -3.34525745e+02,  1.00208027e+03,  7.64300859e+02,  2.77680603e+03,\n",
       "         4.89552444e+02, -3.68335787e+01, -1.17180986e+02, -6.76303314e+02,\n",
       "        -3.70351736e+02, -3.40235174e+02, -5.58460388e+02, -4.85642939e+02,\n",
       "         1.05482477e+03, -7.81892826e+02]))"
      ]
     },
     "execution_count": 24,
     "metadata": {},
     "output_type": "execute_result"
    },
    {
     "data": {
      "image/png": "[encoded data removed]",
      "text/plain": [
       "<Figure size 432x288 with 1 Axes>"
      ]
     },
     "metadata": {
      "needs_background": "light"
     },
     "output_type": "display_data"
    }
   ],
   "source": [
    "modelo_lasso = utl.modelo_lasso_cross_validation(modeloMatriz_3)\n",
    "(modelo_lasso.intercept_,modelo_lasso.coef_)"
   ]
  },
  {
   "cell_type": "markdown",
   "metadata": {},
   "source": [
    "## PARAMETROS A PREDECIR\n",
    "###### PARA LA PREDICCION DE PRECIOS POR M2 DE ALQUILERES EN CAPITAL FEDERAL\n",
    "## NORMALIZAR O NO.. DEPENDE EL MODELO A USAR"
   ]
  },
  {
   "cell_type": "code",
   "execution_count": 29,
   "metadata": {},
   "outputs": [
    {
     "data": {
      "text/plain": [
       "'EL RESULTADO DEL MODELO PARA LAS VARIABLES INGRESADAS ES DE 2247 U$D POR M2'"
      ]
     },
     "execution_count": 29,
     "metadata": {},
     "output_type": "execute_result"
    }
   ],
   "source": [
    "SUPERFICIE_TOTAL = 30             ##  [0,600]\n",
    "JARDIN = '0'                      ##  0,1\n",
    "TERRAZA = '1'                     ##  0,1\n",
    "CANTIDAD_DE_AMBIENTES = '1'       ##  1,2,3,4,4,5,6,7\n",
    "TIPO_DE_PROPIEDAD = 'DTO'         ##  CASA, PH, DTO\n",
    "BARRIO = 'belgrano'          ##  barrios de CABA, en minusculas\n",
    "\n",
    "nuevos_Feactures = utl.nuevosDatos(modeloMatriz_3, SUPERFICIE_TOTAL, JARDIN, TERRAZA, CANTIDAD_DE_AMBIENTES, TIPO_DE_PROPIEDAD, BARRIO)\n",
    "y_predict = modelo_ridge.predict(nuevos_Feactures)\n",
    "\n",
    "'EL RESULTADO DEL MODELO PARA LAS VARIABLES INGRESADAS ES DE {} U$D POR M2'.format(y_predict[0].astype(int))\n"
   ]
  },
  {
   "cell_type": "code",
   "execution_count": null,
   "metadata": {},
   "outputs": [],
   "source": [
    "diccionario = {'modelo':modelo_ridge,'modeloMatriz':modeloMatriz_3}"
   ]
  },
  {
   "cell_type": "markdown",
   "metadata": {},
   "source": [
    "## GUARDAMOS EN PKL"
   ]
  },
  {
   "cell_type": "code",
   "execution_count": 26,
   "metadata": {},
   "outputs": [],
   "source": [
    "import os\n",
    "import pickle\n",
    "with open('modelo.pkl', 'wb') as pkl:\n",
    "    pickle.dump(diccionario, pkl)"
   ]
  }
 ],
 "metadata": {
  "kernelspec": {
   "display_name": "Python 3",
   "language": "python",
   "name": "python3"
  },
  "language_info": {
   "codemirror_mode": {
    "name": "ipython",
    "version": 3
   },
   "file_extension": ".py",
   "mimetype": "text/x-python",
   "name": "python",
   "nbconvert_exporter": "python",
   "pygments_lexer": "ipython3",
   "version": "3.6.6"
  }
 },
 "nbformat": 4,
 "nbformat_minor": 2
}
