{
 "cells": [
  {
   "cell_type": "code",
   "execution_count": 621,
   "metadata": {},
   "outputs": [],
   "source": [
    "#from IPython import get_ipython\n",
    "#get_ipython().magic('reset -sf') "
   ]
  },
  {
   "cell_type": "code",
   "execution_count": 2,
   "metadata": {},
   "outputs": [
    {
     "data": {
      "text/plain": [
       "[]"
      ]
     },
     "execution_count": 2,
     "metadata": {},
     "output_type": "execute_result"
    }
   ],
   "source": [
    "%who_ls"
   ]
  },
  {
   "cell_type": "markdown",
   "metadata": {},
   "source": [
    "# DESAFIO MODELO PROPERATTI"
   ]
  },
  {
   "cell_type": "code",
   "execution_count": 1,
   "metadata": {},
   "outputs": [
    {
     "name": "stderr",
     "output_type": "stream",
     "text": [
      "/opt/conda/lib/python3.6/site-packages/sklearn/cross_validation.py:41: DeprecationWarning: This module was deprecated in version 0.18 in favor of the model_selection module into which all the refactored classes and functions are moved. Also note that the interface of the new CV iterators are different from that of this module. This module will be removed in 0.20.\n",
      "  \"This module will be removed in 0.20.\", DeprecationWarning)\n"
     ]
    }
   ],
   "source": [
    "import Util as utl\n",
    "import pandas as pd\n",
    "import numpy as np"
   ]
  },
  {
   "cell_type": "code",
   "execution_count": null,
   "metadata": {},
   "outputs": [],
   "source": []
  },
  {
   "cell_type": "code",
   "execution_count": 2,
   "metadata": {},
   "outputs": [],
   "source": [
    "#data = pd.read_csv('/home/DS-DH/notebooks/digitalHouse/properatti.csv')"
   ]
  },
  {
   "cell_type": "code",
   "execution_count": 3,
   "metadata": {},
   "outputs": [
    {
     "name": "stderr",
     "output_type": "stream",
     "text": [
      "/home/DS-DH/notebooks/digitalHouse/modelo-properatti/ipynb/Util.py:368: UserWarning: Pandas doesn't allow columns to be created via a new attribute name - see https://pandas.pydata.org/pandas-docs/stable/indexing.html#attribute-access\n",
      "  data.ambientesImputados = ImputarAmbientesProceso(data,10)\n"
     ]
    }
   ],
   "source": [
    "#data = utl.limpiarDatos(data,0.055)"
   ]
  },
  {
   "cell_type": "code",
   "execution_count": 2,
   "metadata": {},
   "outputs": [],
   "source": [
    "data = pd.read_csv('/home/DS-DH/notebooks/digitalHouse/data.csv',sep='|')\n",
    "#data.to_csv('/home/DS-DH/notebooks/digitalHouse/data.csv',sep='|')"
   ]
  },
  {
   "cell_type": "code",
   "execution_count": 3,
   "metadata": {},
   "outputs": [],
   "source": [
    "matriz = utl.GenerarMatriz(data)"
   ]
  },
  {
   "cell_type": "code",
   "execution_count": 4,
   "metadata": {},
   "outputs": [],
   "source": [
    "modeloMatriz = utl.generarDummies(matriz)"
   ]
  },
  {
   "cell_type": "code",
   "execution_count": 30,
   "metadata": {},
   "outputs": [
    {
     "data": {
      "text/plain": [
       "(30917, 76)"
      ]
     },
     "execution_count": 30,
     "metadata": {},
     "output_type": "execute_result"
    }
   ],
   "source": [
    "#modeloMatriz.shape"
   ]
  },
  {
   "cell_type": "code",
   "execution_count": 8,
   "metadata": {},
   "outputs": [],
   "source": [
    "modeloMatriz=modeloMatriz[(modeloMatriz.superficie_total>20) & (modeloMatriz.superficie_total<900)]\n",
    "modeloMatriz=modeloMatriz[(modeloMatriz.precio_m2>20) & (modeloMatriz.precio_m2<8000)]"
   ]
  },
  {
   "cell_type": "markdown",
   "metadata": {},
   "source": [
    "# Regresion Lineal Multiple"
   ]
  },
  {
   "cell_type": "code",
   "execution_count": 5,
   "metadata": {},
   "outputs": [
    {
     "name": "stderr",
     "output_type": "stream",
     "text": [
      "/home/DS-DH/notebooks/digitalHouse/modelo-properatti/ipynb/Util.py:99: FutureWarning: Method .as_matrix will be removed in a future version. Use .values instead.\n",
      "  xs = xs.as_matrix()\n",
      "/home/DS-DH/notebooks/digitalHouse/modelo-properatti/ipynb/Util.py:101: FutureWarning: Method .as_matrix will be removed in a future version. Use .values instead.\n",
      "  y = y.as_matrix()\n"
     ]
    },
    {
     "data": {
      "image/png": "[encoded data removed]",
      "text/plain": [
       "<Figure size 432x288 with 1 Axes>"
      ]
     },
     "metadata": {},
     "output_type": "display_data"
    },
    {
     "name": "stdout",
     "output_type": "stream",
     "text": [
      "CROSS VALIDATION: 0.8886573350918217 0.8753068656334284 0.8953321739613548 0.9156477152933428 0.9016816626539522\n",
      "MAE: 204.02924197659974\n",
      "MSE: 320401.24789399677\n",
      "RMSE: 566.0399702264821\n",
      "EL R2 TRAIN ES DE:  0.89688464880198\n",
      "EL R2 TEST ES DE:  0.8615507707633846\n"
     ]
    }
   ],
   "source": [
    "modelo = utl.modelo_regresion_lineal(modeloMatriz)"
   ]
  },
  {
   "cell_type": "markdown",
   "metadata": {},
   "source": [
    "#  Ridge Regression"
   ]
  },
  {
   "cell_type": "code",
   "execution_count": 6,
   "metadata": {},
   "outputs": [
    {
     "name": "stderr",
     "output_type": "stream",
     "text": [
      "/home/DS-DH/notebooks/digitalHouse/modelo-properatti/ipynb/Util.py:59: FutureWarning: Method .as_matrix will be removed in a future version. Use .values instead.\n",
      "  xs = xs.as_matrix()\n",
      "/home/DS-DH/notebooks/digitalHouse/modelo-properatti/ipynb/Util.py:60: FutureWarning: Method .as_matrix will be removed in a future version. Use .values instead.\n",
      "  y = y.as_matrix()\n"
     ]
    },
    {
     "name": "stdout",
     "output_type": "stream",
     "text": [
      "REGULARIZACION CON RIDGE\n",
      "CROSS VALIDATION: 0.878761204814513 0.8754147827456625 0.8994082550704838 0.9007822015417697 0.8444003027103615\n",
      "MAE RIDGE: 216.97843437217156\n",
      "MSE RIDGE: 230953.66951729046\n",
      "RMSE RIDGE: 480.5763930087395\n",
      "RIDGE -> R2 TRAIN:  0.8818384960681905\n",
      "RIDGE -> R2 TEST:  0.8971416403993657\n"
     ]
    },
    {
     "data": {
      "image/png": "[encoded data removed]",
      "text/plain": [
       "<Figure size 432x288 with 1 Axes>"
      ]
     },
     "metadata": {},
     "output_type": "display_data"
    }
   ],
   "source": [
    "modelo_ridge = utl.modelo_ridge_cross_validation(modeloMatriz)"
   ]
  },
  {
   "cell_type": "code",
   "execution_count": 9,
   "metadata": {},
   "outputs": [
    {
     "data": {
      "text/plain": [
       "(5480.5978101829005,\n",
       " array([-1.24138992e+01, -4.32212816e+01,  3.23360190e+00, -3.81293531e+00,\n",
       "         1.16893400e+01, -1.68783604e+01, -5.26908358e+01, -6.11279081e+01,\n",
       "        -8.80695040e+01, -8.04471988e+01, -5.20226031e+01,  8.77175771e+01,\n",
       "        -1.63867503e+03, -1.69161148e+03, -1.36786851e+03, -1.28415962e+03,\n",
       "         2.27260681e+02, -4.06817542e+02,  6.66244951e+02, -9.70814396e+02,\n",
       "         3.44866677e+03,  9.12344907e+02, -8.12763721e+02, -7.02170985e+02,\n",
       "         1.12510833e+03, -2.52234411e+02, -7.68822981e+02,  2.12667924e+02,\n",
       "        -6.50111136e+02, -3.63203166e+02,  2.58443288e+02, -9.71482119e+02,\n",
       "         9.04179164e+02, -8.12586503e+02, -7.34863716e+02,  3.91000851e+03,\n",
       "        -1.32163369e+03, -9.16705712e+02, -1.20143020e+03, -4.20267892e+02,\n",
       "        -1.24067645e+03, -2.60797716e+03, -1.30204330e+03, -1.18286964e+03,\n",
       "        -5.28690760e+02, -9.89404563e+02, -3.88773296e+02,  2.84515852e+03,\n",
       "        -7.02977863e+02, -8.10815693e+02, -1.14033864e+03, -1.03507987e+03,\n",
       "         4.31726963e+03, -1.22590351e+03, -1.06156201e+03, -7.94367079e+02,\n",
       "        -5.95637720e+02,  3.14526815e+02, -1.21044780e+03, -5.61743898e+02,\n",
       "        -1.02861080e+03, -8.74357068e+02, -1.20903959e+03, -1.02937955e+03,\n",
       "        -1.03875917e+03, -1.43221223e+03, -1.39801293e+03, -2.11266889e+03,\n",
       "        -9.78792629e+02, -1.24841033e+03,  1.08910128e+03, -1.75374348e+03,\n",
       "        -8.78725096e+02,  6.89782709e-03,  8.50269650e-10]))"
      ]
     },
     "execution_count": 9,
     "metadata": {},
     "output_type": "execute_result"
    }
   ],
   "source": [
    "(modelo_ridge.intercept_,modelo_ridge.coef_)"
   ]
  },
  {
   "cell_type": "markdown",
   "metadata": {},
   "source": [
    "# Lasso Regression"
   ]
  },
  {
   "cell_type": "code",
   "execution_count": 7,
   "metadata": {},
   "outputs": [
    {
     "name": "stderr",
     "output_type": "stream",
     "text": [
      "/home/DS-DH/notebooks/digitalHouse/modelo-properatti/ipynb/Util.py:23: FutureWarning: Method .as_matrix will be removed in a future version. Use .values instead.\n",
      "  xs = xs.as_matrix()\n",
      "/home/DS-DH/notebooks/digitalHouse/modelo-properatti/ipynb/Util.py:24: FutureWarning: Method .as_matrix will be removed in a future version. Use .values instead.\n",
      "  y = y.as_matrix()\n"
     ]
    },
    {
     "name": "stdout",
     "output_type": "stream",
     "text": [
      "LASSO REGRESSION\n",
      "CROSS VALIDATION: 0.8754515607996983 0.8860164282995943 0.9037671525767048 0.8857539167546796 0.8903989438164658\n",
      "MAE LASSO: 209.64865047942007\n",
      "MSE LASSO: 249267.2229376732\n",
      "RMSE LASSO: 499.26668518705833\n",
      "LASSO -> R2 TRAIN:  0.8936141626917302\n",
      "LASSO -> R2 TEST:  0.8906213270338014\n"
     ]
    },
    {
     "data": {
      "image/png": "[encoded data removed]",
      "text/plain": [
       "<Figure size 432x288 with 1 Axes>"
      ]
     },
     "metadata": {},
     "output_type": "display_data"
    }
   ],
   "source": [
    "modelo_lasso = utl.modelo_lasso_cross_validation(modeloMatriz)"
   ]
  },
  {
   "cell_type": "code",
   "execution_count": 8,
   "metadata": {},
   "outputs": [
    {
     "data": {
      "text/plain": [
       "(5479.715267200303,\n",
       " array([-2.06584344e+01, -0.00000000e+00, -2.83333615e+01, -1.33651457e+02,\n",
       "         5.32198906e+00, -1.47031050e+01, -4.65049895e+01, -3.79687244e+01,\n",
       "        -2.40059882e+00,  6.28545815e+01, -1.82928140e+02,  6.14034447e+01,\n",
       "        -1.74490023e+03, -1.82480295e+03, -4.06193335e+02, -6.37667635e+02,\n",
       "         1.06528775e+03, -5.88119190e+02,  1.42345759e+03, -2.05401928e+02,\n",
       "         3.99408247e+03,  1.66984384e+03, -1.60292730e+02, -0.00000000e+00,\n",
       "         1.82453214e+03,  2.75084209e+02, -1.03012423e+02,  9.80802634e+02,\n",
       "         4.19926483e+00, -3.69399323e+02,  1.07583737e+03, -1.39680174e+02,\n",
       "         1.74845028e+03, -1.35015082e+02, -1.37421268e+02,  4.89123686e+03,\n",
       "        -7.80402606e+02, -2.07797877e+02, -1.05261498e+03,  1.62791819e+02,\n",
       "        -3.09293885e+02, -1.85209756e+03, -3.38253782e+02, -4.87521090e+02,\n",
       "         4.13883592e+02, -0.00000000e+00,  1.05541124e+02,  3.06058358e+03,\n",
       "        -9.57484936e+01, -2.54843170e+01, -5.29862731e+02,  1.44758520e+02,\n",
       "         4.90557068e+03, -3.88104859e+02,  0.00000000e+00, -1.30664158e+02,\n",
       "         3.95913222e+02,  1.33323422e+03, -5.24280850e+02,  4.87220521e+02,\n",
       "        -4.91267698e+02,  5.58237592e+01, -5.70893718e+02, -3.95281463e+02,\n",
       "        -3.38831338e+02, -4.16221606e+02, -4.93399420e+02, -1.82534387e+03,\n",
       "         6.69421015e+01, -4.47735003e+02,  1.19885184e+03, -4.11925073e+02,\n",
       "        -4.52095825e+02,  2.53603286e-02, -1.03210996e-08]))"
      ]
     },
     "execution_count": 8,
     "metadata": {},
     "output_type": "execute_result"
    }
   ],
   "source": [
    "(modelo_lasso.intercept_,modelo_lasso.coef_)"
   ]
  },
  {
   "cell_type": "code",
   "execution_count": null,
   "metadata": {},
   "outputs": [],
   "source": []
  },
  {
   "cell_type": "code",
   "execution_count": null,
   "metadata": {},
   "outputs": [],
   "source": []
  },
  {
   "cell_type": "code",
   "execution_count": null,
   "metadata": {},
   "outputs": [],
   "source": []
  },
  {
   "cell_type": "code",
   "execution_count": null,
   "metadata": {},
   "outputs": [],
   "source": []
  },
  {
   "cell_type": "code",
   "execution_count": null,
   "metadata": {},
   "outputs": [],
   "source": []
  },
  {
   "cell_type": "markdown",
   "metadata": {},
   "source": [
    "## PARAMETROS A PREDECIR\n",
    "###### PARA LA PREDICCION DE PRECIOS POR M2 DE ALQUILERES EN CAPITAL FEDERAL"
   ]
  },
  {
   "cell_type": "code",
   "execution_count": 17,
   "metadata": {},
   "outputs": [
    {
     "name": "stderr",
     "output_type": "stream",
     "text": [
      "/home/DS-DH/notebooks/digitalHouse/modelo-properatti/ipynb/Util.py:285: UserWarning: Pandas doesn't allow columns to be created via a new attribute name - see https://pandas.pydata.org/pandas-docs/stable/indexing.html#attribute-access\n",
      "  predecir_data.superficie_total_2 = predecir_data.superficie_total**2\n"
     ]
    },
    {
     "data": {
      "text/plain": [
       "'EL RESULTADO DEL MODELO PARA LAS VARIABLES INGRESADAS ES DE 1816 U$D POR M2'"
      ]
     },
     "execution_count": 17,
     "metadata": {},
     "output_type": "execute_result"
    }
   ],
   "source": [
    "SUPERFICIE_TOTAL = 220           ##  [0,600]\n",
    "JARDIN = '0'                      ##  0,1\n",
    "TERRAZA = '1'                     ##  0,1\n",
    "CANTIDAD_DE_AMBIENTES = '3'       ##  1,2,3,4,4,5,6,7\n",
    "TIPO_DE_PROPIEDAD = 'CASA'        ##  CASA, PH, DTO\n",
    "BARRIO = 'flores'               ##  barrios de CABA, en minusculas\n",
    "\n",
    "nuevos_Feactures = utl.nuevosDatos(modeloMatriz, SUPERFICIE_TOTAL, JARDIN, TERRAZA, CANTIDAD_DE_AMBIENTES, TIPO_DE_PROPIEDAD, BARRIO)\n",
    "y_predict = modelo_ridge.predict(nuevos_Feactures)\n",
    "\n",
    "'EL RESULTADO DEL MODELO PARA LAS VARIABLES INGRESADAS ES DE {} U$D POR M2'.format(y_predict[0].astype(int))\n"
   ]
  },
  {
   "cell_type": "code",
   "execution_count": null,
   "metadata": {},
   "outputs": [],
   "source": []
  },
  {
   "cell_type": "code",
   "execution_count": null,
   "metadata": {},
   "outputs": [],
   "source": []
  },
  {
   "cell_type": "code",
   "execution_count": null,
   "metadata": {},
   "outputs": [],
   "source": []
  },
  {
   "cell_type": "markdown",
   "metadata": {},
   "source": [
    "## LIMPIEZA DE OUTLIERS "
   ]
  },
  {
   "cell_type": "code",
   "execution_count": 16,
   "metadata": {},
   "outputs": [],
   "source": [
    "data_original = pd.read_csv('/home/DS-DH/notebooks/digitalHouse/properatti.csv')"
   ]
  },
  {
   "cell_type": "code",
   "execution_count": 17,
   "metadata": {},
   "outputs": [
    {
     "data": {
      "image/png": "[encoded data removed]",
      "text/plain": [
       "<Figure size 432x288 with 1 Axes>"
      ]
     },
     "metadata": {},
     "output_type": "display_data"
    }
   ],
   "source": [
    "import matplotlib.pyplot as plt\n",
    "\n",
    "#GENERO EJE X -> SUPERFICIE TOTAL\n",
    "x1 = data_original.surface_total_in_m2\n",
    "\n",
    "#GENERO EJE Y -> PRECIO M2 DE TEST\n",
    "x2 = data_original.price_aprox_usd\n",
    "\n",
    "# EJE Y -> PRECIO M2 PREDICHO\n",
    "x3 = modeloMatriz.superficie_total\n",
    "\n",
    "x4 = modeloMatriz.precio_m2*modeloMatriz.superficie_total\n",
    "\n",
    "#PLOT\n",
    "plt.scatter(x1,x2,label='original', color='blue')\n",
    "plt.scatter(x3,x4,label='limpiado', color='red')\n",
    "plt.title('grafico limpieza')\n",
    "plt.show()"
   ]
  },
  {
   "cell_type": "code",
   "execution_count": null,
   "metadata": {},
   "outputs": [],
   "source": []
  },
  {
   "cell_type": "code",
   "execution_count": null,
   "metadata": {},
   "outputs": [],
   "source": []
  },
  {
   "cell_type": "code",
   "execution_count": null,
   "metadata": {},
   "outputs": [],
   "source": []
  },
  {
   "cell_type": "code",
   "execution_count": null,
   "metadata": {},
   "outputs": [],
   "source": []
  },
  {
   "cell_type": "code",
   "execution_count": null,
   "metadata": {},
   "outputs": [],
   "source": []
  },
  {
   "cell_type": "code",
   "execution_count": null,
   "metadata": {},
   "outputs": [],
   "source": []
  },
  {
   "cell_type": "code",
   "execution_count": null,
   "metadata": {},
   "outputs": [],
   "source": []
  },
  {
   "cell_type": "code",
   "execution_count": 110,
   "metadata": {},
   "outputs": [],
   "source": []
  },
  {
   "cell_type": "markdown",
   "metadata": {},
   "source": [
    "## DESCENSO GRADIENTE "
   ]
  },
  {
   "cell_type": "code",
   "execution_count": 39,
   "metadata": {},
   "outputs": [],
   "source": [
    "%matplotlib inline\n",
    "import matplotlib.pyplot as plt\n",
    "import numpy as np\n",
    "import pandas as pd\n",
    "from sklearn import datasets, preprocessing"
   ]
  },
  {
   "cell_type": "code",
   "execution_count": null,
   "metadata": {},
   "outputs": [],
   "source": [
    "for x in xs:\n",
    "    print (x.applymap(lambda x: x+1))"
   ]
  },
  {
   "cell_type": "code",
   "execution_count": null,
   "metadata": {},
   "outputs": [],
   "source": [
    "mean = np.mean(xs)\n",
    "std = np.std(xs)"
   ]
  },
  {
   "cell_type": "code",
   "execution_count": 47,
   "metadata": {},
   "outputs": [],
   "source": [
    "xs = [(x - mean) / std for x in xs]"
   ]
  },
  {
   "cell_type": "code",
   "execution_count": 50,
   "metadata": {},
   "outputs": [],
   "source": [
    "mean = np.mean(y)\n",
    "std = np.std(y)\n",
    "y = [(y - mean) / std for y in y]"
   ]
  },
  {
   "cell_type": "code",
   "execution_count": null,
   "metadata": {},
   "outputs": [],
   "source": []
  },
  {
   "cell_type": "code",
   "execution_count": null,
   "metadata": {},
   "outputs": [],
   "source": []
  },
  {
   "cell_type": "code",
   "execution_count": null,
   "metadata": {},
   "outputs": [],
   "source": []
  },
  {
   "cell_type": "markdown",
   "metadata": {},
   "source": [
    "# REGRESION MULTIPLE"
   ]
  },
  {
   "cell_type": "code",
   "execution_count": null,
   "metadata": {},
   "outputs": [],
   "source": [
    "\n"
   ]
  },
  {
   "cell_type": "code",
   "execution_count": null,
   "metadata": {},
   "outputs": [],
   "source": []
  },
  {
   "cell_type": "code",
   "execution_count": null,
   "metadata": {},
   "outputs": [],
   "source": []
  },
  {
   "cell_type": "code",
   "execution_count": null,
   "metadata": {},
   "outputs": [],
   "source": []
  },
  {
   "cell_type": "code",
   "execution_count": 63,
   "metadata": {},
   "outputs": [],
   "source": [
    "%matplotlib inline\n",
    "\n",
    "from matplotlib import pyplot as plt\n",
    "plt.rcParams['figure.figsize'] = 10, 10\n",
    "\n",
    "import numpy as np\n",
    "import pandas as pd\n",
    "from scipy import stats\n",
    "import seaborn as sns\n",
    "from sklearn import datasets\n",
    "from sklearn.model_selection import train_test_split, KFold, cross_val_score\n",
    "from sklearn.linear_model import LinearRegression, Lasso, LassoCV, Ridge, RidgeCV\n",
    "from sklearn.preprocessing import PolynomialFeatures, StandardScaler\n",
    "from sklearn.metrics import mean_squared_error, r2_score"
   ]
  },
  {
   "cell_type": "code",
   "execution_count": 57,
   "metadata": {},
   "outputs": [],
   "source": [
    "xs = modeloMatriz.iloc[:,1:]\n",
    "y = modeloMatriz.iloc[:,0]"
   ]
  },
  {
   "cell_type": "code",
   "execution_count": 58,
   "metadata": {},
   "outputs": [],
   "source": [
    "X_train, X_test, y_train, y_test = train_test_split(xs, y, test_size=0.4)"
   ]
  },
  {
   "cell_type": "code",
   "execution_count": 59,
   "metadata": {},
   "outputs": [
    {
     "name": "stdout",
     "output_type": "stream",
     "text": [
      "(18275, 72) (18275,)\n",
      "(12184, 72) (12184,)\n"
     ]
    }
   ],
   "source": [
    "X_train, X_test, y_train, y_test = train_test_split(xs, y, test_size=0.4)\n",
    "print(X_train.shape, y_train.shape)\n",
    "print(X_test.shape, y_test.shape)"
   ]
  },
  {
   "cell_type": "code",
   "execution_count": 67,
   "metadata": {},
   "outputs": [],
   "source": [
    "al_ridge = np.linspace(0.001, 0.3, 300)\n",
    "#al_lasso = np.linspace(0.1, 0.5, 300)\n",
    "kf = KFold(n_splits=5, shuffle=True, random_state=12)"
   ]
  },
  {
   "cell_type": "code",
   "execution_count": null,
   "metadata": {},
   "outputs": [],
   "source": []
  },
  {
   "cell_type": "code",
   "execution_count": 68,
   "metadata": {},
   "outputs": [],
   "source": [
    "#lm = LinearRegression(normalize=True)\n",
    "lm_ridge_cv= RidgeCV(alphas=al_ridge, cv=kf, normalize=True)\n",
    "#lm_lasso_cv = LassoCV(alphas=al_lasso, cv=kf, normalize=True)"
   ]
  },
  {
   "cell_type": "code",
   "execution_count": 69,
   "metadata": {},
   "outputs": [
    {
     "data": {
      "text/plain": [
       "RidgeCV(alphas=array([0.001, 0.002, ..., 0.299, 0.3  ]),\n",
       "    cv=KFold(n_splits=5, random_state=12, shuffle=True),\n",
       "    fit_intercept=True, gcv_mode=None, normalize=True, scoring=None,\n",
       "    store_cv_values=False)"
      ]
     },
     "execution_count": 69,
     "metadata": {},
     "output_type": "execute_result"
    }
   ],
   "source": [
    "# Hacemos los fits respectivos\n",
    "#lm.fit(X_train, y_train)\n",
    "lm_ridge_cv.fit(X_train, y_train)\n",
    "#lm_lasso_cv.fit(X_train, y_train)"
   ]
  },
  {
   "cell_type": "code",
   "execution_count": 70,
   "metadata": {},
   "outputs": [
    {
     "name": "stdout",
     "output_type": "stream",
     "text": [
      "Alpha Ridge: 0.002 \n",
      "\n"
     ]
    }
   ],
   "source": [
    "print('Alpha Ridge:',lm_ridge_cv.alpha_,'\\n')\n",
    "      #'Alpha LASSO:',lm_lasso_cv.alpha_,'\\n')"
   ]
  },
  {
   "cell_type": "code",
   "execution_count": 75,
   "metadata": {},
   "outputs": [
    {
     "name": "stdout",
     "output_type": "stream",
     "text": [
      " Score Train Lineal: 0.78\n",
      "  Score Train Ridge : 0.78\n",
      "  Score Train Lasso : 0.77\n",
      "\n"
     ]
    }
   ],
   "source": [
    "# Calculamos el R2\n",
    "\n",
    "print(#\" Score Train Lineal: %.2f\\n\" % lm.score(X_train, y_train),\n",
    "      \" Score Train Ridge : %.2f\\n\" % lm_ridge_cv.score(X_train, y_train))\n",
    "      #\" Score Train Lasso : %.2f\\n\" %  lm_lasso_cv.score(X_train, y_train))\n"
   ]
  },
  {
   "cell_type": "code",
   "execution_count": null,
   "metadata": {},
   "outputs": [],
   "source": []
  },
  {
   "cell_type": "code",
   "execution_count": 81,
   "metadata": {},
   "outputs": [
    {
     "ename": "ValueError",
     "evalue": "Expected 2D array, got 1D array instead:\narray=[2954.58500315 3057.32484076 2397.43589744 ... 3262.36994216 2100.97416974\n 2092.12164101].\nReshape your data either using array.reshape(-1, 1) if your data has a single feature or array.reshape(1, -1) if it contains a single sample.",
     "output_type": "error",
     "traceback": [
      "\u001b[0;31m\u001b[0m",
      "\u001b[0;31mValueError\u001b[0mTraceback (most recent call last)",
      "\u001b[0;32m<ipython-input-81-503219463311>\u001b[0m in \u001b[0;36m<module>\u001b[0;34m()\u001b[0m\n\u001b[1;32m      5\u001b[0m \u001b[0;34m\u001b[0m\u001b[0m\n\u001b[1;32m      6\u001b[0m \u001b[0;31m#GENERO EJE Y PARA TESTING DE RL\u001b[0m\u001b[0;34m\u001b[0m\u001b[0;34m\u001b[0m\u001b[0m\n\u001b[0;32m----> 7\u001b[0;31m \u001b[0mx2\u001b[0m \u001b[0;34m=\u001b[0m \u001b[0mlm\u001b[0m\u001b[0;34m.\u001b[0m\u001b[0mpredict\u001b[0m\u001b[0;34m(\u001b[0m\u001b[0my_train\u001b[0m\u001b[0;34m)\u001b[0m\u001b[0;34m\u001b[0m\u001b[0m\n\u001b[0m\u001b[1;32m      8\u001b[0m \u001b[0;34m\u001b[0m\u001b[0m\n\u001b[1;32m      9\u001b[0m \u001b[0;31m#GENERO EJE Y -> PRECIO M2 DE TEST\u001b[0m\u001b[0;34m\u001b[0m\u001b[0;34m\u001b[0m\u001b[0m\n",
      "\u001b[0;32m/opt/conda/lib/python3.6/site-packages/sklearn/linear_model/base.py\u001b[0m in \u001b[0;36mpredict\u001b[0;34m(self, X)\u001b[0m\n\u001b[1;32m    254\u001b[0m             \u001b[0mReturns\u001b[0m \u001b[0mpredicted\u001b[0m \u001b[0mvalues\u001b[0m\u001b[0;34m.\u001b[0m\u001b[0;34m\u001b[0m\u001b[0m\n\u001b[1;32m    255\u001b[0m         \"\"\"\n\u001b[0;32m--> 256\u001b[0;31m         \u001b[0;32mreturn\u001b[0m \u001b[0mself\u001b[0m\u001b[0;34m.\u001b[0m\u001b[0m_decision_function\u001b[0m\u001b[0;34m(\u001b[0m\u001b[0mX\u001b[0m\u001b[0;34m)\u001b[0m\u001b[0;34m\u001b[0m\u001b[0m\n\u001b[0m\u001b[1;32m    257\u001b[0m \u001b[0;34m\u001b[0m\u001b[0m\n\u001b[1;32m    258\u001b[0m     \u001b[0m_preprocess_data\u001b[0m \u001b[0;34m=\u001b[0m \u001b[0mstaticmethod\u001b[0m\u001b[0;34m(\u001b[0m\u001b[0m_preprocess_data\u001b[0m\u001b[0;34m)\u001b[0m\u001b[0;34m\u001b[0m\u001b[0m\n",
      "\u001b[0;32m/opt/conda/lib/python3.6/site-packages/sklearn/linear_model/base.py\u001b[0m in \u001b[0;36m_decision_function\u001b[0;34m(self, X)\u001b[0m\n\u001b[1;32m    237\u001b[0m         \u001b[0mcheck_is_fitted\u001b[0m\u001b[0;34m(\u001b[0m\u001b[0mself\u001b[0m\u001b[0;34m,\u001b[0m \u001b[0;34m\"coef_\"\u001b[0m\u001b[0;34m)\u001b[0m\u001b[0;34m\u001b[0m\u001b[0m\n\u001b[1;32m    238\u001b[0m \u001b[0;34m\u001b[0m\u001b[0m\n\u001b[0;32m--> 239\u001b[0;31m         \u001b[0mX\u001b[0m \u001b[0;34m=\u001b[0m \u001b[0mcheck_array\u001b[0m\u001b[0;34m(\u001b[0m\u001b[0mX\u001b[0m\u001b[0;34m,\u001b[0m \u001b[0maccept_sparse\u001b[0m\u001b[0;34m=\u001b[0m\u001b[0;34m[\u001b[0m\u001b[0;34m'csr'\u001b[0m\u001b[0;34m,\u001b[0m \u001b[0;34m'csc'\u001b[0m\u001b[0;34m,\u001b[0m \u001b[0;34m'coo'\u001b[0m\u001b[0;34m]\u001b[0m\u001b[0;34m)\u001b[0m\u001b[0;34m\u001b[0m\u001b[0m\n\u001b[0m\u001b[1;32m    240\u001b[0m         return safe_sparse_dot(X, self.coef_.T,\n\u001b[1;32m    241\u001b[0m                                dense_output=True) + self.intercept_\n",
      "\u001b[0;32m/opt/conda/lib/python3.6/site-packages/sklearn/utils/validation.py\u001b[0m in \u001b[0;36mcheck_array\u001b[0;34m(array, accept_sparse, dtype, order, copy, force_all_finite, ensure_2d, allow_nd, ensure_min_samples, ensure_min_features, warn_on_dtype, estimator)\u001b[0m\n\u001b[1;32m    439\u001b[0m                     \u001b[0;34m\"Reshape your data either using array.reshape(-1, 1) if \"\u001b[0m\u001b[0;34m\u001b[0m\u001b[0m\n\u001b[1;32m    440\u001b[0m                     \u001b[0;34m\"your data has a single feature or array.reshape(1, -1) \"\u001b[0m\u001b[0;34m\u001b[0m\u001b[0m\n\u001b[0;32m--> 441\u001b[0;31m                     \"if it contains a single sample.\".format(array))\n\u001b[0m\u001b[1;32m    442\u001b[0m             \u001b[0marray\u001b[0m \u001b[0;34m=\u001b[0m \u001b[0mnp\u001b[0m\u001b[0;34m.\u001b[0m\u001b[0matleast_2d\u001b[0m\u001b[0;34m(\u001b[0m\u001b[0marray\u001b[0m\u001b[0;34m)\u001b[0m\u001b[0;34m\u001b[0m\u001b[0m\n\u001b[1;32m    443\u001b[0m             \u001b[0;31m# To ensure that array flags are maintained\u001b[0m\u001b[0;34m\u001b[0m\u001b[0;34m\u001b[0m\u001b[0m\n",
      "\u001b[0;31mValueError\u001b[0m: Expected 2D array, got 1D array instead:\narray=[2954.58500315 3057.32484076 2397.43589744 ... 3262.36994216 2100.97416974\n 2092.12164101].\nReshape your data either using array.reshape(-1, 1) if your data has a single feature or array.reshape(1, -1) if it contains a single sample."
     ]
    }
   ],
   "source": [
    "import matplotlib.pyplot as plt\n",
    "\n",
    "#GENERO EJE X -> SUPERFICIE TOTAL\n",
    "x1 = X_test[:,0]\n",
    "\n",
    "#GENERO EJE Y PARA TESTING DE RL\n",
    "#x2 = lm.predict(y_train)\n",
    "\n",
    "#GENERO EJE Y -> PRECIO M2 DE TEST\n",
    "x3 = lm_ridge_cv.predict(y_test)\n",
    "\n",
    "# EJE Y -> PRECIO M2 PREDICHO\n",
    "x4 = lm_lasso_cv.predict(y_test)\n",
    "\n",
    "\n",
    "#PLOT\n",
    "plt.scatter(x1,x2,label='lineal multiple', color='blue')\n",
    "plt.scatter(x1,x3,label='ridge', color='red')\n",
    "plt.scatter(x1,x4,label='lasso', color='yellow')\n",
    "plt.title('grafico comparacion regresiones lineal')\n",
    "plt.show()"
   ]
  },
  {
   "cell_type": "code",
   "execution_count": null,
   "metadata": {},
   "outputs": [],
   "source": []
  },
  {
   "cell_type": "code",
   "execution_count": null,
   "metadata": {},
   "outputs": [],
   "source": []
  },
  {
   "cell_type": "code",
   "execution_count": null,
   "metadata": {},
   "outputs": [],
   "source": []
  }
 ],
 "metadata": {
  "kernelspec": {
   "display_name": "Python 3",
   "language": "python",
   "name": "python3"
  },
  "language_info": {
   "codemirror_mode": {
    "name": "ipython",
    "version": 3
   },
   "file_extension": ".py",
   "mimetype": "text/x-python",
   "name": "python",
   "nbconvert_exporter": "python",
   "pygments_lexer": "ipython3",
   "version": "3.6.6"
  }
 },
 "nbformat": 4,
 "nbformat_minor": 2
}
