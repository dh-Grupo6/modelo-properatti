{
 "cells": [
  {
   "cell_type": "code",
   "execution_count": 621,
   "metadata": {},
   "outputs": [],
   "source": [
    "#from IPython import get_ipython\n",
    "#get_ipython().magic('reset -sf') "
   ]
  },
  {
   "cell_type": "code",
   "execution_count": 2,
   "metadata": {},
   "outputs": [
    {
     "data": {
      "text/plain": [
       "[]"
      ]
     },
     "execution_count": 2,
     "metadata": {},
     "output_type": "execute_result"
    }
   ],
   "source": [
    "%who_ls"
   ]
  },
  {
   "cell_type": "markdown",
   "metadata": {},
   "source": [
    "# DESAFIO MODELO PROPERATTI"
   ]
  },
  {
   "cell_type": "code",
   "execution_count": 1,
   "metadata": {},
   "outputs": [],
   "source": [
    "import Util as utl\n",
    "import pandas as pd\n",
    "import numpy as np"
   ]
  },
  {
   "cell_type": "code",
   "execution_count": null,
   "metadata": {},
   "outputs": [],
   "source": []
  },
  {
   "cell_type": "code",
   "execution_count": 34,
   "metadata": {},
   "outputs": [],
   "source": [
    "data = pd.read_csv('/home/DS-DH/notebooks/digitalHouse/properatti.csv')"
   ]
  },
  {
   "cell_type": "code",
   "execution_count": 35,
   "metadata": {},
   "outputs": [
    {
     "name": "stderr",
     "output_type": "stream",
     "text": [
      "/home/DS-DH/notebooks/digitalHouse/modelo-properatti/ipynb/Util.py:330: UserWarning: Pandas doesn't allow columns to be created via a new attribute name - see https://pandas.pydata.org/pandas-docs/stable/indexing.html#attribute-access\n",
      "  data.ambientesImputados = ImputarAmbientesProceso(data,10)\n"
     ]
    }
   ],
   "source": [
    "data = utl.limpiarDatos(data,0.055)"
   ]
  },
  {
   "cell_type": "code",
   "execution_count": 14,
   "metadata": {},
   "outputs": [],
   "source": [
    "#data = pd.read_csv('/home/DS-DH/notebooks/digitalHouse/data.csv',sep='|')\n",
    "#data.to_csv('/home/DS-DH/notebooks/digitalHouse/data0_15.csv',sep='|')"
   ]
  },
  {
   "cell_type": "code",
   "execution_count": 36,
   "metadata": {},
   "outputs": [],
   "source": [
    "matriz = utl.GenerarMatriz(data)"
   ]
  },
  {
   "cell_type": "code",
   "execution_count": 37,
   "metadata": {},
   "outputs": [],
   "source": [
    "modeloMatriz = utl.generarDummies(matriz)"
   ]
  },
  {
   "cell_type": "code",
   "execution_count": 9,
   "metadata": {},
   "outputs": [
    {
     "data": {
      "text/html": [
       "<div>\n",
       "<style scoped>\n",
       "    .dataframe tbody tr th:only-of-type {\n",
       "        vertical-align: middle;\n",
       "    }\n",
       "\n",
       "    .dataframe tbody tr th {\n",
       "        vertical-align: top;\n",
       "    }\n",
       "\n",
       "    .dataframe thead th {\n",
       "        text-align: right;\n",
       "    }\n",
       "</style>\n",
       "<table border=\"1\" class=\"dataframe\">\n",
       "  <thead>\n",
       "    <tr style=\"text-align: right;\">\n",
       "      <th></th>\n",
       "      <th>precio_m2</th>\n",
       "      <th>superficie_total</th>\n",
       "      <th>superficieJardines</th>\n",
       "      <th>superficieTerrazas</th>\n",
       "      <th>superficieJardinesTerrazas</th>\n",
       "      <th>1_AMBIENTE</th>\n",
       "      <th>2_AMBIENTE</th>\n",
       "      <th>3_AMBIENTE</th>\n",
       "      <th>4_AMBIENTE</th>\n",
       "      <th>5_AMBIENTE</th>\n",
       "      <th>...</th>\n",
       "      <th>parque_chacabuco</th>\n",
       "      <th>villa_santa_rita</th>\n",
       "      <th>villa_general_mitre</th>\n",
       "      <th>palermo_viejo</th>\n",
       "      <th>villa_lugano</th>\n",
       "      <th>villa_ortuzar</th>\n",
       "      <th>villa_real</th>\n",
       "      <th>villa_riachuelo</th>\n",
       "      <th>villa_soldati</th>\n",
       "      <th>superficie_total_2</th>\n",
       "    </tr>\n",
       "  </thead>\n",
       "  <tbody>\n",
       "    <tr>\n",
       "      <th>count</th>\n",
       "      <td>30917.000000</td>\n",
       "      <td>30917.000000</td>\n",
       "      <td>30917.000000</td>\n",
       "      <td>30917.000000</td>\n",
       "      <td>30917.000000</td>\n",
       "      <td>30917.000000</td>\n",
       "      <td>30917.000000</td>\n",
       "      <td>30917.000000</td>\n",
       "      <td>30917.000000</td>\n",
       "      <td>30917.000000</td>\n",
       "      <td>...</td>\n",
       "      <td>30917.000000</td>\n",
       "      <td>30917.000000</td>\n",
       "      <td>30917.000000</td>\n",
       "      <td>30917.000000</td>\n",
       "      <td>30917.000000</td>\n",
       "      <td>30917.000000</td>\n",
       "      <td>30917.000000</td>\n",
       "      <td>30917.000000</td>\n",
       "      <td>30917.000000</td>\n",
       "      <td>3.091700e+04</td>\n",
       "    </tr>\n",
       "    <tr>\n",
       "      <th>mean</th>\n",
       "      <td>2630.648003</td>\n",
       "      <td>114.228381</td>\n",
       "      <td>0.002005</td>\n",
       "      <td>0.003978</td>\n",
       "      <td>0.000938</td>\n",
       "      <td>0.144581</td>\n",
       "      <td>0.117314</td>\n",
       "      <td>0.114468</td>\n",
       "      <td>0.081897</td>\n",
       "      <td>0.027881</td>\n",
       "      <td>...</td>\n",
       "      <td>0.003526</td>\n",
       "      <td>0.000420</td>\n",
       "      <td>0.000970</td>\n",
       "      <td>0.000032</td>\n",
       "      <td>0.004205</td>\n",
       "      <td>0.002199</td>\n",
       "      <td>0.000744</td>\n",
       "      <td>0.000162</td>\n",
       "      <td>0.000065</td>\n",
       "      <td>1.833541e+04</td>\n",
       "    </tr>\n",
       "    <tr>\n",
       "      <th>std</th>\n",
       "      <td>1509.387237</td>\n",
       "      <td>72.714937</td>\n",
       "      <td>0.044737</td>\n",
       "      <td>0.062950</td>\n",
       "      <td>0.030613</td>\n",
       "      <td>0.351683</td>\n",
       "      <td>0.321799</td>\n",
       "      <td>0.318384</td>\n",
       "      <td>0.274212</td>\n",
       "      <td>0.164635</td>\n",
       "      <td>...</td>\n",
       "      <td>0.059273</td>\n",
       "      <td>0.020502</td>\n",
       "      <td>0.031136</td>\n",
       "      <td>0.005687</td>\n",
       "      <td>0.064709</td>\n",
       "      <td>0.046847</td>\n",
       "      <td>0.027265</td>\n",
       "      <td>0.012716</td>\n",
       "      <td>0.008043</td>\n",
       "      <td>3.619853e+04</td>\n",
       "    </tr>\n",
       "    <tr>\n",
       "      <th>min</th>\n",
       "      <td>294.230769</td>\n",
       "      <td>13.000000</td>\n",
       "      <td>0.000000</td>\n",
       "      <td>0.000000</td>\n",
       "      <td>0.000000</td>\n",
       "      <td>0.000000</td>\n",
       "      <td>0.000000</td>\n",
       "      <td>0.000000</td>\n",
       "      <td>0.000000</td>\n",
       "      <td>0.000000</td>\n",
       "      <td>...</td>\n",
       "      <td>0.000000</td>\n",
       "      <td>0.000000</td>\n",
       "      <td>0.000000</td>\n",
       "      <td>0.000000</td>\n",
       "      <td>0.000000</td>\n",
       "      <td>0.000000</td>\n",
       "      <td>0.000000</td>\n",
       "      <td>0.000000</td>\n",
       "      <td>0.000000</td>\n",
       "      <td>1.690000e+02</td>\n",
       "    </tr>\n",
       "    <tr>\n",
       "      <th>25%</th>\n",
       "      <td>1816.129485</td>\n",
       "      <td>80.000000</td>\n",
       "      <td>0.000000</td>\n",
       "      <td>0.000000</td>\n",
       "      <td>0.000000</td>\n",
       "      <td>0.000000</td>\n",
       "      <td>0.000000</td>\n",
       "      <td>0.000000</td>\n",
       "      <td>0.000000</td>\n",
       "      <td>0.000000</td>\n",
       "      <td>...</td>\n",
       "      <td>0.000000</td>\n",
       "      <td>0.000000</td>\n",
       "      <td>0.000000</td>\n",
       "      <td>0.000000</td>\n",
       "      <td>0.000000</td>\n",
       "      <td>0.000000</td>\n",
       "      <td>0.000000</td>\n",
       "      <td>0.000000</td>\n",
       "      <td>0.000000</td>\n",
       "      <td>6.400000e+03</td>\n",
       "    </tr>\n",
       "    <tr>\n",
       "      <th>50%</th>\n",
       "      <td>2184.262528</td>\n",
       "      <td>96.380000</td>\n",
       "      <td>0.000000</td>\n",
       "      <td>0.000000</td>\n",
       "      <td>0.000000</td>\n",
       "      <td>0.000000</td>\n",
       "      <td>0.000000</td>\n",
       "      <td>0.000000</td>\n",
       "      <td>0.000000</td>\n",
       "      <td>0.000000</td>\n",
       "      <td>...</td>\n",
       "      <td>0.000000</td>\n",
       "      <td>0.000000</td>\n",
       "      <td>0.000000</td>\n",
       "      <td>0.000000</td>\n",
       "      <td>0.000000</td>\n",
       "      <td>0.000000</td>\n",
       "      <td>0.000000</td>\n",
       "      <td>0.000000</td>\n",
       "      <td>0.000000</td>\n",
       "      <td>9.289104e+03</td>\n",
       "    </tr>\n",
       "    <tr>\n",
       "      <th>75%</th>\n",
       "      <td>3265.397291</td>\n",
       "      <td>118.035714</td>\n",
       "      <td>0.000000</td>\n",
       "      <td>0.000000</td>\n",
       "      <td>0.000000</td>\n",
       "      <td>0.000000</td>\n",
       "      <td>0.000000</td>\n",
       "      <td>0.000000</td>\n",
       "      <td>0.000000</td>\n",
       "      <td>0.000000</td>\n",
       "      <td>...</td>\n",
       "      <td>0.000000</td>\n",
       "      <td>0.000000</td>\n",
       "      <td>0.000000</td>\n",
       "      <td>0.000000</td>\n",
       "      <td>0.000000</td>\n",
       "      <td>0.000000</td>\n",
       "      <td>0.000000</td>\n",
       "      <td>0.000000</td>\n",
       "      <td>0.000000</td>\n",
       "      <td>1.393243e+04</td>\n",
       "    </tr>\n",
       "    <tr>\n",
       "      <th>max</th>\n",
       "      <td>15076.560660</td>\n",
       "      <td>1159.000000</td>\n",
       "      <td>1.000000</td>\n",
       "      <td>1.000000</td>\n",
       "      <td>1.000000</td>\n",
       "      <td>1.000000</td>\n",
       "      <td>1.000000</td>\n",
       "      <td>1.000000</td>\n",
       "      <td>1.000000</td>\n",
       "      <td>1.000000</td>\n",
       "      <td>...</td>\n",
       "      <td>1.000000</td>\n",
       "      <td>1.000000</td>\n",
       "      <td>1.000000</td>\n",
       "      <td>1.000000</td>\n",
       "      <td>1.000000</td>\n",
       "      <td>1.000000</td>\n",
       "      <td>1.000000</td>\n",
       "      <td>1.000000</td>\n",
       "      <td>1.000000</td>\n",
       "      <td>1.343281e+06</td>\n",
       "    </tr>\n",
       "  </tbody>\n",
       "</table>\n",
       "<p>8 rows × 75 columns</p>\n",
       "</div>"
      ],
      "text/plain": [
       "          precio_m2  superficie_total  superficieJardines  superficieTerrazas  \\\n",
       "count  30917.000000      30917.000000        30917.000000        30917.000000   \n",
       "mean    2630.648003        114.228381            0.002005            0.003978   \n",
       "std     1509.387237         72.714937            0.044737            0.062950   \n",
       "min      294.230769         13.000000            0.000000            0.000000   \n",
       "25%     1816.129485         80.000000            0.000000            0.000000   \n",
       "50%     2184.262528         96.380000            0.000000            0.000000   \n",
       "75%     3265.397291        118.035714            0.000000            0.000000   \n",
       "max    15076.560660       1159.000000            1.000000            1.000000   \n",
       "\n",
       "       superficieJardinesTerrazas    1_AMBIENTE    2_AMBIENTE    3_AMBIENTE  \\\n",
       "count                30917.000000  30917.000000  30917.000000  30917.000000   \n",
       "mean                     0.000938      0.144581      0.117314      0.114468   \n",
       "std                      0.030613      0.351683      0.321799      0.318384   \n",
       "min                      0.000000      0.000000      0.000000      0.000000   \n",
       "25%                      0.000000      0.000000      0.000000      0.000000   \n",
       "50%                      0.000000      0.000000      0.000000      0.000000   \n",
       "75%                      0.000000      0.000000      0.000000      0.000000   \n",
       "max                      1.000000      1.000000      1.000000      1.000000   \n",
       "\n",
       "         4_AMBIENTE    5_AMBIENTE         ...          parque_chacabuco  \\\n",
       "count  30917.000000  30917.000000         ...              30917.000000   \n",
       "mean       0.081897      0.027881         ...                  0.003526   \n",
       "std        0.274212      0.164635         ...                  0.059273   \n",
       "min        0.000000      0.000000         ...                  0.000000   \n",
       "25%        0.000000      0.000000         ...                  0.000000   \n",
       "50%        0.000000      0.000000         ...                  0.000000   \n",
       "75%        0.000000      0.000000         ...                  0.000000   \n",
       "max        1.000000      1.000000         ...                  1.000000   \n",
       "\n",
       "       villa_santa_rita  villa_general_mitre  palermo_viejo  villa_lugano  \\\n",
       "count      30917.000000         30917.000000   30917.000000  30917.000000   \n",
       "mean           0.000420             0.000970       0.000032      0.004205   \n",
       "std            0.020502             0.031136       0.005687      0.064709   \n",
       "min            0.000000             0.000000       0.000000      0.000000   \n",
       "25%            0.000000             0.000000       0.000000      0.000000   \n",
       "50%            0.000000             0.000000       0.000000      0.000000   \n",
       "75%            0.000000             0.000000       0.000000      0.000000   \n",
       "max            1.000000             1.000000       1.000000      1.000000   \n",
       "\n",
       "       villa_ortuzar    villa_real  villa_riachuelo  villa_soldati  \\\n",
       "count   30917.000000  30917.000000     30917.000000   30917.000000   \n",
       "mean        0.002199      0.000744         0.000162       0.000065   \n",
       "std         0.046847      0.027265         0.012716       0.008043   \n",
       "min         0.000000      0.000000         0.000000       0.000000   \n",
       "25%         0.000000      0.000000         0.000000       0.000000   \n",
       "50%         0.000000      0.000000         0.000000       0.000000   \n",
       "75%         0.000000      0.000000         0.000000       0.000000   \n",
       "max         1.000000      1.000000         1.000000       1.000000   \n",
       "\n",
       "       superficie_total_2  \n",
       "count        3.091700e+04  \n",
       "mean         1.833541e+04  \n",
       "std          3.619853e+04  \n",
       "min          1.690000e+02  \n",
       "25%          6.400000e+03  \n",
       "50%          9.289104e+03  \n",
       "75%          1.393243e+04  \n",
       "max          1.343281e+06  \n",
       "\n",
       "[8 rows x 75 columns]"
      ]
     },
     "execution_count": 9,
     "metadata": {},
     "output_type": "execute_result"
    }
   ],
   "source": [
    "modeloMatriz.describe()"
   ]
  },
  {
   "cell_type": "code",
   "execution_count": 15,
   "metadata": {},
   "outputs": [],
   "source": [
    "modeloMatriz_1=modeloMatriz_1[(modeloMatriz_1.precio_m2>100) & (modeloMatriz_1.precio_m2<5000)]"
   ]
  },
  {
   "cell_type": "code",
   "execution_count": 16,
   "metadata": {},
   "outputs": [
    {
     "data": {
      "text/html": [
       "<div>\n",
       "<style scoped>\n",
       "    .dataframe tbody tr th:only-of-type {\n",
       "        vertical-align: middle;\n",
       "    }\n",
       "\n",
       "    .dataframe tbody tr th {\n",
       "        vertical-align: top;\n",
       "    }\n",
       "\n",
       "    .dataframe thead th {\n",
       "        text-align: right;\n",
       "    }\n",
       "</style>\n",
       "<table border=\"1\" class=\"dataframe\">\n",
       "  <thead>\n",
       "    <tr style=\"text-align: right;\">\n",
       "      <th></th>\n",
       "      <th>precio_m2</th>\n",
       "      <th>superficie_total</th>\n",
       "      <th>superficieJardines</th>\n",
       "      <th>superficieTerrazas</th>\n",
       "      <th>superficieJardinesTerrazas</th>\n",
       "      <th>1_AMBIENTE</th>\n",
       "      <th>2_AMBIENTE</th>\n",
       "      <th>3_AMBIENTE</th>\n",
       "      <th>4_AMBIENTE</th>\n",
       "      <th>5_AMBIENTE</th>\n",
       "      <th>...</th>\n",
       "      <th>parque_chacabuco</th>\n",
       "      <th>villa_santa_rita</th>\n",
       "      <th>villa_general_mitre</th>\n",
       "      <th>palermo_viejo</th>\n",
       "      <th>villa_lugano</th>\n",
       "      <th>villa_ortuzar</th>\n",
       "      <th>villa_real</th>\n",
       "      <th>villa_riachuelo</th>\n",
       "      <th>villa_soldati</th>\n",
       "      <th>superficie_total_2</th>\n",
       "    </tr>\n",
       "  </thead>\n",
       "  <tbody>\n",
       "    <tr>\n",
       "      <th>count</th>\n",
       "      <td>28309.000000</td>\n",
       "      <td>28309.000000</td>\n",
       "      <td>28309.000000</td>\n",
       "      <td>28309.000000</td>\n",
       "      <td>28309.000000</td>\n",
       "      <td>28309.000000</td>\n",
       "      <td>28309.000000</td>\n",
       "      <td>28309.000000</td>\n",
       "      <td>28309.000000</td>\n",
       "      <td>28309.000000</td>\n",
       "      <td>...</td>\n",
       "      <td>28309.000000</td>\n",
       "      <td>28309.000000</td>\n",
       "      <td>28309.000000</td>\n",
       "      <td>28309.000000</td>\n",
       "      <td>28309.000000</td>\n",
       "      <td>28309.000000</td>\n",
       "      <td>28309.0</td>\n",
       "      <td>28309.000000</td>\n",
       "      <td>28309.000000</td>\n",
       "      <td>28309.000000</td>\n",
       "    </tr>\n",
       "    <tr>\n",
       "      <th>mean</th>\n",
       "      <td>2262.285221</td>\n",
       "      <td>115.859087</td>\n",
       "      <td>0.002155</td>\n",
       "      <td>0.004239</td>\n",
       "      <td>0.000989</td>\n",
       "      <td>0.132043</td>\n",
       "      <td>0.112190</td>\n",
       "      <td>0.117313</td>\n",
       "      <td>0.084920</td>\n",
       "      <td>0.028048</td>\n",
       "      <td>...</td>\n",
       "      <td>0.003850</td>\n",
       "      <td>0.000459</td>\n",
       "      <td>0.001060</td>\n",
       "      <td>0.000035</td>\n",
       "      <td>0.004592</td>\n",
       "      <td>0.002402</td>\n",
       "      <td>0.0</td>\n",
       "      <td>0.000177</td>\n",
       "      <td>0.000035</td>\n",
       "      <td>18267.120610</td>\n",
       "    </tr>\n",
       "    <tr>\n",
       "      <th>std</th>\n",
       "      <td>821.620481</td>\n",
       "      <td>69.598590</td>\n",
       "      <td>0.046371</td>\n",
       "      <td>0.064970</td>\n",
       "      <td>0.031435</td>\n",
       "      <td>0.338543</td>\n",
       "      <td>0.315606</td>\n",
       "      <td>0.321798</td>\n",
       "      <td>0.278768</td>\n",
       "      <td>0.165112</td>\n",
       "      <td>...</td>\n",
       "      <td>0.061933</td>\n",
       "      <td>0.021425</td>\n",
       "      <td>0.032537</td>\n",
       "      <td>0.005943</td>\n",
       "      <td>0.067611</td>\n",
       "      <td>0.048953</td>\n",
       "      <td>0.0</td>\n",
       "      <td>0.013289</td>\n",
       "      <td>0.005943</td>\n",
       "      <td>29458.131626</td>\n",
       "    </tr>\n",
       "    <tr>\n",
       "      <th>min</th>\n",
       "      <td>329.592473</td>\n",
       "      <td>24.000000</td>\n",
       "      <td>0.000000</td>\n",
       "      <td>0.000000</td>\n",
       "      <td>0.000000</td>\n",
       "      <td>0.000000</td>\n",
       "      <td>0.000000</td>\n",
       "      <td>0.000000</td>\n",
       "      <td>0.000000</td>\n",
       "      <td>0.000000</td>\n",
       "      <td>...</td>\n",
       "      <td>0.000000</td>\n",
       "      <td>0.000000</td>\n",
       "      <td>0.000000</td>\n",
       "      <td>0.000000</td>\n",
       "      <td>0.000000</td>\n",
       "      <td>0.000000</td>\n",
       "      <td>0.0</td>\n",
       "      <td>0.000000</td>\n",
       "      <td>0.000000</td>\n",
       "      <td>576.000000</td>\n",
       "    </tr>\n",
       "    <tr>\n",
       "      <th>25%</th>\n",
       "      <td>1773.228251</td>\n",
       "      <td>81.319149</td>\n",
       "      <td>0.000000</td>\n",
       "      <td>0.000000</td>\n",
       "      <td>0.000000</td>\n",
       "      <td>0.000000</td>\n",
       "      <td>0.000000</td>\n",
       "      <td>0.000000</td>\n",
       "      <td>0.000000</td>\n",
       "      <td>0.000000</td>\n",
       "      <td>...</td>\n",
       "      <td>0.000000</td>\n",
       "      <td>0.000000</td>\n",
       "      <td>0.000000</td>\n",
       "      <td>0.000000</td>\n",
       "      <td>0.000000</td>\n",
       "      <td>0.000000</td>\n",
       "      <td>0.0</td>\n",
       "      <td>0.000000</td>\n",
       "      <td>0.000000</td>\n",
       "      <td>6612.803984</td>\n",
       "    </tr>\n",
       "    <tr>\n",
       "      <th>50%</th>\n",
       "      <td>2092.885208</td>\n",
       "      <td>97.550725</td>\n",
       "      <td>0.000000</td>\n",
       "      <td>0.000000</td>\n",
       "      <td>0.000000</td>\n",
       "      <td>0.000000</td>\n",
       "      <td>0.000000</td>\n",
       "      <td>0.000000</td>\n",
       "      <td>0.000000</td>\n",
       "      <td>0.000000</td>\n",
       "      <td>...</td>\n",
       "      <td>0.000000</td>\n",
       "      <td>0.000000</td>\n",
       "      <td>0.000000</td>\n",
       "      <td>0.000000</td>\n",
       "      <td>0.000000</td>\n",
       "      <td>0.000000</td>\n",
       "      <td>0.0</td>\n",
       "      <td>0.000000</td>\n",
       "      <td>0.000000</td>\n",
       "      <td>9516.143877</td>\n",
       "    </tr>\n",
       "    <tr>\n",
       "      <th>75%</th>\n",
       "      <td>2919.408729</td>\n",
       "      <td>118.035714</td>\n",
       "      <td>0.000000</td>\n",
       "      <td>0.000000</td>\n",
       "      <td>0.000000</td>\n",
       "      <td>0.000000</td>\n",
       "      <td>0.000000</td>\n",
       "      <td>0.000000</td>\n",
       "      <td>0.000000</td>\n",
       "      <td>0.000000</td>\n",
       "      <td>...</td>\n",
       "      <td>0.000000</td>\n",
       "      <td>0.000000</td>\n",
       "      <td>0.000000</td>\n",
       "      <td>0.000000</td>\n",
       "      <td>0.000000</td>\n",
       "      <td>0.000000</td>\n",
       "      <td>0.0</td>\n",
       "      <td>0.000000</td>\n",
       "      <td>0.000000</td>\n",
       "      <td>13932.429847</td>\n",
       "    </tr>\n",
       "    <tr>\n",
       "      <th>max</th>\n",
       "      <td>4931.679966</td>\n",
       "      <td>476.000000</td>\n",
       "      <td>1.000000</td>\n",
       "      <td>1.000000</td>\n",
       "      <td>1.000000</td>\n",
       "      <td>1.000000</td>\n",
       "      <td>1.000000</td>\n",
       "      <td>1.000000</td>\n",
       "      <td>1.000000</td>\n",
       "      <td>1.000000</td>\n",
       "      <td>...</td>\n",
       "      <td>1.000000</td>\n",
       "      <td>1.000000</td>\n",
       "      <td>1.000000</td>\n",
       "      <td>1.000000</td>\n",
       "      <td>1.000000</td>\n",
       "      <td>1.000000</td>\n",
       "      <td>0.0</td>\n",
       "      <td>1.000000</td>\n",
       "      <td>1.000000</td>\n",
       "      <td>226576.000000</td>\n",
       "    </tr>\n",
       "  </tbody>\n",
       "</table>\n",
       "<p>8 rows × 75 columns</p>\n",
       "</div>"
      ],
      "text/plain": [
       "          precio_m2  superficie_total  superficieJardines  superficieTerrazas  \\\n",
       "count  28309.000000      28309.000000        28309.000000        28309.000000   \n",
       "mean    2262.285221        115.859087            0.002155            0.004239   \n",
       "std      821.620481         69.598590            0.046371            0.064970   \n",
       "min      329.592473         24.000000            0.000000            0.000000   \n",
       "25%     1773.228251         81.319149            0.000000            0.000000   \n",
       "50%     2092.885208         97.550725            0.000000            0.000000   \n",
       "75%     2919.408729        118.035714            0.000000            0.000000   \n",
       "max     4931.679966        476.000000            1.000000            1.000000   \n",
       "\n",
       "       superficieJardinesTerrazas    1_AMBIENTE    2_AMBIENTE    3_AMBIENTE  \\\n",
       "count                28309.000000  28309.000000  28309.000000  28309.000000   \n",
       "mean                     0.000989      0.132043      0.112190      0.117313   \n",
       "std                      0.031435      0.338543      0.315606      0.321798   \n",
       "min                      0.000000      0.000000      0.000000      0.000000   \n",
       "25%                      0.000000      0.000000      0.000000      0.000000   \n",
       "50%                      0.000000      0.000000      0.000000      0.000000   \n",
       "75%                      0.000000      0.000000      0.000000      0.000000   \n",
       "max                      1.000000      1.000000      1.000000      1.000000   \n",
       "\n",
       "         4_AMBIENTE    5_AMBIENTE         ...          parque_chacabuco  \\\n",
       "count  28309.000000  28309.000000         ...              28309.000000   \n",
       "mean       0.084920      0.028048         ...                  0.003850   \n",
       "std        0.278768      0.165112         ...                  0.061933   \n",
       "min        0.000000      0.000000         ...                  0.000000   \n",
       "25%        0.000000      0.000000         ...                  0.000000   \n",
       "50%        0.000000      0.000000         ...                  0.000000   \n",
       "75%        0.000000      0.000000         ...                  0.000000   \n",
       "max        1.000000      1.000000         ...                  1.000000   \n",
       "\n",
       "       villa_santa_rita  villa_general_mitre  palermo_viejo  villa_lugano  \\\n",
       "count      28309.000000         28309.000000   28309.000000  28309.000000   \n",
       "mean           0.000459             0.001060       0.000035      0.004592   \n",
       "std            0.021425             0.032537       0.005943      0.067611   \n",
       "min            0.000000             0.000000       0.000000      0.000000   \n",
       "25%            0.000000             0.000000       0.000000      0.000000   \n",
       "50%            0.000000             0.000000       0.000000      0.000000   \n",
       "75%            0.000000             0.000000       0.000000      0.000000   \n",
       "max            1.000000             1.000000       1.000000      1.000000   \n",
       "\n",
       "       villa_ortuzar  villa_real  villa_riachuelo  villa_soldati  \\\n",
       "count   28309.000000     28309.0     28309.000000   28309.000000   \n",
       "mean        0.002402         0.0         0.000177       0.000035   \n",
       "std         0.048953         0.0         0.013289       0.005943   \n",
       "min         0.000000         0.0         0.000000       0.000000   \n",
       "25%         0.000000         0.0         0.000000       0.000000   \n",
       "50%         0.000000         0.0         0.000000       0.000000   \n",
       "75%         0.000000         0.0         0.000000       0.000000   \n",
       "max         1.000000         0.0         1.000000       1.000000   \n",
       "\n",
       "       superficie_total_2  \n",
       "count        28309.000000  \n",
       "mean         18267.120610  \n",
       "std          29458.131626  \n",
       "min            576.000000  \n",
       "25%           6612.803984  \n",
       "50%           9516.143877  \n",
       "75%          13932.429847  \n",
       "max         226576.000000  \n",
       "\n",
       "[8 rows x 75 columns]"
      ]
     },
     "execution_count": 16,
     "metadata": {},
     "output_type": "execute_result"
    }
   ],
   "source": [
    "modeloMatriz_1.describe()"
   ]
  },
  {
   "cell_type": "code",
   "execution_count": 18,
   "metadata": {},
   "outputs": [
    {
     "data": {
      "text/plain": [
       "(28309, 75)"
      ]
     },
     "execution_count": 18,
     "metadata": {},
     "output_type": "execute_result"
    }
   ],
   "source": [
    "modeloMatriz_1.shape"
   ]
  },
  {
   "cell_type": "code",
   "execution_count": null,
   "metadata": {},
   "outputs": [],
   "source": []
  },
  {
   "cell_type": "code",
   "execution_count": 17,
   "metadata": {},
   "outputs": [
    {
     "name": "stderr",
     "output_type": "stream",
     "text": [
      "/home/DS-DH/notebooks/digitalHouse/modelo-properatti/ipynb/Util.py:22: FutureWarning: Method .as_matrix will be removed in a future version. Use .values instead.\n",
      "  xs = xs.as_matrix()\n",
      "/home/DS-DH/notebooks/digitalHouse/modelo-properatti/ipynb/Util.py:24: FutureWarning: Method .as_matrix will be removed in a future version. Use .values instead.\n",
      "  y = y.as_matrix()\n"
     ]
    },
    {
     "data": {
      "image/png": "[encoded data removed]",
      "text/plain": [
       "<Figure size 432x288 with 1 Axes>"
      ]
     },
     "metadata": {},
     "output_type": "display_data"
    },
    {
     "name": "stdout",
     "output_type": "stream",
     "text": [
      "CROSS VALIDATION: 0.8946437746210003 0.9173214085048889 0.894984680501945 0.8892227842575954 0.9002174348526025\n",
      "MAE: 138.15480077731294\n",
      "MSE: 70366.20586308843\n",
      "RMSE: 265.266292361258\n",
      "EL R2 TRAIN ES DE:  0.9025430513773294\n",
      "EL R2 TEST ES DE:  0.8956321579297873\n"
     ]
    }
   ],
   "source": [
    "modelo = utl.modelo_regresion_lineal(modeloMatriz_1)"
   ]
  },
  {
   "cell_type": "code",
   "execution_count": 42,
   "metadata": {},
   "outputs": [],
   "source": [
    "from sklearn.cross_validation import cross_val_score"
   ]
  },
  {
   "cell_type": "code",
   "execution_count": 91,
   "metadata": {},
   "outputs": [
    {
     "name": "stderr",
     "output_type": "stream",
     "text": [
      "/opt/conda/lib/python3.6/site-packages/ipykernel_launcher.py:3: FutureWarning: Method .as_matrix will be removed in a future version. Use .values instead.\n",
      "  This is separate from the ipykernel package so we can avoid doing imports until\n",
      "/opt/conda/lib/python3.6/site-packages/ipykernel_launcher.py:4: FutureWarning: Method .as_matrix will be removed in a future version. Use .values instead.\n",
      "  after removing the cwd from sys.path.\n"
     ]
    },
    {
     "data": {
      "text/plain": [
       "array([0.8920611 , 0.88035961, 0.88471327, 0.87375762, 0.90346142])"
      ]
     },
     "execution_count": 91,
     "metadata": {},
     "output_type": "execute_result"
    }
   ],
   "source": [
    "xs = modeloMatriz.iloc[:,1:]\n",
    "y = modeloMatriz.iloc[:,0]\n",
    "xs = xs.as_matrix()\n",
    "y = y.as_matrix()\n",
    "from sklearn import linear_model\n",
    "from sklearn.model_selection import train_test_split\n",
    "#PARTICIONAR DATOS DE ENTRENAMIENTO Y TESTING\n",
    "x_train, x_test, y_train, y_test = train_test_split(xs, y, test_size=0.5)\n",
    "modelo = linear_model.LinearRegression(fit_intercept=False,normalize=True)\n",
    "modelo.fit(x_train,y_train)\n",
    "scores = cross_val_score(modelo, x_train, y_train, cv=5)\n",
    "print(scores)"
   ]
  },
  {
   "cell_type": "code",
   "execution_count": 93,
   "metadata": {},
   "outputs": [
    {
     "name": "stdout",
     "output_type": "stream",
     "text": [
      "0.892061100519854\n"
     ]
    }
   ],
   "source": [
    "print(scores[0])"
   ]
  },
  {
   "cell_type": "code",
   "execution_count": null,
   "metadata": {},
   "outputs": [],
   "source": [
    " xs = modeloMatriz.iloc[:,1:]\n",
    "    y = modeloMatriz.iloc[:,0]\n",
    "    \n",
    "    #for \n",
    "    #xs = xs.apply(lambda x: normalizar(x))\n",
    "    #TRANSFORMO VARIABLES INDEPENDIENTES EN FORMATO MATRIZ\n",
    "    xs = xs.as_matrix()\n",
    "    #TRANSFORMO VARIABLE DEPENDIENTE EN FORMATO MATRIZ\n",
    "    y = y.as_matrix()\n",
    "    #IMPORTAR LIBRERIAS DE SKLEARN\n",
    "    from sklearn import linear_model\n",
    "    from sklearn.model_selection import train_test_split\n",
    "    #PARTICIONAR DATOS DE ENTRENAMIENTO Y TESTING\n",
    "    x_train, x_test, y_train, y_test = train_test_split(xs, y, test_size=0.4)\n",
    "    #FIT \n",
    "\n",
    "  \n",
    "    modelo = linear_model.LinearRegression(normalize=True)\n",
    "    modelo.fit(x_train,y_train)\n",
    "    #PREDECIR DATOS \"Y\" DE \"X\" TEST \n",
    "    y_predict = modelo.predict(x_test)\n",
    "    #PENDIENTES\n",
    "    pendientes = modelo.coef_\n",
    "    #ORDENADA \n",
    "    ordenada = modelo.intercept_\n",
    "    #R2\n",
    "    #'EL RESULTADO DEL MODELO ES DE {}'.format(modelo.score(x_train,y_train))\n",
    "    import matplotlib.pyplot as plt\n",
    "    #GENERO EJE X -> SUPERFICIE TOTAL\n",
    "    x1 = x_test[:,0]\n",
    "    #GENERO EJE Y -> PRECIO M2 DE TEST\n",
    "    x2 = y_test\n",
    "    # EJE Y -> PRECIO M2 PREDICHO\n",
    "    x3 = y_predict\n",
    "\n",
    "    #PLOT\n",
    "    plt.scatter(x1,x2,label='test modelo', color='blue')\n",
    "    plt.scatter(x1,x3,label='prediccion modelo', color='red')\n",
    "    plt.title('grafico modelo')\n",
    "    plt.show()\n",
    "\n",
    "    from sklearn import metrics\n",
    "    import numpy as np\n",
    "    print ('MAE:', metrics.mean_absolute_error(y_test, y_predict))\n",
    "    print ('MSE:', metrics.mean_squared_error(y_test, y_predict))\n",
    "    print ('RMSE:', np.sqrt(metrics.mean_squared_error(y_test, y_predict)))\n",
    "    print('EL R2 TRAIN ES DE: ', modelo.score(x_train,y_train))   \n",
    "    print('EL R2 TEST ES DE: ', metrics.r2_score(y_test, y_predict))\n",
    "    #print ('R2:', metrics.r2_score(y_test, y_predict))"
   ]
  },
  {
   "cell_type": "code",
   "execution_count": null,
   "metadata": {},
   "outputs": [],
   "source": []
  },
  {
   "cell_type": "code",
   "execution_count": null,
   "metadata": {},
   "outputs": [],
   "source": []
  },
  {
   "cell_type": "code",
   "execution_count": null,
   "metadata": {},
   "outputs": [],
   "source": []
  },
  {
   "cell_type": "code",
   "execution_count": null,
   "metadata": {},
   "outputs": [],
   "source": []
  },
  {
   "cell_type": "code",
   "execution_count": null,
   "metadata": {},
   "outputs": [],
   "source": []
  },
  {
   "cell_type": "markdown",
   "metadata": {},
   "source": [
    "## PARAMETROS A PREDECIR\n",
    "###### PARA LA PREDICCION DE PRECIOS POR M2 DE ALQUILERES EN CAPITAL FEDERAL"
   ]
  },
  {
   "cell_type": "code",
   "execution_count": 36,
   "metadata": {},
   "outputs": [
    {
     "name": "stderr",
     "output_type": "stream",
     "text": [
      "/home/DS-DH/notebooks/digitalHouse/modelo-properatti/ipynb/Util.py:208: UserWarning: Pandas doesn't allow columns to be created via a new attribute name - see https://pandas.pydata.org/pandas-docs/stable/indexing.html#attribute-access\n",
      "  predecir_data.superficie_total_2 = predecir_data.superficie_total**2\n"
     ]
    },
    {
     "data": {
      "text/plain": [
       "'EL RESULTADO DEL MODELO PARA LAS VARIABLES INGRESADAS ES DE 2733 U$D POR M2'"
      ]
     },
     "execution_count": 36,
     "metadata": {},
     "output_type": "execute_result"
    }
   ],
   "source": [
    "SUPERFICIE_TOTAL = 50           ##  [0,600]\n",
    "JARDIN = '1'                      ##  0,1\n",
    "TERRAZA = '1'                     ##  0,1\n",
    "CANTIDAD_DE_AMBIENTES = '3'       ##  1,2,3,4,4,5,6,7\n",
    "TIPO_DE_PROPIEDAD = 'DTO'        ##  CASA, PH, DTO\n",
    "BARRIO = 'caballito'               ##  barrios de CABA, en minusculas\n",
    "\n",
    "nuevos_Feactures = utl.nuevosDatos(modeloMatriz, SUPERFICIE_TOTAL, JARDIN, TERRAZA, CANTIDAD_DE_AMBIENTES, TIPO_DE_PROPIEDAD, BARRIO)\n",
    "y_predict = modelo.predict(nuevos_Feactures)\n",
    "\n",
    "'EL RESULTADO DEL MODELO PARA LAS VARIABLES INGRESADAS ES DE {} U$D POR M2'.format(y_predict[0].astype(int))\n"
   ]
  },
  {
   "cell_type": "code",
   "execution_count": 19,
   "metadata": {},
   "outputs": [
    {
     "name": "stderr",
     "output_type": "stream",
     "text": [
      "/home/DS-DH/notebooks/digitalHouse/modelo-properatti/ipynb/Util.py:208: UserWarning: Pandas doesn't allow columns to be created via a new attribute name - see https://pandas.pydata.org/pandas-docs/stable/indexing.html#attribute-access\n",
      "  predecir_data.superficie_total_2 = predecir_data.superficie_total**2\n"
     ]
    }
   ],
   "source": [
    "SUPERFICIE_TOTAL = 200           ##  [0,600]\n",
    "JARDIN = '1'                      ##  0,1\n",
    "TERRAZA = '0'                     ##  0,1\n",
    "CANTIDAD_DE_AMBIENTES = '1'       ##  1,2,3,4,4,5,6,7\n",
    "TIPO_DE_PROPIEDAD = 'CASA'        ##  CASA, PH, DTO\n",
    "BARRIO = 'avellaneda'               ##  barrios de CABA, en minusculas\n",
    "\n",
    "nuevos_Feactures = utl.nuevosDatos(modeloMatriz, SUPERFICIE_TOTAL, JARDIN, TERRAZA, CANTIDAD_DE_AMBIENTES, TIPO_DE_PROPIEDAD, BARRIO)\n"
   ]
  },
  {
   "cell_type": "code",
   "execution_count": null,
   "metadata": {},
   "outputs": [],
   "source": []
  },
  {
   "cell_type": "markdown",
   "metadata": {},
   "source": [
    "## CROSS VALIDATION"
   ]
  },
  {
   "cell_type": "markdown",
   "metadata": {},
   "source": [
    "###### REGRESION LINEAL PARA MEDICION DE R2"
   ]
  },
  {
   "cell_type": "code",
   "execution_count": 36,
   "metadata": {},
   "outputs": [],
   "source": [
    "import numpy as np\n",
    "from sklearn.model_selection import train_test_split\n",
    "from sklearn import svm\n",
    "from sklearn.model_selection import cross_val_score"
   ]
  },
  {
   "cell_type": "code",
   "execution_count": null,
   "metadata": {},
   "outputs": [],
   "source": []
  },
  {
   "cell_type": "code",
   "execution_count": 18,
   "metadata": {},
   "outputs": [],
   "source": [
    "xs = modeloMatriz.iloc[:,1:]\n",
    "y = modeloMatriz.iloc[:,0]"
   ]
  },
  {
   "cell_type": "code",
   "execution_count": null,
   "metadata": {},
   "outputs": [],
   "source": [
    "from sklearn import preprocessing\n",
    "X_train, X_test, y_train, y_test = train_test_split(xs, y, test_size=0.4, random_state=10)"
   ]
  },
  {
   "cell_type": "code",
   "execution_count": 51,
   "metadata": {},
   "outputs": [],
   "source": []
  },
  {
   "cell_type": "code",
   "execution_count": 54,
   "metadata": {},
   "outputs": [],
   "source": [
    "scaler = preprocessing.StandardScaler().fit(X_train)"
   ]
  },
  {
   "cell_type": "code",
   "execution_count": null,
   "metadata": {},
   "outputs": [],
   "source": []
  },
  {
   "cell_type": "code",
   "execution_count": null,
   "metadata": {},
   "outputs": [],
   "source": []
  },
  {
   "cell_type": "code",
   "execution_count": null,
   "metadata": {},
   "outputs": [],
   "source": []
  },
  {
   "cell_type": "code",
   "execution_count": null,
   "metadata": {},
   "outputs": [],
   "source": []
  },
  {
   "cell_type": "code",
   "execution_count": null,
   "metadata": {},
   "outputs": [],
   "source": []
  },
  {
   "cell_type": "markdown",
   "metadata": {},
   "source": [
    "## LIMPIEZA DE OUTLIERS "
   ]
  },
  {
   "cell_type": "code",
   "execution_count": 11,
   "metadata": {},
   "outputs": [],
   "source": [
    "data_original = pd.read_csv('/home/DS-DH/notebooks/digitalHouse/properatti.csv')"
   ]
  },
  {
   "cell_type": "code",
   "execution_count": 12,
   "metadata": {},
   "outputs": [
    {
     "data": {
      "image/png": "[encoded data removed]",
      "text/plain": [
       "<Figure size 432x288 with 1 Axes>"
      ]
     },
     "metadata": {},
     "output_type": "display_data"
    }
   ],
   "source": [
    "import matplotlib.pyplot as plt\n",
    "\n",
    "#GENERO EJE X -> SUPERFICIE TOTAL\n",
    "x1 = data_original.surface_total_in_m2\n",
    "\n",
    "#GENERO EJE Y -> PRECIO M2 DE TEST\n",
    "x2 = data_original.price_aprox_usd\n",
    "\n",
    "# EJE Y -> PRECIO M2 PREDICHO\n",
    "x3 = data.surface_total_in_m2\n",
    "\n",
    "x4 = data.price_aprox_usd\n",
    "\n",
    "#PLOT\n",
    "plt.scatter(x1,x2,label='original', color='blue')\n",
    "plt.scatter(x3,x4,label='limpiado', color='red')\n",
    "plt.title('grafico limpieza')\n",
    "plt.show()"
   ]
  },
  {
   "cell_type": "code",
   "execution_count": null,
   "metadata": {},
   "outputs": [],
   "source": []
  },
  {
   "cell_type": "code",
   "execution_count": null,
   "metadata": {},
   "outputs": [],
   "source": []
  },
  {
   "cell_type": "code",
   "execution_count": null,
   "metadata": {},
   "outputs": [],
   "source": []
  },
  {
   "cell_type": "code",
   "execution_count": null,
   "metadata": {},
   "outputs": [],
   "source": []
  },
  {
   "cell_type": "code",
   "execution_count": null,
   "metadata": {},
   "outputs": [],
   "source": []
  },
  {
   "cell_type": "code",
   "execution_count": null,
   "metadata": {},
   "outputs": [],
   "source": []
  },
  {
   "cell_type": "code",
   "execution_count": null,
   "metadata": {},
   "outputs": [],
   "source": []
  },
  {
   "cell_type": "code",
   "execution_count": 110,
   "metadata": {},
   "outputs": [],
   "source": []
  },
  {
   "cell_type": "markdown",
   "metadata": {},
   "source": [
    "## DESCENSO GRADIENTE "
   ]
  },
  {
   "cell_type": "code",
   "execution_count": 39,
   "metadata": {},
   "outputs": [],
   "source": [
    "%matplotlib inline\n",
    "import matplotlib.pyplot as plt\n",
    "import numpy as np\n",
    "import pandas as pd\n",
    "from sklearn import datasets, preprocessing"
   ]
  },
  {
   "cell_type": "code",
   "execution_count": null,
   "metadata": {},
   "outputs": [],
   "source": [
    "for x in xs:\n",
    "    print (x.applymap(lambda x: x+1))"
   ]
  },
  {
   "cell_type": "code",
   "execution_count": null,
   "metadata": {},
   "outputs": [],
   "source": [
    "mean = np.mean(xs)\n",
    "std = np.std(xs)"
   ]
  },
  {
   "cell_type": "code",
   "execution_count": 47,
   "metadata": {},
   "outputs": [],
   "source": [
    "xs = [(x - mean) / std for x in xs]"
   ]
  },
  {
   "cell_type": "code",
   "execution_count": 50,
   "metadata": {},
   "outputs": [],
   "source": [
    "mean = np.mean(y)\n",
    "std = np.std(y)\n",
    "y = [(y - mean) / std for y in y]"
   ]
  },
  {
   "cell_type": "code",
   "execution_count": null,
   "metadata": {},
   "outputs": [],
   "source": []
  },
  {
   "cell_type": "code",
   "execution_count": null,
   "metadata": {},
   "outputs": [],
   "source": []
  },
  {
   "cell_type": "code",
   "execution_count": null,
   "metadata": {},
   "outputs": [],
   "source": []
  },
  {
   "cell_type": "markdown",
   "metadata": {},
   "source": [
    "# REGRESION MULTIPLE"
   ]
  },
  {
   "cell_type": "code",
   "execution_count": null,
   "metadata": {},
   "outputs": [],
   "source": [
    "\n"
   ]
  },
  {
   "cell_type": "code",
   "execution_count": null,
   "metadata": {},
   "outputs": [],
   "source": []
  },
  {
   "cell_type": "code",
   "execution_count": null,
   "metadata": {},
   "outputs": [],
   "source": []
  },
  {
   "cell_type": "code",
   "execution_count": null,
   "metadata": {},
   "outputs": [],
   "source": []
  },
  {
   "cell_type": "code",
   "execution_count": 63,
   "metadata": {},
   "outputs": [],
   "source": [
    "%matplotlib inline\n",
    "\n",
    "from matplotlib import pyplot as plt\n",
    "plt.rcParams['figure.figsize'] = 10, 10\n",
    "\n",
    "import numpy as np\n",
    "import pandas as pd\n",
    "from scipy import stats\n",
    "import seaborn as sns\n",
    "from sklearn import datasets\n",
    "from sklearn.model_selection import train_test_split, KFold, cross_val_score\n",
    "from sklearn.linear_model import LinearRegression, Lasso, LassoCV, Ridge, RidgeCV\n",
    "from sklearn.preprocessing import PolynomialFeatures, StandardScaler\n",
    "from sklearn.metrics import mean_squared_error, r2_score"
   ]
  },
  {
   "cell_type": "code",
   "execution_count": 57,
   "metadata": {},
   "outputs": [],
   "source": [
    "xs = modeloMatriz.iloc[:,1:]\n",
    "y = modeloMatriz.iloc[:,0]"
   ]
  },
  {
   "cell_type": "code",
   "execution_count": 58,
   "metadata": {},
   "outputs": [],
   "source": [
    "X_train, X_test, y_train, y_test = train_test_split(xs, y, test_size=0.4)"
   ]
  },
  {
   "cell_type": "code",
   "execution_count": 59,
   "metadata": {},
   "outputs": [
    {
     "name": "stdout",
     "output_type": "stream",
     "text": [
      "(18275, 72) (18275,)\n",
      "(12184, 72) (12184,)\n"
     ]
    }
   ],
   "source": [
    "X_train, X_test, y_train, y_test = train_test_split(xs, y, test_size=0.4)\n",
    "print(X_train.shape, y_train.shape)\n",
    "print(X_test.shape, y_test.shape)"
   ]
  },
  {
   "cell_type": "code",
   "execution_count": 67,
   "metadata": {},
   "outputs": [],
   "source": [
    "al_ridge = np.linspace(0.001, 0.3, 300)\n",
    "#al_lasso = np.linspace(0.1, 0.5, 300)\n",
    "kf = KFold(n_splits=5, shuffle=True, random_state=12)"
   ]
  },
  {
   "cell_type": "code",
   "execution_count": null,
   "metadata": {},
   "outputs": [],
   "source": []
  },
  {
   "cell_type": "code",
   "execution_count": 68,
   "metadata": {},
   "outputs": [],
   "source": [
    "#lm = LinearRegression(normalize=True)\n",
    "lm_ridge_cv= RidgeCV(alphas=al_ridge, cv=kf, normalize=True)\n",
    "#lm_lasso_cv = LassoCV(alphas=al_lasso, cv=kf, normalize=True)"
   ]
  },
  {
   "cell_type": "code",
   "execution_count": 69,
   "metadata": {},
   "outputs": [
    {
     "data": {
      "text/plain": [
       "RidgeCV(alphas=array([0.001, 0.002, ..., 0.299, 0.3  ]),\n",
       "    cv=KFold(n_splits=5, random_state=12, shuffle=True),\n",
       "    fit_intercept=True, gcv_mode=None, normalize=True, scoring=None,\n",
       "    store_cv_values=False)"
      ]
     },
     "execution_count": 69,
     "metadata": {},
     "output_type": "execute_result"
    }
   ],
   "source": [
    "# Hacemos los fits respectivos\n",
    "#lm.fit(X_train, y_train)\n",
    "lm_ridge_cv.fit(X_train, y_train)\n",
    "#lm_lasso_cv.fit(X_train, y_train)"
   ]
  },
  {
   "cell_type": "code",
   "execution_count": 70,
   "metadata": {},
   "outputs": [
    {
     "name": "stdout",
     "output_type": "stream",
     "text": [
      "Alpha Ridge: 0.002 \n",
      "\n"
     ]
    }
   ],
   "source": [
    "print('Alpha Ridge:',lm_ridge_cv.alpha_,'\\n')\n",
    "      #'Alpha LASSO:',lm_lasso_cv.alpha_,'\\n')"
   ]
  },
  {
   "cell_type": "code",
   "execution_count": 75,
   "metadata": {},
   "outputs": [
    {
     "name": "stdout",
     "output_type": "stream",
     "text": [
      " Score Train Lineal: 0.78\n",
      "  Score Train Ridge : 0.78\n",
      "  Score Train Lasso : 0.77\n",
      "\n"
     ]
    }
   ],
   "source": [
    "# Calculamos el R2\n",
    "\n",
    "print(#\" Score Train Lineal: %.2f\\n\" % lm.score(X_train, y_train),\n",
    "      \" Score Train Ridge : %.2f\\n\" % lm_ridge_cv.score(X_train, y_train))\n",
    "      #\" Score Train Lasso : %.2f\\n\" %  lm_lasso_cv.score(X_train, y_train))\n"
   ]
  },
  {
   "cell_type": "code",
   "execution_count": null,
   "metadata": {},
   "outputs": [],
   "source": []
  },
  {
   "cell_type": "code",
   "execution_count": 81,
   "metadata": {},
   "outputs": [
    {
     "ename": "ValueError",
     "evalue": "Expected 2D array, got 1D array instead:\narray=[2954.58500315 3057.32484076 2397.43589744 ... 3262.36994216 2100.97416974\n 2092.12164101].\nReshape your data either using array.reshape(-1, 1) if your data has a single feature or array.reshape(1, -1) if it contains a single sample.",
     "output_type": "error",
     "traceback": [
      "\u001b[0;31m\u001b[0m",
      "\u001b[0;31mValueError\u001b[0mTraceback (most recent call last)",
      "\u001b[0;32m<ipython-input-81-503219463311>\u001b[0m in \u001b[0;36m<module>\u001b[0;34m()\u001b[0m\n\u001b[1;32m      5\u001b[0m \u001b[0;34m\u001b[0m\u001b[0m\n\u001b[1;32m      6\u001b[0m \u001b[0;31m#GENERO EJE Y PARA TESTING DE RL\u001b[0m\u001b[0;34m\u001b[0m\u001b[0;34m\u001b[0m\u001b[0m\n\u001b[0;32m----> 7\u001b[0;31m \u001b[0mx2\u001b[0m \u001b[0;34m=\u001b[0m \u001b[0mlm\u001b[0m\u001b[0;34m.\u001b[0m\u001b[0mpredict\u001b[0m\u001b[0;34m(\u001b[0m\u001b[0my_train\u001b[0m\u001b[0;34m)\u001b[0m\u001b[0;34m\u001b[0m\u001b[0m\n\u001b[0m\u001b[1;32m      8\u001b[0m \u001b[0;34m\u001b[0m\u001b[0m\n\u001b[1;32m      9\u001b[0m \u001b[0;31m#GENERO EJE Y -> PRECIO M2 DE TEST\u001b[0m\u001b[0;34m\u001b[0m\u001b[0;34m\u001b[0m\u001b[0m\n",
      "\u001b[0;32m/opt/conda/lib/python3.6/site-packages/sklearn/linear_model/base.py\u001b[0m in \u001b[0;36mpredict\u001b[0;34m(self, X)\u001b[0m\n\u001b[1;32m    254\u001b[0m             \u001b[0mReturns\u001b[0m \u001b[0mpredicted\u001b[0m \u001b[0mvalues\u001b[0m\u001b[0;34m.\u001b[0m\u001b[0;34m\u001b[0m\u001b[0m\n\u001b[1;32m    255\u001b[0m         \"\"\"\n\u001b[0;32m--> 256\u001b[0;31m         \u001b[0;32mreturn\u001b[0m \u001b[0mself\u001b[0m\u001b[0;34m.\u001b[0m\u001b[0m_decision_function\u001b[0m\u001b[0;34m(\u001b[0m\u001b[0mX\u001b[0m\u001b[0;34m)\u001b[0m\u001b[0;34m\u001b[0m\u001b[0m\n\u001b[0m\u001b[1;32m    257\u001b[0m \u001b[0;34m\u001b[0m\u001b[0m\n\u001b[1;32m    258\u001b[0m     \u001b[0m_preprocess_data\u001b[0m \u001b[0;34m=\u001b[0m \u001b[0mstaticmethod\u001b[0m\u001b[0;34m(\u001b[0m\u001b[0m_preprocess_data\u001b[0m\u001b[0;34m)\u001b[0m\u001b[0;34m\u001b[0m\u001b[0m\n",
      "\u001b[0;32m/opt/conda/lib/python3.6/site-packages/sklearn/linear_model/base.py\u001b[0m in \u001b[0;36m_decision_function\u001b[0;34m(self, X)\u001b[0m\n\u001b[1;32m    237\u001b[0m         \u001b[0mcheck_is_fitted\u001b[0m\u001b[0;34m(\u001b[0m\u001b[0mself\u001b[0m\u001b[0;34m,\u001b[0m \u001b[0;34m\"coef_\"\u001b[0m\u001b[0;34m)\u001b[0m\u001b[0;34m\u001b[0m\u001b[0m\n\u001b[1;32m    238\u001b[0m \u001b[0;34m\u001b[0m\u001b[0m\n\u001b[0;32m--> 239\u001b[0;31m         \u001b[0mX\u001b[0m \u001b[0;34m=\u001b[0m \u001b[0mcheck_array\u001b[0m\u001b[0;34m(\u001b[0m\u001b[0mX\u001b[0m\u001b[0;34m,\u001b[0m \u001b[0maccept_sparse\u001b[0m\u001b[0;34m=\u001b[0m\u001b[0;34m[\u001b[0m\u001b[0;34m'csr'\u001b[0m\u001b[0;34m,\u001b[0m \u001b[0;34m'csc'\u001b[0m\u001b[0;34m,\u001b[0m \u001b[0;34m'coo'\u001b[0m\u001b[0;34m]\u001b[0m\u001b[0;34m)\u001b[0m\u001b[0;34m\u001b[0m\u001b[0m\n\u001b[0m\u001b[1;32m    240\u001b[0m         return safe_sparse_dot(X, self.coef_.T,\n\u001b[1;32m    241\u001b[0m                                dense_output=True) + self.intercept_\n",
      "\u001b[0;32m/opt/conda/lib/python3.6/site-packages/sklearn/utils/validation.py\u001b[0m in \u001b[0;36mcheck_array\u001b[0;34m(array, accept_sparse, dtype, order, copy, force_all_finite, ensure_2d, allow_nd, ensure_min_samples, ensure_min_features, warn_on_dtype, estimator)\u001b[0m\n\u001b[1;32m    439\u001b[0m                     \u001b[0;34m\"Reshape your data either using array.reshape(-1, 1) if \"\u001b[0m\u001b[0;34m\u001b[0m\u001b[0m\n\u001b[1;32m    440\u001b[0m                     \u001b[0;34m\"your data has a single feature or array.reshape(1, -1) \"\u001b[0m\u001b[0;34m\u001b[0m\u001b[0m\n\u001b[0;32m--> 441\u001b[0;31m                     \"if it contains a single sample.\".format(array))\n\u001b[0m\u001b[1;32m    442\u001b[0m             \u001b[0marray\u001b[0m \u001b[0;34m=\u001b[0m \u001b[0mnp\u001b[0m\u001b[0;34m.\u001b[0m\u001b[0matleast_2d\u001b[0m\u001b[0;34m(\u001b[0m\u001b[0marray\u001b[0m\u001b[0;34m)\u001b[0m\u001b[0;34m\u001b[0m\u001b[0m\n\u001b[1;32m    443\u001b[0m             \u001b[0;31m# To ensure that array flags are maintained\u001b[0m\u001b[0;34m\u001b[0m\u001b[0;34m\u001b[0m\u001b[0m\n",
      "\u001b[0;31mValueError\u001b[0m: Expected 2D array, got 1D array instead:\narray=[2954.58500315 3057.32484076 2397.43589744 ... 3262.36994216 2100.97416974\n 2092.12164101].\nReshape your data either using array.reshape(-1, 1) if your data has a single feature or array.reshape(1, -1) if it contains a single sample."
     ]
    }
   ],
   "source": [
    "import matplotlib.pyplot as plt\n",
    "\n",
    "#GENERO EJE X -> SUPERFICIE TOTAL\n",
    "x1 = X_test[:,0]\n",
    "\n",
    "#GENERO EJE Y PARA TESTING DE RL\n",
    "#x2 = lm.predict(y_train)\n",
    "\n",
    "#GENERO EJE Y -> PRECIO M2 DE TEST\n",
    "x3 = lm_ridge_cv.predict(y_test)\n",
    "\n",
    "# EJE Y -> PRECIO M2 PREDICHO\n",
    "x4 = lm_lasso_cv.predict(y_test)\n",
    "\n",
    "\n",
    "#PLOT\n",
    "plt.scatter(x1,x2,label='lineal multiple', color='blue')\n",
    "plt.scatter(x1,x3,label='ridge', color='red')\n",
    "plt.scatter(x1,x4,label='lasso', color='yellow')\n",
    "plt.title('grafico comparacion regresiones lineal')\n",
    "plt.show()"
   ]
  },
  {
   "cell_type": "code",
   "execution_count": null,
   "metadata": {},
   "outputs": [],
   "source": []
  },
  {
   "cell_type": "code",
   "execution_count": null,
   "metadata": {},
   "outputs": [],
   "source": []
  },
  {
   "cell_type": "code",
   "execution_count": null,
   "metadata": {},
   "outputs": [],
   "source": []
  }
 ],
 "metadata": {
  "kernelspec": {
   "display_name": "Python 3",
   "language": "python",
   "name": "python3"
  },
  "language_info": {
   "codemirror_mode": {
    "name": "ipython",
    "version": 3
   },
   "file_extension": ".py",
   "mimetype": "text/x-python",
   "name": "python",
   "nbconvert_exporter": "python",
   "pygments_lexer": "ipython3",
   "version": "3.6.6"
  }
 },
 "nbformat": 4,
 "nbformat_minor": 2
}
