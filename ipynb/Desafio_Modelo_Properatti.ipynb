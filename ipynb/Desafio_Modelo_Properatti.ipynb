{
 "cells": [
  {
   "cell_type": "code",
   "execution_count": 621,
   "metadata": {},
   "outputs": [],
   "source": [
    "#from IPython import get_ipython\n",
    "#get_ipython().magic('reset -sf') "
   ]
  },
  {
   "cell_type": "code",
   "execution_count": 2,
   "metadata": {},
   "outputs": [
    {
     "data": {
      "text/plain": [
       "[]"
      ]
     },
     "execution_count": 2,
     "metadata": {},
     "output_type": "execute_result"
    }
   ],
   "source": [
    "%who_ls"
   ]
  },
  {
   "cell_type": "markdown",
   "metadata": {},
   "source": [
    "# DESAFIO MODELO PROPERATTI"
   ]
  },
  {
   "cell_type": "code",
   "execution_count": 1,
   "metadata": {},
   "outputs": [
    {
     "name": "stderr",
     "output_type": "stream",
     "text": [
      "/opt/conda/lib/python3.6/site-packages/sklearn/cross_validation.py:41: DeprecationWarning: This module was deprecated in version 0.18 in favor of the model_selection module into which all the refactored classes and functions are moved. Also note that the interface of the new CV iterators are different from that of this module. This module will be removed in 0.20.\n",
      "  \"This module will be removed in 0.20.\", DeprecationWarning)\n"
     ]
    }
   ],
   "source": [
    "import Util as utl\n",
    "import pandas as pd\n",
    "import numpy as np"
   ]
  },
  {
   "cell_type": "code",
   "execution_count": null,
   "metadata": {},
   "outputs": [],
   "source": []
  },
  {
   "cell_type": "code",
   "execution_count": 17,
   "metadata": {},
   "outputs": [],
   "source": [
    "data = pd.read_csv('/home/DS-DH/notebooks/digitalHouse/properatti.csv')"
   ]
  },
  {
   "cell_type": "code",
   "execution_count": 18,
   "metadata": {},
   "outputs": [
    {
     "name": "stderr",
     "output_type": "stream",
     "text": [
      "/home/DS-DH/notebooks/digitalHouse/modelo-properatti/ipynb/Util.py:334: UserWarning: Pandas doesn't allow columns to be created via a new attribute name - see https://pandas.pydata.org/pandas-docs/stable/indexing.html#attribute-access\n",
      "  data.ambientesImputados = ImputarAmbientesProceso(data,10)\n"
     ]
    }
   ],
   "source": [
    "data = utl.limpiarDatos(data,0.5)"
   ]
  },
  {
   "cell_type": "code",
   "execution_count": 2,
   "metadata": {},
   "outputs": [],
   "source": [
    "data = pd.read_csv('/home/DS-DH/notebooks/digitalHouse/data.csv',sep='|')\n",
    "#data.to_csv('/home/DS-DH/notebooks/digitalHouse/data.csv',sep='|')"
   ]
  },
  {
   "cell_type": "code",
   "execution_count": 3,
   "metadata": {},
   "outputs": [],
   "source": [
    "matriz = utl.GenerarMatriz(data)"
   ]
  },
  {
   "cell_type": "code",
   "execution_count": 4,
   "metadata": {},
   "outputs": [],
   "source": [
    "modeloMatriz = utl.generarDummies(matriz)"
   ]
  },
  {
   "cell_type": "code",
   "execution_count": 5,
   "metadata": {},
   "outputs": [
    {
     "data": {
      "text/html": [
       "<div>\n",
       "<style scoped>\n",
       "    .dataframe tbody tr th:only-of-type {\n",
       "        vertical-align: middle;\n",
       "    }\n",
       "\n",
       "    .dataframe tbody tr th {\n",
       "        vertical-align: top;\n",
       "    }\n",
       "\n",
       "    .dataframe thead th {\n",
       "        text-align: right;\n",
       "    }\n",
       "</style>\n",
       "<table border=\"1\" class=\"dataframe\">\n",
       "  <thead>\n",
       "    <tr style=\"text-align: right;\">\n",
       "      <th></th>\n",
       "      <th>precio_m2</th>\n",
       "      <th>superficie_total</th>\n",
       "      <th>superficieJardines</th>\n",
       "      <th>superficieTerrazas</th>\n",
       "      <th>superficieJardinesTerrazas</th>\n",
       "      <th>1_AMBIENTE</th>\n",
       "      <th>2_AMBIENTE</th>\n",
       "      <th>3_AMBIENTE</th>\n",
       "      <th>4_AMBIENTE</th>\n",
       "      <th>5_AMBIENTE</th>\n",
       "      <th>...</th>\n",
       "      <th>villa_general_mitre</th>\n",
       "      <th>palermo_viejo</th>\n",
       "      <th>villa_lugano</th>\n",
       "      <th>villa_ortuzar</th>\n",
       "      <th>villa_real</th>\n",
       "      <th>villa_riachuelo</th>\n",
       "      <th>villa_soldati</th>\n",
       "      <th>superficie_total_2</th>\n",
       "      <th>superficie_total_3</th>\n",
       "      <th>superficie_total_4</th>\n",
       "    </tr>\n",
       "  </thead>\n",
       "  <tbody>\n",
       "    <tr>\n",
       "      <th>count</th>\n",
       "      <td>30917.000000</td>\n",
       "      <td>30917.000000</td>\n",
       "      <td>30917.000000</td>\n",
       "      <td>30917.000000</td>\n",
       "      <td>30917.000000</td>\n",
       "      <td>30917.000000</td>\n",
       "      <td>30917.000000</td>\n",
       "      <td>30917.000000</td>\n",
       "      <td>30917.000000</td>\n",
       "      <td>30917.000000</td>\n",
       "      <td>...</td>\n",
       "      <td>30917.000000</td>\n",
       "      <td>30917.000000</td>\n",
       "      <td>30917.000000</td>\n",
       "      <td>30917.000000</td>\n",
       "      <td>30917.000000</td>\n",
       "      <td>30917.000000</td>\n",
       "      <td>30917.000000</td>\n",
       "      <td>3.091700e+04</td>\n",
       "      <td>3.091700e+04</td>\n",
       "      <td>3.091700e+04</td>\n",
       "    </tr>\n",
       "    <tr>\n",
       "      <th>mean</th>\n",
       "      <td>2630.648003</td>\n",
       "      <td>114.228381</td>\n",
       "      <td>0.002005</td>\n",
       "      <td>0.003978</td>\n",
       "      <td>0.000938</td>\n",
       "      <td>0.144581</td>\n",
       "      <td>0.117314</td>\n",
       "      <td>0.114468</td>\n",
       "      <td>0.081897</td>\n",
       "      <td>0.027881</td>\n",
       "      <td>...</td>\n",
       "      <td>0.000970</td>\n",
       "      <td>0.000032</td>\n",
       "      <td>0.004205</td>\n",
       "      <td>0.002199</td>\n",
       "      <td>0.000744</td>\n",
       "      <td>0.000162</td>\n",
       "      <td>0.000065</td>\n",
       "      <td>1.833541e+04</td>\n",
       "      <td>1.646478e+09</td>\n",
       "      <td>3.550543e+20</td>\n",
       "    </tr>\n",
       "    <tr>\n",
       "      <th>std</th>\n",
       "      <td>1509.387237</td>\n",
       "      <td>72.714937</td>\n",
       "      <td>0.044737</td>\n",
       "      <td>0.062950</td>\n",
       "      <td>0.030613</td>\n",
       "      <td>0.351683</td>\n",
       "      <td>0.321799</td>\n",
       "      <td>0.318384</td>\n",
       "      <td>0.274212</td>\n",
       "      <td>0.164635</td>\n",
       "      <td>...</td>\n",
       "      <td>0.031136</td>\n",
       "      <td>0.005687</td>\n",
       "      <td>0.064709</td>\n",
       "      <td>0.046847</td>\n",
       "      <td>0.027265</td>\n",
       "      <td>0.012716</td>\n",
       "      <td>0.008043</td>\n",
       "      <td>3.619853e+04</td>\n",
       "      <td>1.877112e+10</td>\n",
       "      <td>2.054030e+22</td>\n",
       "    </tr>\n",
       "    <tr>\n",
       "      <th>min</th>\n",
       "      <td>294.230769</td>\n",
       "      <td>13.000000</td>\n",
       "      <td>0.000000</td>\n",
       "      <td>0.000000</td>\n",
       "      <td>0.000000</td>\n",
       "      <td>0.000000</td>\n",
       "      <td>0.000000</td>\n",
       "      <td>0.000000</td>\n",
       "      <td>0.000000</td>\n",
       "      <td>0.000000</td>\n",
       "      <td>...</td>\n",
       "      <td>0.000000</td>\n",
       "      <td>0.000000</td>\n",
       "      <td>0.000000</td>\n",
       "      <td>0.000000</td>\n",
       "      <td>0.000000</td>\n",
       "      <td>0.000000</td>\n",
       "      <td>0.000000</td>\n",
       "      <td>1.690000e+02</td>\n",
       "      <td>2.856100e+04</td>\n",
       "      <td>8.157307e+08</td>\n",
       "    </tr>\n",
       "    <tr>\n",
       "      <th>25%</th>\n",
       "      <td>1816.129485</td>\n",
       "      <td>80.000000</td>\n",
       "      <td>0.000000</td>\n",
       "      <td>0.000000</td>\n",
       "      <td>0.000000</td>\n",
       "      <td>0.000000</td>\n",
       "      <td>0.000000</td>\n",
       "      <td>0.000000</td>\n",
       "      <td>0.000000</td>\n",
       "      <td>0.000000</td>\n",
       "      <td>...</td>\n",
       "      <td>0.000000</td>\n",
       "      <td>0.000000</td>\n",
       "      <td>0.000000</td>\n",
       "      <td>0.000000</td>\n",
       "      <td>0.000000</td>\n",
       "      <td>0.000000</td>\n",
       "      <td>0.000000</td>\n",
       "      <td>6.400000e+03</td>\n",
       "      <td>4.096000e+07</td>\n",
       "      <td>1.677722e+15</td>\n",
       "    </tr>\n",
       "    <tr>\n",
       "      <th>50%</th>\n",
       "      <td>2184.262528</td>\n",
       "      <td>96.380000</td>\n",
       "      <td>0.000000</td>\n",
       "      <td>0.000000</td>\n",
       "      <td>0.000000</td>\n",
       "      <td>0.000000</td>\n",
       "      <td>0.000000</td>\n",
       "      <td>0.000000</td>\n",
       "      <td>0.000000</td>\n",
       "      <td>0.000000</td>\n",
       "      <td>...</td>\n",
       "      <td>0.000000</td>\n",
       "      <td>0.000000</td>\n",
       "      <td>0.000000</td>\n",
       "      <td>0.000000</td>\n",
       "      <td>0.000000</td>\n",
       "      <td>0.000000</td>\n",
       "      <td>0.000000</td>\n",
       "      <td>9.289104e+03</td>\n",
       "      <td>8.628746e+07</td>\n",
       "      <td>7.445526e+15</td>\n",
       "    </tr>\n",
       "    <tr>\n",
       "      <th>75%</th>\n",
       "      <td>3265.397291</td>\n",
       "      <td>118.035714</td>\n",
       "      <td>0.000000</td>\n",
       "      <td>0.000000</td>\n",
       "      <td>0.000000</td>\n",
       "      <td>0.000000</td>\n",
       "      <td>0.000000</td>\n",
       "      <td>0.000000</td>\n",
       "      <td>0.000000</td>\n",
       "      <td>0.000000</td>\n",
       "      <td>...</td>\n",
       "      <td>0.000000</td>\n",
       "      <td>0.000000</td>\n",
       "      <td>0.000000</td>\n",
       "      <td>0.000000</td>\n",
       "      <td>0.000000</td>\n",
       "      <td>0.000000</td>\n",
       "      <td>0.000000</td>\n",
       "      <td>1.393243e+04</td>\n",
       "      <td>1.941126e+08</td>\n",
       "      <td>3.767970e+16</td>\n",
       "    </tr>\n",
       "    <tr>\n",
       "      <th>max</th>\n",
       "      <td>15076.560660</td>\n",
       "      <td>1159.000000</td>\n",
       "      <td>1.000000</td>\n",
       "      <td>1.000000</td>\n",
       "      <td>1.000000</td>\n",
       "      <td>1.000000</td>\n",
       "      <td>1.000000</td>\n",
       "      <td>1.000000</td>\n",
       "      <td>1.000000</td>\n",
       "      <td>1.000000</td>\n",
       "      <td>...</td>\n",
       "      <td>1.000000</td>\n",
       "      <td>1.000000</td>\n",
       "      <td>1.000000</td>\n",
       "      <td>1.000000</td>\n",
       "      <td>1.000000</td>\n",
       "      <td>1.000000</td>\n",
       "      <td>1.000000</td>\n",
       "      <td>1.343281e+06</td>\n",
       "      <td>1.804404e+12</td>\n",
       "      <td>3.255873e+24</td>\n",
       "    </tr>\n",
       "  </tbody>\n",
       "</table>\n",
       "<p>8 rows × 77 columns</p>\n",
       "</div>"
      ],
      "text/plain": [
       "          precio_m2  superficie_total  superficieJardines  superficieTerrazas  \\\n",
       "count  30917.000000      30917.000000        30917.000000        30917.000000   \n",
       "mean    2630.648003        114.228381            0.002005            0.003978   \n",
       "std     1509.387237         72.714937            0.044737            0.062950   \n",
       "min      294.230769         13.000000            0.000000            0.000000   \n",
       "25%     1816.129485         80.000000            0.000000            0.000000   \n",
       "50%     2184.262528         96.380000            0.000000            0.000000   \n",
       "75%     3265.397291        118.035714            0.000000            0.000000   \n",
       "max    15076.560660       1159.000000            1.000000            1.000000   \n",
       "\n",
       "       superficieJardinesTerrazas    1_AMBIENTE    2_AMBIENTE    3_AMBIENTE  \\\n",
       "count                30917.000000  30917.000000  30917.000000  30917.000000   \n",
       "mean                     0.000938      0.144581      0.117314      0.114468   \n",
       "std                      0.030613      0.351683      0.321799      0.318384   \n",
       "min                      0.000000      0.000000      0.000000      0.000000   \n",
       "25%                      0.000000      0.000000      0.000000      0.000000   \n",
       "50%                      0.000000      0.000000      0.000000      0.000000   \n",
       "75%                      0.000000      0.000000      0.000000      0.000000   \n",
       "max                      1.000000      1.000000      1.000000      1.000000   \n",
       "\n",
       "         4_AMBIENTE    5_AMBIENTE         ...          villa_general_mitre  \\\n",
       "count  30917.000000  30917.000000         ...                 30917.000000   \n",
       "mean       0.081897      0.027881         ...                     0.000970   \n",
       "std        0.274212      0.164635         ...                     0.031136   \n",
       "min        0.000000      0.000000         ...                     0.000000   \n",
       "25%        0.000000      0.000000         ...                     0.000000   \n",
       "50%        0.000000      0.000000         ...                     0.000000   \n",
       "75%        0.000000      0.000000         ...                     0.000000   \n",
       "max        1.000000      1.000000         ...                     1.000000   \n",
       "\n",
       "       palermo_viejo  villa_lugano  villa_ortuzar    villa_real  \\\n",
       "count   30917.000000  30917.000000   30917.000000  30917.000000   \n",
       "mean        0.000032      0.004205       0.002199      0.000744   \n",
       "std         0.005687      0.064709       0.046847      0.027265   \n",
       "min         0.000000      0.000000       0.000000      0.000000   \n",
       "25%         0.000000      0.000000       0.000000      0.000000   \n",
       "50%         0.000000      0.000000       0.000000      0.000000   \n",
       "75%         0.000000      0.000000       0.000000      0.000000   \n",
       "max         1.000000      1.000000       1.000000      1.000000   \n",
       "\n",
       "       villa_riachuelo  villa_soldati  superficie_total_2  superficie_total_3  \\\n",
       "count     30917.000000   30917.000000        3.091700e+04        3.091700e+04   \n",
       "mean          0.000162       0.000065        1.833541e+04        1.646478e+09   \n",
       "std           0.012716       0.008043        3.619853e+04        1.877112e+10   \n",
       "min           0.000000       0.000000        1.690000e+02        2.856100e+04   \n",
       "25%           0.000000       0.000000        6.400000e+03        4.096000e+07   \n",
       "50%           0.000000       0.000000        9.289104e+03        8.628746e+07   \n",
       "75%           0.000000       0.000000        1.393243e+04        1.941126e+08   \n",
       "max           1.000000       1.000000        1.343281e+06        1.804404e+12   \n",
       "\n",
       "       superficie_total_4  \n",
       "count        3.091700e+04  \n",
       "mean         3.550543e+20  \n",
       "std          2.054030e+22  \n",
       "min          8.157307e+08  \n",
       "25%          1.677722e+15  \n",
       "50%          7.445526e+15  \n",
       "75%          3.767970e+16  \n",
       "max          3.255873e+24  \n",
       "\n",
       "[8 rows x 77 columns]"
      ]
     },
     "execution_count": 5,
     "metadata": {},
     "output_type": "execute_result"
    }
   ],
   "source": [
    "modeloMatriz.describe()"
   ]
  },
  {
   "cell_type": "code",
   "execution_count": 8,
   "metadata": {},
   "outputs": [],
   "source": [
    "modeloMatriz=modeloMatriz[(modeloMatriz.superficie_total>20) & (modeloMatriz.superficie_total<900)]\n",
    "modeloMatriz=modeloMatriz[(modeloMatriz.precio_m2>20) & (modeloMatriz.precio_m2<8000)]"
   ]
  },
  {
   "cell_type": "code",
   "execution_count": null,
   "metadata": {},
   "outputs": [],
   "source": []
  },
  {
   "cell_type": "code",
   "execution_count": 9,
   "metadata": {},
   "outputs": [
    {
     "name": "stderr",
     "output_type": "stream",
     "text": [
      "/home/DS-DH/notebooks/digitalHouse/modelo-properatti/ipynb/Util.py:22: FutureWarning: Method .as_matrix will be removed in a future version. Use .values instead.\n",
      "  xs = xs.as_matrix()\n",
      "/home/DS-DH/notebooks/digitalHouse/modelo-properatti/ipynb/Util.py:24: FutureWarning: Method .as_matrix will be removed in a future version. Use .values instead.\n",
      "  y = y.as_matrix()\n"
     ]
    },
    {
     "data": {
      "image/png": "[encoded data removed]",
      "text/plain": [
       "<Figure size 432x288 with 1 Axes>"
      ]
     },
     "metadata": {},
     "output_type": "display_data"
    },
    {
     "name": "stdout",
     "output_type": "stream",
     "text": [
      "CROSS VALIDATION: -3.4160572752887726 -3.2539608688291555 -3.2230382893222362 -3.1144840571682435 -3.279081016684973\n",
      "MAE: 2564.1818077931566\n",
      "MSE: 8695925.656341411\n",
      "RMSE: 2948.8854939351936\n",
      "EL R2 TRAIN ES DE:  -3.256854309394205\n",
      "EL R2 TEST ES DE:  -3.2914350306669204\n"
     ]
    }
   ],
   "source": [
    "modelo = utl.modelo_regresion_lineal(modeloMatriz)"
   ]
  },
  {
   "cell_type": "code",
   "execution_count": null,
   "metadata": {},
   "outputs": [],
   "source": []
  },
  {
   "cell_type": "markdown",
   "metadata": {},
   "source": [
    "## PARAMETROS A PREDECIR\n",
    "###### PARA LA PREDICCION DE PRECIOS POR M2 DE ALQUILERES EN CAPITAL FEDERAL"
   ]
  },
  {
   "cell_type": "code",
   "execution_count": 45,
   "metadata": {},
   "outputs": [
    {
     "name": "stderr",
     "output_type": "stream",
     "text": [
      "/home/DS-DH/notebooks/digitalHouse/modelo-properatti/ipynb/Util.py:212: UserWarning: Pandas doesn't allow columns to be created via a new attribute name - see https://pandas.pydata.org/pandas-docs/stable/indexing.html#attribute-access\n",
      "  predecir_data.superficie_total_2 = predecir_data.superficie_total**2\n"
     ]
    },
    {
     "data": {
      "text/plain": [
       "'EL RESULTADO DEL MODELO PARA LAS VARIABLES INGRESADAS ES DE -5517 U$D POR M2'"
      ]
     },
     "execution_count": 45,
     "metadata": {},
     "output_type": "execute_result"
    }
   ],
   "source": [
    "SUPERFICIE_TOTAL = 129           ##  [0,600]\n",
    "JARDIN = '0'                      ##  0,1\n",
    "TERRAZA = '1'                     ##  0,1\n",
    "CANTIDAD_DE_AMBIENTES = '3'       ##  1,2,3,4,4,5,6,7\n",
    "TIPO_DE_PROPIEDAD = 'DTO'        ##  CASA, PH, DTO\n",
    "BARRIO = 'puertp madero'               ##  barrios de CABA, en minusculas\n",
    "\n",
    "nuevos_Feactures = utl.nuevosDatos(modeloMatriz, SUPERFICIE_TOTAL, JARDIN, TERRAZA, CANTIDAD_DE_AMBIENTES, TIPO_DE_PROPIEDAD, BARRIO)\n",
    "y_predict = modelo.predict(nuevos_Feactures)\n",
    "\n",
    "'EL RESULTADO DEL MODELO PARA LAS VARIABLES INGRESADAS ES DE {} U$D POR M2'.format(y_predict[0].astype(int))\n"
   ]
  },
  {
   "cell_type": "code",
   "execution_count": null,
   "metadata": {},
   "outputs": [],
   "source": []
  },
  {
   "cell_type": "code",
   "execution_count": null,
   "metadata": {},
   "outputs": [],
   "source": []
  },
  {
   "cell_type": "code",
   "execution_count": null,
   "metadata": {},
   "outputs": [],
   "source": []
  },
  {
   "cell_type": "markdown",
   "metadata": {},
   "source": [
    "## LIMPIEZA DE OUTLIERS "
   ]
  },
  {
   "cell_type": "code",
   "execution_count": 14,
   "metadata": {},
   "outputs": [],
   "source": [
    "data_original = pd.read_csv('/home/DS-DH/notebooks/digitalHouse/properatti.csv')"
   ]
  },
  {
   "cell_type": "code",
   "execution_count": 20,
   "metadata": {},
   "outputs": [
    {
     "data": {
      "image/png": "[encoded data removed]",
      "text/plain": [
       "<Figure size 432x288 with 1 Axes>"
      ]
     },
     "metadata": {},
     "output_type": "display_data"
    }
   ],
   "source": [
    "import matplotlib.pyplot as plt\n",
    "\n",
    "#GENERO EJE X -> SUPERFICIE TOTAL\n",
    "x1 = data_original.surface_total_in_m2\n",
    "\n",
    "#GENERO EJE Y -> PRECIO M2 DE TEST\n",
    "x2 = data_original.price_aprox_usd\n",
    "\n",
    "# EJE Y -> PRECIO M2 PREDICHO\n",
    "x3 = modeloMatriz.superficie_total\n",
    "\n",
    "x4 = modeloMatriz.precio_m2*modeloMatriz.superficie_total\n",
    "\n",
    "#PLOT\n",
    "plt.scatter(x1,x2,label='original', color='blue')\n",
    "plt.scatter(x3,x4,label='limpiado', color='red')\n",
    "plt.title('grafico limpieza')\n",
    "plt.show()"
   ]
  },
  {
   "cell_type": "code",
   "execution_count": null,
   "metadata": {},
   "outputs": [],
   "source": []
  },
  {
   "cell_type": "code",
   "execution_count": null,
   "metadata": {},
   "outputs": [],
   "source": []
  },
  {
   "cell_type": "code",
   "execution_count": null,
   "metadata": {},
   "outputs": [],
   "source": []
  },
  {
   "cell_type": "code",
   "execution_count": null,
   "metadata": {},
   "outputs": [],
   "source": []
  },
  {
   "cell_type": "code",
   "execution_count": null,
   "metadata": {},
   "outputs": [],
   "source": []
  },
  {
   "cell_type": "code",
   "execution_count": null,
   "metadata": {},
   "outputs": [],
   "source": []
  },
  {
   "cell_type": "code",
   "execution_count": null,
   "metadata": {},
   "outputs": [],
   "source": []
  },
  {
   "cell_type": "code",
   "execution_count": 110,
   "metadata": {},
   "outputs": [],
   "source": []
  },
  {
   "cell_type": "markdown",
   "metadata": {},
   "source": [
    "## DESCENSO GRADIENTE "
   ]
  },
  {
   "cell_type": "code",
   "execution_count": 39,
   "metadata": {},
   "outputs": [],
   "source": [
    "%matplotlib inline\n",
    "import matplotlib.pyplot as plt\n",
    "import numpy as np\n",
    "import pandas as pd\n",
    "from sklearn import datasets, preprocessing"
   ]
  },
  {
   "cell_type": "code",
   "execution_count": null,
   "metadata": {},
   "outputs": [],
   "source": [
    "for x in xs:\n",
    "    print (x.applymap(lambda x: x+1))"
   ]
  },
  {
   "cell_type": "code",
   "execution_count": null,
   "metadata": {},
   "outputs": [],
   "source": [
    "mean = np.mean(xs)\n",
    "std = np.std(xs)"
   ]
  },
  {
   "cell_type": "code",
   "execution_count": 47,
   "metadata": {},
   "outputs": [],
   "source": [
    "xs = [(x - mean) / std for x in xs]"
   ]
  },
  {
   "cell_type": "code",
   "execution_count": 50,
   "metadata": {},
   "outputs": [],
   "source": [
    "mean = np.mean(y)\n",
    "std = np.std(y)\n",
    "y = [(y - mean) / std for y in y]"
   ]
  },
  {
   "cell_type": "code",
   "execution_count": null,
   "metadata": {},
   "outputs": [],
   "source": []
  },
  {
   "cell_type": "code",
   "execution_count": null,
   "metadata": {},
   "outputs": [],
   "source": []
  },
  {
   "cell_type": "code",
   "execution_count": null,
   "metadata": {},
   "outputs": [],
   "source": []
  },
  {
   "cell_type": "markdown",
   "metadata": {},
   "source": [
    "# REGRESION MULTIPLE"
   ]
  },
  {
   "cell_type": "code",
   "execution_count": null,
   "metadata": {},
   "outputs": [],
   "source": [
    "\n"
   ]
  },
  {
   "cell_type": "code",
   "execution_count": null,
   "metadata": {},
   "outputs": [],
   "source": []
  },
  {
   "cell_type": "code",
   "execution_count": null,
   "metadata": {},
   "outputs": [],
   "source": []
  },
  {
   "cell_type": "code",
   "execution_count": null,
   "metadata": {},
   "outputs": [],
   "source": []
  },
  {
   "cell_type": "code",
   "execution_count": 63,
   "metadata": {},
   "outputs": [],
   "source": [
    "%matplotlib inline\n",
    "\n",
    "from matplotlib import pyplot as plt\n",
    "plt.rcParams['figure.figsize'] = 10, 10\n",
    "\n",
    "import numpy as np\n",
    "import pandas as pd\n",
    "from scipy import stats\n",
    "import seaborn as sns\n",
    "from sklearn import datasets\n",
    "from sklearn.model_selection import train_test_split, KFold, cross_val_score\n",
    "from sklearn.linear_model import LinearRegression, Lasso, LassoCV, Ridge, RidgeCV\n",
    "from sklearn.preprocessing import PolynomialFeatures, StandardScaler\n",
    "from sklearn.metrics import mean_squared_error, r2_score"
   ]
  },
  {
   "cell_type": "code",
   "execution_count": 57,
   "metadata": {},
   "outputs": [],
   "source": [
    "xs = modeloMatriz.iloc[:,1:]\n",
    "y = modeloMatriz.iloc[:,0]"
   ]
  },
  {
   "cell_type": "code",
   "execution_count": 58,
   "metadata": {},
   "outputs": [],
   "source": [
    "X_train, X_test, y_train, y_test = train_test_split(xs, y, test_size=0.4)"
   ]
  },
  {
   "cell_type": "code",
   "execution_count": 59,
   "metadata": {},
   "outputs": [
    {
     "name": "stdout",
     "output_type": "stream",
     "text": [
      "(18275, 72) (18275,)\n",
      "(12184, 72) (12184,)\n"
     ]
    }
   ],
   "source": [
    "X_train, X_test, y_train, y_test = train_test_split(xs, y, test_size=0.4)\n",
    "print(X_train.shape, y_train.shape)\n",
    "print(X_test.shape, y_test.shape)"
   ]
  },
  {
   "cell_type": "code",
   "execution_count": 67,
   "metadata": {},
   "outputs": [],
   "source": [
    "al_ridge = np.linspace(0.001, 0.3, 300)\n",
    "#al_lasso = np.linspace(0.1, 0.5, 300)\n",
    "kf = KFold(n_splits=5, shuffle=True, random_state=12)"
   ]
  },
  {
   "cell_type": "code",
   "execution_count": null,
   "metadata": {},
   "outputs": [],
   "source": []
  },
  {
   "cell_type": "code",
   "execution_count": 68,
   "metadata": {},
   "outputs": [],
   "source": [
    "#lm = LinearRegression(normalize=True)\n",
    "lm_ridge_cv= RidgeCV(alphas=al_ridge, cv=kf, normalize=True)\n",
    "#lm_lasso_cv = LassoCV(alphas=al_lasso, cv=kf, normalize=True)"
   ]
  },
  {
   "cell_type": "code",
   "execution_count": 69,
   "metadata": {},
   "outputs": [
    {
     "data": {
      "text/plain": [
       "RidgeCV(alphas=array([0.001, 0.002, ..., 0.299, 0.3  ]),\n",
       "    cv=KFold(n_splits=5, random_state=12, shuffle=True),\n",
       "    fit_intercept=True, gcv_mode=None, normalize=True, scoring=None,\n",
       "    store_cv_values=False)"
      ]
     },
     "execution_count": 69,
     "metadata": {},
     "output_type": "execute_result"
    }
   ],
   "source": [
    "# Hacemos los fits respectivos\n",
    "#lm.fit(X_train, y_train)\n",
    "lm_ridge_cv.fit(X_train, y_train)\n",
    "#lm_lasso_cv.fit(X_train, y_train)"
   ]
  },
  {
   "cell_type": "code",
   "execution_count": 70,
   "metadata": {},
   "outputs": [
    {
     "name": "stdout",
     "output_type": "stream",
     "text": [
      "Alpha Ridge: 0.002 \n",
      "\n"
     ]
    }
   ],
   "source": [
    "print('Alpha Ridge:',lm_ridge_cv.alpha_,'\\n')\n",
    "      #'Alpha LASSO:',lm_lasso_cv.alpha_,'\\n')"
   ]
  },
  {
   "cell_type": "code",
   "execution_count": 75,
   "metadata": {},
   "outputs": [
    {
     "name": "stdout",
     "output_type": "stream",
     "text": [
      " Score Train Lineal: 0.78\n",
      "  Score Train Ridge : 0.78\n",
      "  Score Train Lasso : 0.77\n",
      "\n"
     ]
    }
   ],
   "source": [
    "# Calculamos el R2\n",
    "\n",
    "print(#\" Score Train Lineal: %.2f\\n\" % lm.score(X_train, y_train),\n",
    "      \" Score Train Ridge : %.2f\\n\" % lm_ridge_cv.score(X_train, y_train))\n",
    "      #\" Score Train Lasso : %.2f\\n\" %  lm_lasso_cv.score(X_train, y_train))\n"
   ]
  },
  {
   "cell_type": "code",
   "execution_count": null,
   "metadata": {},
   "outputs": [],
   "source": []
  },
  {
   "cell_type": "code",
   "execution_count": 81,
   "metadata": {},
   "outputs": [
    {
     "ename": "ValueError",
     "evalue": "Expected 2D array, got 1D array instead:\narray=[2954.58500315 3057.32484076 2397.43589744 ... 3262.36994216 2100.97416974\n 2092.12164101].\nReshape your data either using array.reshape(-1, 1) if your data has a single feature or array.reshape(1, -1) if it contains a single sample.",
     "output_type": "error",
     "traceback": [
      "\u001b[0;31m\u001b[0m",
      "\u001b[0;31mValueError\u001b[0mTraceback (most recent call last)",
      "\u001b[0;32m<ipython-input-81-503219463311>\u001b[0m in \u001b[0;36m<module>\u001b[0;34m()\u001b[0m\n\u001b[1;32m      5\u001b[0m \u001b[0;34m\u001b[0m\u001b[0m\n\u001b[1;32m      6\u001b[0m \u001b[0;31m#GENERO EJE Y PARA TESTING DE RL\u001b[0m\u001b[0;34m\u001b[0m\u001b[0;34m\u001b[0m\u001b[0m\n\u001b[0;32m----> 7\u001b[0;31m \u001b[0mx2\u001b[0m \u001b[0;34m=\u001b[0m \u001b[0mlm\u001b[0m\u001b[0;34m.\u001b[0m\u001b[0mpredict\u001b[0m\u001b[0;34m(\u001b[0m\u001b[0my_train\u001b[0m\u001b[0;34m)\u001b[0m\u001b[0;34m\u001b[0m\u001b[0m\n\u001b[0m\u001b[1;32m      8\u001b[0m \u001b[0;34m\u001b[0m\u001b[0m\n\u001b[1;32m      9\u001b[0m \u001b[0;31m#GENERO EJE Y -> PRECIO M2 DE TEST\u001b[0m\u001b[0;34m\u001b[0m\u001b[0;34m\u001b[0m\u001b[0m\n",
      "\u001b[0;32m/opt/conda/lib/python3.6/site-packages/sklearn/linear_model/base.py\u001b[0m in \u001b[0;36mpredict\u001b[0;34m(self, X)\u001b[0m\n\u001b[1;32m    254\u001b[0m             \u001b[0mReturns\u001b[0m \u001b[0mpredicted\u001b[0m \u001b[0mvalues\u001b[0m\u001b[0;34m.\u001b[0m\u001b[0;34m\u001b[0m\u001b[0m\n\u001b[1;32m    255\u001b[0m         \"\"\"\n\u001b[0;32m--> 256\u001b[0;31m         \u001b[0;32mreturn\u001b[0m \u001b[0mself\u001b[0m\u001b[0;34m.\u001b[0m\u001b[0m_decision_function\u001b[0m\u001b[0;34m(\u001b[0m\u001b[0mX\u001b[0m\u001b[0;34m)\u001b[0m\u001b[0;34m\u001b[0m\u001b[0m\n\u001b[0m\u001b[1;32m    257\u001b[0m \u001b[0;34m\u001b[0m\u001b[0m\n\u001b[1;32m    258\u001b[0m     \u001b[0m_preprocess_data\u001b[0m \u001b[0;34m=\u001b[0m \u001b[0mstaticmethod\u001b[0m\u001b[0;34m(\u001b[0m\u001b[0m_preprocess_data\u001b[0m\u001b[0;34m)\u001b[0m\u001b[0;34m\u001b[0m\u001b[0m\n",
      "\u001b[0;32m/opt/conda/lib/python3.6/site-packages/sklearn/linear_model/base.py\u001b[0m in \u001b[0;36m_decision_function\u001b[0;34m(self, X)\u001b[0m\n\u001b[1;32m    237\u001b[0m         \u001b[0mcheck_is_fitted\u001b[0m\u001b[0;34m(\u001b[0m\u001b[0mself\u001b[0m\u001b[0;34m,\u001b[0m \u001b[0;34m\"coef_\"\u001b[0m\u001b[0;34m)\u001b[0m\u001b[0;34m\u001b[0m\u001b[0m\n\u001b[1;32m    238\u001b[0m \u001b[0;34m\u001b[0m\u001b[0m\n\u001b[0;32m--> 239\u001b[0;31m         \u001b[0mX\u001b[0m \u001b[0;34m=\u001b[0m \u001b[0mcheck_array\u001b[0m\u001b[0;34m(\u001b[0m\u001b[0mX\u001b[0m\u001b[0;34m,\u001b[0m \u001b[0maccept_sparse\u001b[0m\u001b[0;34m=\u001b[0m\u001b[0;34m[\u001b[0m\u001b[0;34m'csr'\u001b[0m\u001b[0;34m,\u001b[0m \u001b[0;34m'csc'\u001b[0m\u001b[0;34m,\u001b[0m \u001b[0;34m'coo'\u001b[0m\u001b[0;34m]\u001b[0m\u001b[0;34m)\u001b[0m\u001b[0;34m\u001b[0m\u001b[0m\n\u001b[0m\u001b[1;32m    240\u001b[0m         return safe_sparse_dot(X, self.coef_.T,\n\u001b[1;32m    241\u001b[0m                                dense_output=True) + self.intercept_\n",
      "\u001b[0;32m/opt/conda/lib/python3.6/site-packages/sklearn/utils/validation.py\u001b[0m in \u001b[0;36mcheck_array\u001b[0;34m(array, accept_sparse, dtype, order, copy, force_all_finite, ensure_2d, allow_nd, ensure_min_samples, ensure_min_features, warn_on_dtype, estimator)\u001b[0m\n\u001b[1;32m    439\u001b[0m                     \u001b[0;34m\"Reshape your data either using array.reshape(-1, 1) if \"\u001b[0m\u001b[0;34m\u001b[0m\u001b[0m\n\u001b[1;32m    440\u001b[0m                     \u001b[0;34m\"your data has a single feature or array.reshape(1, -1) \"\u001b[0m\u001b[0;34m\u001b[0m\u001b[0m\n\u001b[0;32m--> 441\u001b[0;31m                     \"if it contains a single sample.\".format(array))\n\u001b[0m\u001b[1;32m    442\u001b[0m             \u001b[0marray\u001b[0m \u001b[0;34m=\u001b[0m \u001b[0mnp\u001b[0m\u001b[0;34m.\u001b[0m\u001b[0matleast_2d\u001b[0m\u001b[0;34m(\u001b[0m\u001b[0marray\u001b[0m\u001b[0;34m)\u001b[0m\u001b[0;34m\u001b[0m\u001b[0m\n\u001b[1;32m    443\u001b[0m             \u001b[0;31m# To ensure that array flags are maintained\u001b[0m\u001b[0;34m\u001b[0m\u001b[0;34m\u001b[0m\u001b[0m\n",
      "\u001b[0;31mValueError\u001b[0m: Expected 2D array, got 1D array instead:\narray=[2954.58500315 3057.32484076 2397.43589744 ... 3262.36994216 2100.97416974\n 2092.12164101].\nReshape your data either using array.reshape(-1, 1) if your data has a single feature or array.reshape(1, -1) if it contains a single sample."
     ]
    }
   ],
   "source": [
    "import matplotlib.pyplot as plt\n",
    "\n",
    "#GENERO EJE X -> SUPERFICIE TOTAL\n",
    "x1 = X_test[:,0]\n",
    "\n",
    "#GENERO EJE Y PARA TESTING DE RL\n",
    "#x2 = lm.predict(y_train)\n",
    "\n",
    "#GENERO EJE Y -> PRECIO M2 DE TEST\n",
    "x3 = lm_ridge_cv.predict(y_test)\n",
    "\n",
    "# EJE Y -> PRECIO M2 PREDICHO\n",
    "x4 = lm_lasso_cv.predict(y_test)\n",
    "\n",
    "\n",
    "#PLOT\n",
    "plt.scatter(x1,x2,label='lineal multiple', color='blue')\n",
    "plt.scatter(x1,x3,label='ridge', color='red')\n",
    "plt.scatter(x1,x4,label='lasso', color='yellow')\n",
    "plt.title('grafico comparacion regresiones lineal')\n",
    "plt.show()"
   ]
  },
  {
   "cell_type": "code",
   "execution_count": null,
   "metadata": {},
   "outputs": [],
   "source": []
  },
  {
   "cell_type": "code",
   "execution_count": null,
   "metadata": {},
   "outputs": [],
   "source": []
  },
  {
   "cell_type": "code",
   "execution_count": null,
   "metadata": {},
   "outputs": [],
   "source": []
  }
 ],
 "metadata": {
  "kernelspec": {
   "display_name": "Python 3",
   "language": "python",
   "name": "python3"
  },
  "language_info": {
   "codemirror_mode": {
    "name": "ipython",
    "version": 3
   },
   "file_extension": ".py",
   "mimetype": "text/x-python",
   "name": "python",
   "nbconvert_exporter": "python",
   "pygments_lexer": "ipython3",
   "version": "3.6.6"
  }
 },
 "nbformat": 4,
 "nbformat_minor": 2
}
