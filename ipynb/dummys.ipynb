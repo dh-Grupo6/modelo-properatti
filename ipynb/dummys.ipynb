{
 "cells": [
  {
   "cell_type": "code",
<<<<<<< HEAD
   "execution_count": 1,
=======
   "execution_count": null,
>>>>>>> 6b068bd8446a741602dfee3a35ab383e511a6a75
   "metadata": {},
   "outputs": [],
   "source": [
    "import pandas as pd\n",
    "import numpy as np\n",
    "\n",
<<<<<<< HEAD
    "data = pd.read_csv('/home/DS-DH/notebooks/digitalHouse/properatti.csv')\n",
    "matriz = pd.read_csv('/home/DS-DH/notebooks/digitalHouse/matriz.csv',sep='|')\n",
    "nueva_matriz = pd.read_csv('/home/DS-DH/notebooks/digitalHouse/matriz_nueva.csv',sep='|')\n"
   ]
  },
  {
   "cell_type": "code",
   "execution_count": 3,
   "metadata": {},
   "outputs": [],
   "source": [
    "#GENERO AMBIENTES DE MATRIZ\n",
    "data['ambientes']=data.merge(matriz,how='left', left_index=True, right_index=True)['ambientes']"
   ]
  },
  {
   "cell_type": "code",
   "execution_count": 7,
   "metadata": {},
   "outputs": [],
   "source": [
    "#GENERO DUMMYS DE AMBIENTES\n",
    "nueva_matriz['1_AMBIENTE'] = (nueva_matriz.ambientes>=1)&(nueva_matriz.ambientes<2)\n",
    "nueva_matriz['2_AMBIENTE'] = (nueva_matriz.ambientes>=2)&(nueva_matriz.ambientes<3)\n",
    "nueva_matriz['3_AMBIENTE'] = (nueva_matriz.ambientes>=3)&(nueva_matriz.ambientes<4)\n",
    "nueva_matriz['4_AMBIENTE'] = (nueva_matriz.ambientes>=4)&(nueva_matriz.ambientes<5)\n",
    "nueva_matriz['5_AMBIENTE'] = (nueva_matriz.ambientes>=5)&(nueva_matriz.ambientes<6)\n",
    "nueva_matriz['6_AMBIENTE'] = (nueva_matriz.ambientes>=6)&(nueva_matriz.ambientes<7)\n",
    "nueva_matriz['7_AMBIENTE'] = (nueva_matriz.ambientes>=7)&(nueva_matriz.ambientes<8)\n",
    "\n",
    "nueva_matriz[['1_AMBIENTE','2_AMBIENTE','3_AMBIENTE','4_AMBIENTE', '5_AMBIENTE','6_AMBIENTE','7_AMBIENTE']] = nueva_matriz[['1_AMBIENTE','2_AMBIENTE','3_AMBIENTE','4_AMBIENTE', '5_AMBIENTE','6_AMBIENTE','7_AMBIENTE']].applymap(lambda x : 1 if (x) else 0)\n"
   ]
  },
  {
   "cell_type": "code",
   "execution_count": 8,
   "metadata": {},
   "outputs": [],
   "source": [
    "#GENERO DUMMYS TIPO DE PROPIEDAD \n",
    "data['CASA'] = data.property_type.str.contains('house')\n",
    "data['PH'] =  data.property_type.str.contains('PH')\n",
    "data['DTO'] = data.property_type.str.contains('apartment')\n",
    "data[['CASA','PH','DTO']] = data[['CASA','PH','DTO']].applymap(lambda x : 1 if x else 0)\n",
    "\n",
    "#ELIMINO REGISTROS NULOS DE VARIABLES A UTILIZAR EN EL MODELO\n",
    "data=data[data.price_usd_per_m2.notnull()]\n",
    "data=data[data.surface_total_in_m2.notnull()]\n",
    "data=data[data.ambientes.notnull()]\n"
   ]
  },
  {
   "cell_type": "code",
   "execution_count": 9,
   "metadata": {},
   "outputs": [],
   "source": []
  },
  {
   "cell_type": "code",
   "execution_count": 11,
   "metadata": {},
   "outputs": [],
   "source": [
    "#GENERO DUMMYS TIPO DE PROPIEDAD \n",
    "nueva_matriz['CASA'] = nueva_matriz.propiedad.str.contains('house')\n",
    "nueva_matriz['PH'] =  nueva_matriz.propiedad.str.contains('PH')\n",
    "nueva_matriz['DTO'] = nueva_matriz.propiedad.str.contains('apartment')\n",
    "nueva_matriz[['CASA','PH','DTO']] = nueva_matriz[['CASA','PH','DTO']].applymap(lambda x : 1 if x else 0)\n",
    "\n",
    "#ELIMINO REGISTROS NULOS DE VARIABLES A UTILIZAR EN EL MODELO\n",
    "nueva_matriz=nueva_matriz[nueva_matriz.precio_m2.notnull()]\n",
    "nueva_matriz=nueva_matriz[nueva_matriz.superficie_total.notnull()]\n",
    "nueva_matriz=nueva_matriz[nueva_matriz.ambientes.notnull()]\n"
   ]
  },
  {
   "cell_type": "code",
   "execution_count": null,
   "metadata": {},
   "outputs": [],
   "source": []
  },
  {
   "cell_type": "code",
   "execution_count": 17,
   "metadata": {},
   "outputs": [],
   "source": []
  },
  {
   "cell_type": "code",
   "execution_count": 19,
   "metadata": {},
   "outputs": [],
   "source": [
    "#CREO LISTA DE BARRIOS \n",
    "barrios = data[data.state_name.str.contains('Capital')].place_name.unique()\n",
=======
    "data = pd.read_csv('properatti.csv')\n",
    "matriz = pd.read_csv('matriz.csv',sep='|')\n",
    "\n",
    "\n",
    "#GENERO AMBIENTES DE MATRIZ\n",
    "\n",
    "data_['ambientes']=data_.merge(matriz,how='left', left_index=True, right_index=True)['ambientes']\n",
    "\n",
    "\n",
    "#GENERO DUMMYS DE AMBIENTES\n",
    "data_['1_AMBIENTE'] = (data_.ambientes>=1)&(data_.ambientes<2)\n",
    "data_['2_AMBIENTE'] = (data_.ambientes>=2)&(data_.ambientes<3)\n",
    "data_['3_AMBIENTE'] = (data_.ambientes>=3)&(data_.ambientes<4)\n",
    "data_['4_AMBIENTE'] = (data_.ambientes>=4)&(data_.ambientes<5)\n",
    "data_['5_AMBIENTE'] = (data_.ambientes>=5)&(data_.ambientes<6)\n",
    "data_['6_AMBIENTE'] = (data_.ambientes>=6)&(data_.ambientes<7)\n",
    "data_['7_AMBIENTE'] = (data_.ambientes>=7)&(data_.ambientes<8)\n",
    "\n",
    "data_[['1_AMBIENTE','2_AMBIENTE','3_AMBIENTE','4_AMBIENTE', '5_AMBIENTE','6_AMBIENTE','7_AMBIENTE']] = data_[['1_AMBIENTE','2_AMBIENTE','3_AMBIENTE','4_AMBIENTE', '5_AMBIENTE','6_AMBIENTE','7_AMBIENTE']].applymap(lambda x : 1 if (x) else 0)\n",
    "\n",
    "\n",
    "#GENERO DUMMYS TIPO DE PROPIEDAD \n",
    "data_['CASA'] = data_.property_type.str.contains('house')\n",
    "data_['PH'] =  data_.property_type.str.contains('PH')\n",
    "data_['DTO'] = data_.property_type.str.contains('apartment')\n",
    "data_[['CASA','PH','DTO']] = data_[['CASA','PH','DTO']].applymap(lambda x : 1 if x else 0)\n",
    "\n",
    "#ELIMINO REGISTROS NULOS DE VARIABLES A UTILIZAR EN EL MODELO\n",
    "data_=data_[data_.price_usd_per_m2.notnull()]\n",
    "data_=data_[data_.surface_total_in_m2.notnull()]\n",
    "data_=data_[data_.ambientes.notnull()]\n",
    "\n",
    "\n",
    "#GENERO DUMMYS DE BARRIOS\n",
    "\n",
    "#QUITO NULOS DE LA COLUMNA STATE_NAME\n",
    "data_ = data_[data.place_name.notnull()]\n",
    "\n",
    "\n",
    "#CREO LISTA DE BARRIOS \n",
    "barrios = data_[data_.state_name.str.contains('Capital')].place_name.unique()\n",
>>>>>>> 6b068bd8446a741602dfee3a35ab383e511a6a75
    "\n",
    "\n",
    "#GENERO DUMMYS\n",
    "for barrio in barrios:\n",
<<<<<<< HEAD
    "    indices_barrios = (data.index[data.place_name.str.contains(barrio)])\n",
    "    barrio = barrio.lower().replace(' ','_')\n",
    "    df = data\n",
=======
    "    indices_barrios = (data_.index[data_.place_name.str.contains(barrio)])\n",
    "    barrio = barrio.lower().replace(' ','_')\n",
    "    df = data_\n",
>>>>>>> 6b068bd8446a741602dfee3a35ab383e511a6a75
    "    df.place_name = df.place_name.apply(lambda x : x.lower().replace(' ','_'))\n",
    "    df[barrio] = df.place_name.str.contains(barrio)\n",
    "\n",
    "\n",
<<<<<<< HEAD
    "numero_barrios = len(data.place_name[data.state_name.str.contains('Capital')].unique())\n",
    "indices_dummys_barrios = data.shape[1]-numero_barrios\n",
    "\n",
    "#CREO EL DATAFRAME CON LAS DUMMYS DE BARRIOS\n",
    "dummys_barrios = data.iloc[:,indices_dummys_barrios:]\n",
=======
    "numero_barrios = len(data_.place_name[data_.state_name.str.contains('Capital')].unique())\n",
    "indices_dummys_barrios = data_.shape[1]-numero_barrios\n",
    "\n",
    "#CREO EL DATAFRAME CON LAS DUMMYS DE BARRIOS\n",
    "dummys_barrios = data_.iloc[:,indices_dummys_barrios:]\n",
>>>>>>> 6b068bd8446a741602dfee3a35ab383e511a6a75
    "\n",
    "\n",
    "dummys_barrios = dummys_barrios.applymap(lambda x : 1 if (x) else 0)\n",
    "\n",
    "#GENERO DUMMYS DE BARRIOS EN EL DATAFRAME\n",
<<<<<<< HEAD
    "data.iloc[:,indices_dummys_barrios:] = dummys_barrios"
   ]
  },
  {
   "cell_type": "code",
   "execution_count": 25,
   "metadata": {},
   "outputs": [],
   "source": []
  },
  {
   "cell_type": "code",
   "execution_count": null,
   "metadata": {},
   "outputs": [],
   "source": []
  },
  {
   "cell_type": "code",
   "execution_count": 28,
   "metadata": {},
   "outputs": [],
   "source": [
    "nueva_matriz.to_csv('nueva_matriz.csv',sep='|')"
   ]
  },
  {
   "cell_type": "code",
   "execution_count": 125,
   "metadata": {},
   "outputs": [],
   "source": [
    "nueva_matriz = nueva_matriz.loc[nueva_matriz.localidad.str.contains('capital')]"
   ]
  },
  {
   "cell_type": "code",
   "execution_count": 126,
   "metadata": {},
   "outputs": [],
   "source": [
    "#SKLEARN\n",
    "nuevos_feactures = matriz.iloc[:,14:17].applymap(lambda x: 1 if x>0 else 0)\n",
    "#GENERO VARIABLES INDEPENDIENTES\n"
   ]
  },
  {
   "cell_type": "code",
   "execution_count": 127,
   "metadata": {},
   "outputs": [],
   "source": [
    "df1 = pd.concat([nueva_matriz['superficie_total'],nuevos_feactures],axis=1)\n"
   ]
  },
  {
   "cell_type": "code",
   "execution_count": 128,
   "metadata": {},
   "outputs": [],
   "source": [
    "x_feactures=nueva_matriz.iloc[:,17:]"
   ]
  },
  {
   "cell_type": "code",
   "execution_count": 129,
   "metadata": {},
   "outputs": [],
   "source": [
    "\n",
    "xs = pd.concat([df1,x_feactures],axis=1)\n"
   ]
  },
  {
   "cell_type": "code",
   "execution_count": null,
   "metadata": {},
   "outputs": [],
   "source": []
  },
  {
   "cell_type": "code",
   "execution_count": 130,
   "metadata": {},
   "outputs": [],
   "source": [
    "#GENERO VARIABLE DEPENDIENTE\n",
    "y = nueva_matriz.precio_m2\n"
   ]
  },
  {
   "cell_type": "code",
   "execution_count": null,
   "metadata": {},
   "outputs": [],
   "source": []
  },
  {
   "cell_type": "code",
   "execution_count": 132,
   "metadata": {},
   "outputs": [
    {
     "data": {
      "text/plain": [
       "(11946, 76)"
      ]
     },
     "execution_count": 132,
     "metadata": {},
     "output_type": "execute_result"
    }
   ],
   "source": [
    "xs.shape"
   ]
  },
  {
   "cell_type": "code",
   "execution_count": 133,
   "metadata": {},
   "outputs": [
    {
     "name": "stderr",
     "output_type": "stream",
     "text": [
      "/opt/conda/lib/python3.6/site-packages/ipykernel_launcher.py:4: FutureWarning: Method .as_matrix will be removed in a future version. Use .values instead.\n",
      "  after removing the cwd from sys.path.\n",
      "/opt/conda/lib/python3.6/site-packages/ipykernel_launcher.py:8: FutureWarning: Method .as_matrix will be removed in a future version. Use .values instead.\n",
      "  \n"
     ]
    }
   ],
   "source": [
    "\n",
    "\n",
=======
    "data_.iloc[:,indices_dummys_barrios:] = dummys_barrios\n",
>>>>>>> 6b068bd8446a741602dfee3a35ab383e511a6a75
    "\n",
    "\n",
    "\n"
   ]
<<<<<<< HEAD
  },
  {
   "cell_type": "code",
   "execution_count": 134,
   "metadata": {},
   "outputs": [],
   "source": [
    "#IMPORTAR LIBRERIAS DE SKLEARN\n",
    "from sklearn import linear_model\n",
    "from sklearn.model_selection import train_test_split\n"
   ]
  },
  {
   "cell_type": "code",
   "execution_count": 135,
   "metadata": {},
   "outputs": [],
   "source": [
    "#PARTICIONAR DATOS DE ENTRENAMIENTO Y TESTING\n",
    "x3_train, x3_test, y3_train, y3_test = train_test_split(xs, y, test_size=0.4)"
   ]
  },
  {
   "cell_type": "code",
   "execution_count": 136,
   "metadata": {},
   "outputs": [
    {
     "data": {
      "text/plain": [
       "LinearRegression(copy_X=True, fit_intercept=True, n_jobs=1, normalize=False)"
      ]
     },
     "execution_count": 136,
     "metadata": {},
     "output_type": "execute_result"
    }
   ],
   "source": [
    "#FIT \n",
    "modelo = linear_model.LinearRegression()\n",
    "modelo.fit(x3_train,y3_train)"
   ]
  },
  {
   "cell_type": "code",
   "execution_count": 137,
   "metadata": {},
   "outputs": [],
   "source": [
    "#PREDECIR DATOS \"Y\" DE \"X\" TEST \n",
    "y3_predict = modelo.predict(x3_test)"
   ]
  },
  {
   "cell_type": "code",
   "execution_count": 138,
   "metadata": {},
   "outputs": [],
   "source": [
    "#PENDIENTES\n",
    "pendientes = modelo.coef_\n",
    "#ORDENADA \n",
    "ordenada = modelo.intercept_"
   ]
  },
  {
   "cell_type": "code",
   "execution_count": 139,
   "metadata": {},
   "outputs": [
    {
     "data": {
      "text/plain": [
       "'EL RESULTADO DEL MODELO ES DE 0.47829357413766815'"
      ]
     },
     "execution_count": 139,
     "metadata": {},
     "output_type": "execute_result"
    }
   ],
   "source": [
    "#R2\n",
    "'EL RESULTADO DEL MODELO ES DE {}'.format(modelo.score(x3_train,y3_train))"
   ]
  },
  {
   "cell_type": "code",
   "execution_count": null,
   "metadata": {},
   "outputs": [],
   "source": []
  },
  {
   "cell_type": "code",
   "execution_count": null,
   "metadata": {},
   "outputs": [],
   "source": []
  },
  {
   "cell_type": "code",
   "execution_count": 141,
   "metadata": {},
   "outputs": [
    {
     "data": {
      "image/png": "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\n",
      "text/plain": [
       "<Figure size 432x288 with 1 Axes>"
      ]
     },
     "metadata": {},
     "output_type": "display_data"
    }
   ],
   "source": [
    "import matplotlib.pyplot as plt\n",
    "\n",
    "#GENERO EJE X -> SUPERFICIE TOTAL\n",
    "x1 = x3_test[:,0]\n",
    "\n",
    "#GENERO EJE Y -> PRECIO M2 DE TEST\n",
    "x2 = y3_test\n",
    "\n",
    "# EJE Y -> PRECIO M2 PREDICHO\n",
    "x3 = y3_predict\n",
    "\n",
    "\n",
    "#PLOT\n",
    "plt.scatter(x1,x2,label='test modelo', color='blue')\n",
    "plt.scatter(x1,x3,label='prediccion modelo', color='red')\n",
    "plt.title('grafico modelo')\n",
    "plt.show()"
   ]
  },
  {
   "cell_type": "code",
   "execution_count": null,
   "metadata": {},
   "outputs": [],
   "source": []
  },
  {
   "cell_type": "code",
   "execution_count": null,
   "metadata": {},
   "outputs": [],
   "source": []
  },
  {
   "cell_type": "code",
   "execution_count": null,
   "metadata": {},
   "outputs": [],
   "source": []
  },
  {
   "cell_type": "code",
   "execution_count": null,
   "metadata": {},
   "outputs": [],
   "source": []
  },
  {
   "cell_type": "code",
   "execution_count": 142,
   "metadata": {},
   "outputs": [],
   "source": [
    "%matplotlib inline\n",
    "\n",
    "from matplotlib import pyplot as plt\n",
    "plt.rcParams['figure.figsize'] = 10, 10\n",
    "\n",
    "import numpy as np\n",
    "import pandas as pd\n",
    "from scipy import stats\n",
    "import seaborn as sns\n",
    "from sklearn import datasets\n",
    "from sklearn.model_selection import train_test_split, KFold, cross_val_score\n",
    "from sklearn.linear_model import LinearRegression, Lasso, LassoCV, Ridge, RidgeCV\n",
    "from sklearn.preprocessing import PolynomialFeatures, StandardScaler\n",
    "from sklearn.metrics import mean_squared_error, r2_score"
   ]
  },
  {
   "cell_type": "code",
   "execution_count": 143,
   "metadata": {},
   "outputs": [
    {
     "name": "stdout",
     "output_type": "stream",
     "text": [
      "(8362, 76) (8362,)\n",
      "(3584, 76) (3584,)\n"
     ]
    }
   ],
   "source": [
    "X_train, X_test, y_train, y_test = train_test_split(xs, y, test_size=0.30, random_state=53)\n",
    "print(X_train.shape, y_train.shape)\n",
    "print(X_test.shape, y_test.shape)"
   ]
  },
  {
   "cell_type": "code",
   "execution_count": 144,
   "metadata": {},
   "outputs": [],
   "source": [
    "# Generamos un grid de $\\alpha$ para probar e instanciamos un particionador del Training Set \n",
    "# en K partes para realizar la validación cruzada\n",
    "\n",
    "al_ridge = np.linspace(0.001, 0.3, 300)\n",
    "al_lasso = np.linspace(0.1, 0.5, 300)\n",
    "kf = KFold(n_splits=5, shuffle=True, random_state=12)\n",
    "\n",
    "# Instanciamos los modelos\n",
    "\n",
    "lm = LinearRegression()\n",
    "lm_ridge_cv= RidgeCV(alphas=al_ridge, cv=kf, normalize=False)\n",
    "lm_lasso_cv = LassoCV(alphas=al_lasso, cv=kf, normalize=False)"
   ]
  },
  {
   "cell_type": "code",
   "execution_count": 145,
   "metadata": {},
   "outputs": [
    {
     "data": {
      "text/plain": [
       "LassoCV(alphas=array([0.1    , 0.10134, ..., 0.49866, 0.5    ]), copy_X=True,\n",
       "    cv=KFold(n_splits=5, random_state=12, shuffle=True), eps=0.001,\n",
       "    fit_intercept=True, max_iter=1000, n_alphas=100, n_jobs=1,\n",
       "    normalize=False, positive=False, precompute='auto', random_state=None,\n",
       "    selection='cyclic', tol=0.0001, verbose=False)"
      ]
     },
     "execution_count": 145,
     "metadata": {},
     "output_type": "execute_result"
    }
   ],
   "source": [
    "# Hacemos los fits respectivos\n",
    "lm.fit(X_train, y_train)\n",
    "lm_ridge_cv.fit(X_train, y_train)\n",
    "lm_lasso_cv.fit(X_train, y_train)"
   ]
  },
  {
   "cell_type": "code",
   "execution_count": 146,
   "metadata": {},
   "outputs": [
    {
     "name": "stdout",
     "output_type": "stream",
     "text": [
      " Score Train Lineal: 0.49\n",
      " Score Train Ridge : 0.49\n",
      " Score Train Lasso : 0.49\n",
      "\n",
      " Train RMSE lineal   : 2479.69 \n",
      " Train RMSE Ridge    : 2479.69 \n",
      " Train RMSE Lasso    : 2479.86 \n",
      "\n"
     ]
    }
   ],
   "source": [
    "# Calculamos el R2\n",
    "\n",
    "print(\" Score Train Lineal: %.2f\\n\" % lm.score(X_train, y_train),\n",
    "      \"Score Train Ridge : %.2f\\n\" % lm_ridge_cv.score(X_train, y_train),\n",
    "      \"Score Train Lasso : %.2f\\n\" %  lm_lasso_cv.score(X_train, y_train))\n",
    "\n",
    "# Calculamos el RMSE\n",
    "\n",
    "y_pred_tr_lm = lm.predict(X_train)\n",
    "y_pred_tr_ridge = lm_ridge_cv.predict(X_train)\n",
    "y_pred_tr_lasso = lm_lasso_cv.predict(X_train)\n",
    "\n",
    "rmse = lambda y, y_pred: np.sqrt(mean_squared_error(y, y_pred))\n",
    "\n",
    "print(\" Train RMSE lineal   : %.2f \\n\" % rmse(y_train,y_pred_tr_lm),\n",
    "      \"Train RMSE Ridge    : %.2f \\n\" % rmse(y_train,y_pred_tr_ridge),\n",
    "      \"Train RMSE Lasso    : %.2f \\n\" % rmse(y_train,y_pred_tr_lasso))"
   ]
  },
  {
   "cell_type": "code",
   "execution_count": 147,
   "metadata": {},
   "outputs": [
    {
     "name": "stdout",
     "output_type": "stream",
     "text": [
      " Score Test Lineal: 0.41\n",
      " Score Test Ridge : 0.41\n",
      " Score Test Lasso : 0.41\n",
      "\n",
      " Test RMSE lineal= 2693.46\n",
      " Test RMSE Ridge = 2693.23\n",
      " Test RMSE Lasso = 2693.04\n"
     ]
    }
   ],
   "source": [
    "# Hacemos las predicciones sobre la matriz de predictores del Test Set\n",
    "\n",
    "y_pred_lm = lm.predict(X_test)\n",
    "y_pred_ridge = lm_ridge_cv.predict(X_test)\n",
    "y_pred_lasso = lm_lasso_cv.predict(X_test)\n",
    "\n",
    "\n",
    "print(\" Score Test Lineal: %.2f\\n\" % lm.score(X_test, y_test),\n",
    "      \"Score Test Ridge : %.2f\\n\" % lm_ridge_cv.score(X_test, y_test),\n",
    "      \"Score Test Lasso : %.2f\\n\" %  lm_lasso_cv.score(X_test, y_test))\n",
    "\n",
    "# Testeo final del modelo sobre Test Set\n",
    "\n",
    "print(\" Test RMSE lineal= %.2f\\n\" % rmse(y_test, y_pred_lm),\n",
    "      \"Test RMSE Ridge = %.2f\\n\" %  rmse(y_test, y_pred_ridge),\n",
    "      \"Test RMSE Lasso = %.2f\" %  rmse(y_test, y_pred_lasso))"
   ]
  },
  {
   "cell_type": "code",
   "execution_count": 148,
   "metadata": {},
   "outputs": [
    {
     "data": {
      "image/png": "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\n",
      "text/plain": [
       "<Figure size 720x720 with 1 Axes>"
      ]
     },
     "metadata": {},
     "output_type": "display_data"
    }
   ],
   "source": [
    "import matplotlib.pyplot as plt\n",
    "\n",
    "#GENERO EJE X -> SUPERFICIE TOTAL\n",
    "x1 = X_test[:,0]\n",
    "\n",
    "#GENERO EJE Y -> PRECIO M2 DE TEST\n",
    "x2 = y_test\n",
    "\n",
    "# EJE Y -> PRECIO M2 PREDICHO\n",
    "x3 = y_pred_lm\n",
    "\n",
    "\n",
    "#PLOT\n",
    "plt.scatter(x1,x2,label='test modelo', color='blue')\n",
    "plt.scatter(x1,x3,label='prediccion modelo', color='red')\n",
    "plt.title('grafico modelo')\n",
    "plt.show()"
   ]
  },
  {
   "cell_type": "code",
   "execution_count": 149,
   "metadata": {},
   "outputs": [
    {
     "data": {
      "image/png": "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\n",
      "text/plain": [
       "<Figure size 720x720 with 1 Axes>"
      ]
     },
     "metadata": {},
     "output_type": "display_data"
    }
   ],
   "source": [
    "import matplotlib.pyplot as plt\n",
    "\n",
    "#GENERO EJE X -> SUPERFICIE TOTAL\n",
    "x1 = X_test[:,0]\n",
    "\n",
    "#GENERO EJE Y -> PRECIO M2 DE TEST\n",
    "x2 = y_test\n",
    "\n",
    "# EJE Y -> PRECIO M2 PREDICHO\n",
    "x3 = y_pred_ridge\n",
    "\n",
    "\n",
    "#PLOT\n",
    "plt.scatter(x1,x2,label='test modelo', color='blue')\n",
    "plt.scatter(x1,x3,label='prediccion modelo', color='red')\n",
    "plt.title('grafico modelo')\n",
    "plt.show()"
   ]
  },
  {
   "cell_type": "code",
   "execution_count": 150,
   "metadata": {},
   "outputs": [
    {
     "data": {
      "image/png": "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\n",
      "text/plain": [
       "<Figure size 720x720 with 1 Axes>"
      ]
     },
     "metadata": {},
     "output_type": "display_data"
    }
   ],
   "source": [
    "import matplotlib.pyplot as plt\n",
    "\n",
    "#GENERO EJE X -> SUPERFICIE TOTAL\n",
    "x1 = X_test[:,0]\n",
    "\n",
    "#GENERO EJE Y -> PRECIO M2 DE TEST\n",
    "x2 = y_test\n",
    "\n",
    "# EJE Y -> PRECIO M2 PREDICHO\n",
    "x3 = y_pred_lasso\n",
    "\n",
    "\n",
    "#PLOT\n",
    "plt.scatter(x1,x2,label='test modelo', color='blue')\n",
    "plt.scatter(x1,x3,label='prediccion modelo', color='red')\n",
    "plt.title('grafico modelo')\n",
    "plt.show()"
   ]
  },
  {
   "cell_type": "code",
   "execution_count": null,
   "metadata": {},
   "outputs": [],
   "source": []
=======
>>>>>>> 6b068bd8446a741602dfee3a35ab383e511a6a75
  }
 ],
 "metadata": {
  "anaconda-cloud": {},
  "kernelspec": {
   "display_name": "Python 3",
   "language": "python",
   "name": "python3"
  },
  "language_info": {
   "codemirror_mode": {
    "name": "ipython",
    "version": 3
   },
   "file_extension": ".py",
   "mimetype": "text/x-python",
   "name": "python",
   "nbconvert_exporter": "python",
   "pygments_lexer": "ipython3",
<<<<<<< HEAD
   "version": "3.6.6"
=======
   "version": "3.7.6"
>>>>>>> 6b068bd8446a741602dfee3a35ab383e511a6a75
  }
 },
 "nbformat": 4,
 "nbformat_minor": 1
}
