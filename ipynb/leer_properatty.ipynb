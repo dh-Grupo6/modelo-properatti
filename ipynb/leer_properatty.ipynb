{
 "cells": [
  {
   "cell_type": "code",
   "execution_count": 4,
   "metadata": {},
   "outputs": [],
   "source": [
    "import pandas as pd\n",
    "import numpy as np\n"
   ]
  },
  {
   "cell_type": "code",
   "execution_count": 213,
   "metadata": {},
   "outputs": [],
   "source": [
    "data = pd.read_csv('/home/DS-DH/notebooks/digitalHouse/properatti.csv')"
   ]
  },
  {
   "cell_type": "code",
   "execution_count": 203,
   "metadata": {},
   "outputs": [],
   "source": [
    "matriz = pd.read_csv('/home/DS-DH/notebooks/digitalHouse/matriz.csv',sep='|')"
   ]
  },
  {
   "cell_type": "code",
   "execution_count": 134,
   "metadata": {},
   "outputs": [],
   "source": [
    "matriz = matriz.loc[(matriz.localidad.str.contains('capital'))]"
   ]
  },
  {
   "cell_type": "code",
   "execution_count": 214,
   "metadata": {},
   "outputs": [],
   "source": [
    "data_= data"
   ]
  },
  {
   "cell_type": "code",
   "execution_count": 215,
   "metadata": {},
   "outputs": [
    {
     "ename": "AttributeError",
     "evalue": "'DataFrame' object has no attribute 'localidad'",
     "output_type": "error",
     "traceback": [
      "\u001b[0;31m\u001b[0m",
      "\u001b[0;31mAttributeError\u001b[0mTraceback (most recent call last)",
      "\u001b[0;32m<ipython-input-215-ed143927fe6c>\u001b[0m in \u001b[0;36m<module>\u001b[0;34m()\u001b[0m\n\u001b[0;32m----> 1\u001b[0;31m \u001b[0mdata_\u001b[0m \u001b[0;34m=\u001b[0m \u001b[0mdata_\u001b[0m\u001b[0;34m[\u001b[0m\u001b[0mdata_\u001b[0m\u001b[0;34m.\u001b[0m\u001b[0mlocalidad\u001b[0m\u001b[0;34m.\u001b[0m\u001b[0mstr\u001b[0m\u001b[0;34m.\u001b[0m\u001b[0mcontains\u001b[0m\u001b[0;34m(\u001b[0m\u001b[0;34m'capital'\u001b[0m\u001b[0;34m)\u001b[0m\u001b[0;34m]\u001b[0m\u001b[0;34m\u001b[0m\u001b[0m\n\u001b[0m",
      "\u001b[0;32m/opt/conda/lib/python3.6/site-packages/pandas/core/generic.py\u001b[0m in \u001b[0;36m__getattr__\u001b[0;34m(self, name)\u001b[0m\n\u001b[1;32m   4374\u001b[0m             \u001b[0;32mif\u001b[0m \u001b[0mself\u001b[0m\u001b[0;34m.\u001b[0m\u001b[0m_info_axis\u001b[0m\u001b[0;34m.\u001b[0m\u001b[0m_can_hold_identifiers_and_holds_name\u001b[0m\u001b[0;34m(\u001b[0m\u001b[0mname\u001b[0m\u001b[0;34m)\u001b[0m\u001b[0;34m:\u001b[0m\u001b[0;34m\u001b[0m\u001b[0m\n\u001b[1;32m   4375\u001b[0m                 \u001b[0;32mreturn\u001b[0m \u001b[0mself\u001b[0m\u001b[0;34m[\u001b[0m\u001b[0mname\u001b[0m\u001b[0;34m]\u001b[0m\u001b[0;34m\u001b[0m\u001b[0m\n\u001b[0;32m-> 4376\u001b[0;31m             \u001b[0;32mreturn\u001b[0m \u001b[0mobject\u001b[0m\u001b[0;34m.\u001b[0m\u001b[0m__getattribute__\u001b[0m\u001b[0;34m(\u001b[0m\u001b[0mself\u001b[0m\u001b[0;34m,\u001b[0m \u001b[0mname\u001b[0m\u001b[0;34m)\u001b[0m\u001b[0;34m\u001b[0m\u001b[0m\n\u001b[0m\u001b[1;32m   4377\u001b[0m \u001b[0;34m\u001b[0m\u001b[0m\n\u001b[1;32m   4378\u001b[0m     \u001b[0;32mdef\u001b[0m \u001b[0m__setattr__\u001b[0m\u001b[0;34m(\u001b[0m\u001b[0mself\u001b[0m\u001b[0;34m,\u001b[0m \u001b[0mname\u001b[0m\u001b[0;34m,\u001b[0m \u001b[0mvalue\u001b[0m\u001b[0;34m)\u001b[0m\u001b[0;34m:\u001b[0m\u001b[0;34m\u001b[0m\u001b[0m\n",
      "\u001b[0;31mAttributeError\u001b[0m: 'DataFrame' object has no attribute 'localidad'"
     ]
    }
   ],
   "source": [
    "data_ = data_[data_.localidad.str.contains('capital')]"
   ]
  },
  {
   "cell_type": "code",
   "execution_count": 262,
   "metadata": {},
   "outputs": [],
   "source": [
    "data_ = data_[data_.superficie_total<4000]"
   ]
  },
  {
   "cell_type": "code",
   "execution_count": 206,
   "metadata": {},
   "outputs": [],
   "source": [
    "data_ = data_[data_.propiedad.str.contains('apartment')]"
   ]
  },
  {
   "cell_type": "code",
   "execution_count": null,
   "metadata": {},
   "outputs": [],
   "source": []
  },
  {
   "cell_type": "code",
   "execution_count": 212,
   "metadata": {},
   "outputs": [
    {
     "data": {
      "text/plain": [
       "Unnamed: 0                              7\n",
       "id                                      7\n",
       "tipo                                 sell\n",
       "propiedad                       apartment\n",
       "id_localizacion               3.43608e+06\n",
       "pais                            argentina\n",
       "localidad                 capital federal\n",
       "barrio                           belgrano\n",
       "barrio_2b                             NaN\n",
       "latitud                          -34.5599\n",
       "longitud                         -58.4434\n",
       "moneda                                usd\n",
       "ambientes                               1\n",
       "ambientes_ceros                         1\n",
       "nuevos_ambientes                        1\n",
       "superficie_total                       45\n",
       "superficie_cubierta_m2                 40\n",
       "precio_aprox_usd                   138000\n",
       "precio_m2                         3066.67\n",
       "Name: 7, dtype: object"
      ]
     },
     "execution_count": 212,
     "metadata": {},
     "output_type": "execute_result"
    }
   ],
   "source": [
    "data_.iloc[454]"
   ]
  },
  {
   "cell_type": "code",
   "execution_count": null,
   "metadata": {},
   "outputs": [],
   "source": []
  },
  {
   "cell_type": "code",
   "execution_count": 202,
   "metadata": {},
   "outputs": [],
   "source": [
    "def outliers(p_data):\n",
    "\n",
    "\n",
    "    data_modificada = p_data\n",
    "\n",
    "    # GENERO CULUMNA DE MEDIAS AGRUPANDO POR PCIA, BARRIO, TIPO DE PROPIEDAD\n",
    "    data_modificada ['media_supTotal'] = data_modificada.groupby(['localidad','barrio','propiedad'])['superficie_total'].transform('mean')\n",
    "    data_modificada ['media_supCubierta'] = data_modificada.groupby(['localidad','barrio','propiedad'])['superficie_cubierta_m2'].transform('mean')\n",
    "    data_modificada ['media_PrecioM2'] = data_modificada.groupby(['localidad','barrio','propiedad'])['precio_m2'].transform('mean')\n",
    "    data_modificada ['media_PrecioAproxUSD'] = data_modificada.groupby(['localidad','barrio','propiedad'])['precio_aprox_usd'].transform('mean')\n",
    "\n",
    "\n",
    "    #GENERO COLUMNA DE STD AGRUPANDO POR PCIA, BARRIO, TIPO DE PROPIEDAD\n",
    "    data_modificada ['std_supTotal'] = data_modificada.groupby(['localidad','barrio','propiedad'])['superficie_total'].transform('std')\n",
    "    data_modificada ['std_supCubierta'] = data_modificada.groupby(['localidad','barrio','propiedad'])['superficie_cubierta_m2'].transform('std')\n",
    "    data_modificada ['std_PrecioM2'] = data_modificada.groupby(['localidad','barrio','propiedad'])['precio_m2'].transform('std')\n",
    "    data_modificada ['std_PrecioAproxUSD'] = data_modificada.groupby(['localidad','barrio','propiedad'])['precio_aprox_usd'].transform('std')\n",
    "\n",
    "\n",
    "    #GENERO COLUMNA CON LA FORMULA DE CHEUVENET PARA EL CALCULO DE OUTLIERS\n",
    "    data_modificada ['supTotal_criterio_cheuvenet'] = (abs(data_modificada.superficie_total-data_modificada.media_supTotal))/(data_modificada.std_supTotal)\n",
    "    data_modificada ['supCubierta_criterio_cheuvenet'] = (abs(data_modificada.superficie_cubierta_m2-data_modificada.media_supCubierta))/(data_modificada.std_supCubierta)\n",
    "    data_modificada ['priceM2_criterio_cheuvenet'] = (abs(data_modificada.precio_m2-data_modificada.media_PrecioM2))/(data_modificada.std_PrecioM2)\n",
    "    data_modificada ['priceAprox_criterio_cheuvenet'] = (abs(data_modificada.precio_aprox_usd-data_modificada.media_PrecioAproxUSD))/(data_modificada.std_PrecioAproxUSD)\n",
    "\n",
    "    \n",
    "    \n",
    "    #  % OUTLIERS SUPERFICIES TOTALES\n",
    "    data_modificada.loc[data_modificada.supTotal_criterio_cheuvenet>2].shape[0]/data_modificada.shape[0]    \n",
    "    data_modificada.superficie_total.loc[data_modificada.supTotal_criterio_cheuvenet>2] = np.nan\n",
    "    \n",
    "    \n",
    "    #  % OUTLIERS SUPERFICIES CUBIERTAS\n",
    "    data_modificada.loc[data_modificada.supCubierta_criterio_cheuvenet>2].shape[0]/data_modificada.shape[0] \n",
    "    data_modificada.superficie_cubierta_m2.loc[data_modificada.supCubierta_criterio_cheuvenet>2] = np.nan\n",
    "    \n",
    "    \n",
    "    #  % OUTLIERS DE PRECIOS APROX USD\n",
    "    data_modificada.precio_aprox_usd.loc[data_modificada.priceAprox_criterio_cheuvenet>2].shape[0]/data_modificada.shape[0]   \n",
    "    data_modificada.precio_aprox_usd.loc[data_modificada.priceAprox_criterio_cheuvenet>2] = np.nan\n",
    "    \n",
    "    #  % OUTLIERS DE PRECIOS POR M2\n",
    "    data_modificada.loc[data_modificada.priceM2_criterio_cheuvenet>2].shape[0]/data_modificada.shape[0]\n",
    "    data_modificada.precio_m2.loc[data_modificada.priceM2_criterio_cheuvenet>2] = np.nan\n",
    "    \n",
    "    \n",
    "    \n",
    "    return data_modificada "
   ]
  },
  {
   "cell_type": "code",
   "execution_count": 179,
   "metadata": {},
   "outputs": [
    {
     "name": "stderr",
     "output_type": "stream",
     "text": [
      "/opt/conda/lib/python3.6/site-packages/pandas/core/indexing.py:189: SettingWithCopyWarning: \n",
      "A value is trying to be set on a copy of a slice from a DataFrame\n",
      "\n",
      "See the caveats in the documentation: http://pandas.pydata.org/pandas-docs/stable/indexing.html#indexing-view-versus-copy\n",
      "  self._setitem_with_indexer(indexer, value)\n"
     ]
    }
   ],
   "source": [
    "data_ = outliers(data_)"
   ]
  },
  {
   "cell_type": "code",
   "execution_count": null,
   "metadata": {},
   "outputs": [],
   "source": []
  },
  {
   "cell_type": "code",
   "execution_count": 180,
   "metadata": {},
   "outputs": [],
   "source": [
    "#GENERO AMBIENTES DE MATRIZ\n",
    "#data_['ambientes']=data_.merge(matriz,how='left', left_index=True, right_index=True)['ambientes']\n",
    "\n",
    "#GENERO DUMMYS DE AMBIENTES\n",
    "data_['1_AMBIENTE'] = (data_.ambientes>=1)&(data_.ambientes<2)\n",
    "data_['2_AMBIENTE'] = (data_.ambientes>=2)&(data_.ambientes<3)\n",
    "data_['3_AMBIENTE'] = (data_.ambientes>=3)&(data_.ambientes<4)\n",
    "data_['4_AMBIENTE'] = (data_.ambientes>=4)&(data_.ambientes<5)\n",
    "data_['5_AMBIENTE'] = (data_.ambientes>=5)&(data_.ambientes<6)\n",
    "data_['6_AMBIENTE'] = (data_.ambientes>=6)&(data_.ambientes<7)\n",
    "data_['7_AMBIENTE'] = (data_.ambientes>=7)&(data_.ambientes<8)\n",
    "\n",
    "\n",
    "data_[['1_AMBIENTE','2_AMBIENTE','3_AMBIENTE','4_AMBIENTE', '5_AMBIENTE','6_AMBIENTE','7_AMBIENTE']] = data_[['1_AMBIENTE','2_AMBIENTE','3_AMBIENTE','4_AMBIENTE', '5_AMBIENTE','6_AMBIENTE','7_AMBIENTE']].applymap(lambda x : 1 if (x) else 0)\n",
    "\n",
    "\n",
    "#GENERO DUMMYS TIPO DE PROPIEDAD \n",
    "data_['CASA'] = data_.propiedad.str.contains('house')\n",
    "data_['PH'] =  data_.propiedad.str.contains('PH')\n",
    "data_['DTO'] = data_.propiedad.str.contains('apartment')\n",
    "data_[['CASA','PH','DTO']] = data_[['CASA','PH','DTO']].applymap(lambda x : 1 if x else 0)\n",
    "\n",
    "\n",
    "#ELIMINO REGISTROS NULOS DE VARIABLES A UTILIZAR EN EL MODELO\n",
    "data_=data_[data_.precio_m2.notnull()]\n",
    "data_=data_[data_.superficie_total.notnull()]\n",
    "data_=data_[data_.ambientes.notnull()]\n",
    "\n",
    "\n",
    "#GENERO DUMMYS DE BARRIOS\n",
    "\n",
    "#QUITO NULOS DE LA COLUMNA STATE_NAME\n",
    "data_ = data_[data_.barrio.notnull()]\n",
    "\n",
    "\n",
    "#CREO LISTA DE BARRIOS \n",
    "barrios = data_[data_.localidad.str.contains('capital')].barrio.unique()\n",
    "\n",
    "\n",
    "#GENERO DUMMYS\n",
    "for barrio in barrios:\n",
    "    indices_barrios = (data_.index[data_.barrio.str.contains(barrio)])\n",
    "    barrio = barrio.lower().replace(' ','_')\n",
    "    df = data_\n",
    "    df.barrio = df.barrio.apply(lambda x : x.lower().replace(' ','_'))\n",
    "    df[barrio] = df.barrio.str.contains(barrio)\n",
    "\n",
    "\n",
    "\n",
    "numero_barrios = len(data_.barrio[data_.localidad.str.contains('capital')].unique())\n",
    "indices_dummys_barrios = data_.shape[1]-numero_barrios\n",
    "\n",
    "#CREO EL DATAFRAME CON LAS DUMMYS DE BARRIOS\n",
    "dummys_barrios = data_.iloc[:,indices_dummys_barrios:]\n",
    "\n",
    "\n",
    "dummys_barrios = dummys_barrios.applymap(lambda x : 1 if (x) else 0)\n",
    "\n",
    "\n",
    "#GENERO DUMMYS DE BARRIOS EN EL DATAFRAME\n",
    "data_.iloc[:,indices_dummys_barrios:] = dummys_barrios\n"
   ]
  },
  {
   "cell_type": "code",
   "execution_count": 401,
   "metadata": {},
   "outputs": [],
   "source": [
    "data_ = data_[data_.localidad.str.contains('capital')]"
   ]
  },
  {
   "cell_type": "code",
   "execution_count": 155,
   "metadata": {},
   "outputs": [
    {
     "data": {
      "text/plain": [
       "(12347, 100)"
      ]
     },
     "execution_count": 155,
     "metadata": {},
     "output_type": "execute_result"
    }
   ],
   "source": [
    "data_.shape"
   ]
  },
  {
   "cell_type": "code",
   "execution_count": 3,
   "metadata": {},
   "outputs": [
    {
     "ename": "NameError",
     "evalue": "name 'xs' is not defined",
     "output_type": "error",
     "traceback": [
      "\u001b[0;31m\u001b[0m",
      "\u001b[0;31mNameError\u001b[0mTraceback (most recent call last)",
      "\u001b[0;32m<ipython-input-3-6ac47325ab89>\u001b[0m in \u001b[0;36m<module>\u001b[0;34m()\u001b[0m\n\u001b[0;32m----> 1\u001b[0;31m \u001b[0mxs\u001b[0m\u001b[0;34m\u001b[0m\u001b[0m\n\u001b[0m",
      "\u001b[0;31mNameError\u001b[0m: name 'xs' is not defined"
     ]
    }
   ],
   "source": [
    "xs"
   ]
  },
  {
   "cell_type": "code",
   "execution_count": 181,
   "metadata": {},
   "outputs": [],
   "source": [
    "x_feactures = data_.iloc[:,31:]"
   ]
  },
  {
   "cell_type": "code",
   "execution_count": 109,
   "metadata": {},
   "outputs": [
    {
     "data": {
      "text/plain": [
       "(12869, 102)"
      ]
     },
     "execution_count": 109,
     "metadata": {},
     "output_type": "execute_result"
    }
   ],
   "source": []
  },
  {
   "cell_type": "code",
   "execution_count": 182,
   "metadata": {},
   "outputs": [],
   "source": [
    "df1 = data_['superficie_total']"
   ]
  },
  {
   "cell_type": "code",
   "execution_count": 183,
   "metadata": {},
   "outputs": [],
   "source": [
    "xs = pd.concat([df1,x_feactures],axis=1)"
   ]
  },
  {
   "cell_type": "code",
   "execution_count": null,
   "metadata": {},
   "outputs": [],
   "source": []
  },
  {
   "cell_type": "code",
   "execution_count": null,
   "metadata": {},
   "outputs": [],
   "source": []
  },
  {
   "cell_type": "code",
   "execution_count": 148,
   "metadata": {},
   "outputs": [],
   "source": [
    "#SKLEARN\n",
    "\n",
    "#GENERO VARIABLES INDEPENDIENTES\n",
    "x_feactures = data_.iloc[:,38:][(data_.superficie_total<50)&(data_.precio_m2<35000)]\n",
    "df1 = data_['superficie_total'][(data_.superficie_total<50)&(data_.precio_m2<35000)]\n",
    "xs = pd.concat([df1,x_feactures],axis=1)\n"
   ]
  },
  {
   "cell_type": "code",
   "execution_count": 184,
   "metadata": {},
   "outputs": [],
   "source": [
    "\n",
    "#GENERO VARIABLE DEPENDIENTE\n",
    "y = data_.precio_m2"
   ]
  },
  {
   "cell_type": "code",
   "execution_count": 153,
   "metadata": {},
   "outputs": [
    {
     "data": {
      "text/plain": [
       "(12347,)"
      ]
     },
     "execution_count": 153,
     "metadata": {},
     "output_type": "execute_result"
    }
   ],
   "source": [
    "y.shape"
   ]
  },
  {
   "cell_type": "code",
   "execution_count": 185,
   "metadata": {},
   "outputs": [
    {
     "name": "stderr",
     "output_type": "stream",
     "text": [
      "/opt/conda/lib/python3.6/site-packages/ipykernel_launcher.py:2: FutureWarning: Method .as_matrix will be removed in a future version. Use .values instead.\n",
      "  \n",
      "/opt/conda/lib/python3.6/site-packages/ipykernel_launcher.py:6: FutureWarning: Method .as_matrix will be removed in a future version. Use .values instead.\n",
      "  \n"
     ]
    }
   ],
   "source": [
    "#TRANSFORMO VARIABLES INDEPENDIENTES EN FORMATO MATRIZ\n",
    "xs = xs.as_matrix()\n",
    "\n",
    "\n",
    "#TRANSFORMO VARIABLE DEPENDIENTE EN FORMATO MATRIZ\n",
    "y = y.as_matrix()\n"
   ]
  },
  {
   "cell_type": "code",
   "execution_count": 186,
   "metadata": {},
   "outputs": [],
   "source": [
    "#IMPORTAR LIBRERIAS DE SKLEARN\n",
    "from sklearn import linear_model\n",
    "from sklearn.model_selection import train_test_split"
   ]
  },
  {
   "cell_type": "code",
   "execution_count": 187,
   "metadata": {},
   "outputs": [],
   "source": [
    "#PARTICIONAR DATOS DE ENTRENAMIENTO Y TESTING\n",
    "x_train, x_test, y_train, y_test = train_test_split(xs, y, test_size=0.4)"
   ]
  },
  {
   "cell_type": "code",
   "execution_count": 192,
   "metadata": {},
   "outputs": [
    {
     "data": {
      "text/plain": [
       "(1317, 64)"
      ]
     },
     "execution_count": 192,
     "metadata": {},
     "output_type": "execute_result"
    }
   ],
   "source": [
    "x_test.shape"
   ]
  },
  {
   "cell_type": "code",
   "execution_count": 193,
   "metadata": {},
   "outputs": [],
   "source": [
    "modelo = linear_model.LinearRegression()"
   ]
  },
  {
   "cell_type": "code",
   "execution_count": 194,
   "metadata": {},
   "outputs": [
    {
     "data": {
      "text/plain": [
       "LinearRegression(copy_X=True, fit_intercept=True, n_jobs=1, normalize=False)"
      ]
     },
     "execution_count": 194,
     "metadata": {},
     "output_type": "execute_result"
    }
   ],
   "source": [
    "#FIT \n",
    "modelo.fit(x_train,y_train)"
   ]
  },
  {
   "cell_type": "code",
   "execution_count": 195,
   "metadata": {},
   "outputs": [],
   "source": [
    "#PREDECIR DATOS \"Y\" DE \"X\" TEST \n",
    "y_predict = modelo.predict(x_test)"
   ]
  },
  {
   "cell_type": "code",
   "execution_count": 196,
   "metadata": {},
   "outputs": [],
   "source": [
    "#PENDIENTES\n",
    "pendientes = modelo.coef_"
   ]
  },
  {
   "cell_type": "code",
   "execution_count": 197,
   "metadata": {},
   "outputs": [
    {
     "data": {
      "text/plain": [
       "array([ 8.53176472e-02,  1.08005237e+01, -8.84578186e+00, -3.01888677e+01,\n",
       "        2.59121567e+00, -5.65426207e+01, -1.43813267e+02,  2.25998798e+02,\n",
       "        1.07434062e-11, -1.36424205e-11, -1.45519152e-11,  3.66739500e+02,\n",
       "        5.80067828e+02, -2.81976467e+02, -4.95153714e+02,  4.27502919e+02,\n",
       "        4.02220686e+02,  3.13193616e+03, -2.55075317e+02, -2.32377583e+02,\n",
       "       -7.66903695e+02, -1.01923491e+03,  1.64679810e+02, -7.53306932e+02,\n",
       "       -6.64612541e+01, -5.82780799e+02, -8.18711226e+02, -1.29957947e+03,\n",
       "       -4.68854894e+02, -6.95020179e+02,  3.80841850e+01, -1.77925828e+02,\n",
       "       -6.85367895e+02, -5.79801755e+02, -6.47465184e+02, -6.66128771e+01,\n",
       "        2.26217609e+01, -2.86936259e+02,  6.65398614e+02, -2.19555804e+02,\n",
       "        1.05561380e+03, -5.67937521e+02, -7.38124696e+02, -1.02419019e+02,\n",
       "       -4.55720079e+02, -7.90609306e+02, -4.85155494e+02, -2.70676948e+02,\n",
       "       -4.10265468e+02, -8.54097557e+02, -8.29716434e+02, -5.27010760e+02,\n",
       "        7.77637809e+03,  1.02045178e+04, -7.96437557e+02, -1.37353215e+03,\n",
       "       -7.69322215e+02, -8.76093858e+02, -6.64173270e+02, -7.73031308e+02,\n",
       "       -6.21706681e+02, -5.53268187e+02, -6.24648814e+02, -1.13957374e+03])"
      ]
     },
     "execution_count": 197,
     "metadata": {},
     "output_type": "execute_result"
    }
   ],
   "source": [
    "pendientes"
   ]
  },
  {
   "cell_type": "code",
   "execution_count": 198,
   "metadata": {},
   "outputs": [],
   "source": [
    "#ORDENADA \n",
    "ordenada = modelo.intercept_"
   ]
  },
  {
   "cell_type": "code",
   "execution_count": 199,
   "metadata": {},
   "outputs": [
    {
     "data": {
      "text/plain": [
       "2765.4967252536476"
      ]
     },
     "execution_count": 199,
     "metadata": {},
     "output_type": "execute_result"
    }
   ],
   "source": [
    "ordenada"
   ]
  },
  {
   "cell_type": "code",
   "execution_count": 200,
   "metadata": {},
   "outputs": [
    {
     "name": "stdout",
     "output_type": "stream",
     "text": [
      "0.9636373893584926\n"
     ]
    }
   ],
   "source": [
    "#R2\n",
    "print(modelo.score(x_train,y_train))"
   ]
  },
  {
   "cell_type": "code",
   "execution_count": 424,
   "metadata": {},
   "outputs": [
    {
     "name": "stdout",
     "output_type": "stream",
     "text": [
      "0.5116295530456167\n"
     ]
    }
   ],
   "source": [
    "#FIT \n",
    "modelo.fit(x_train,y_train)\n",
    "#PREDECIR DATOS \"Y\" DE \"X\" TEST \n",
    "y_predict = modelo.predict(x_test)\n",
    "#PENDIENTES\n",
    "pendientes = modelo.coef_\n",
    "#ORDENADA \n",
    "ordenada = modelo.intercept_\n",
    "#R2\n",
    "print(modelo.score(x_train,y_train))"
   ]
  },
  {
   "cell_type": "code",
   "execution_count": null,
   "metadata": {},
   "outputs": [],
   "source": []
  },
  {
   "cell_type": "code",
   "execution_count": 425,
   "metadata": {},
   "outputs": [
    {
     "name": "stdout",
     "output_type": "stream",
     "text": [
      "0.5075680227924261\n"
     ]
    }
   ],
   "source": [
    "from sklearn.cross_validation import cross_val_score\n",
    "scores = cross_val_score(modelo, x_train, y_train, cv= 4)\n",
    "print(scores.mean())"
   ]
  },
  {
   "cell_type": "code",
   "execution_count": null,
   "metadata": {},
   "outputs": [],
   "source": []
  },
  {
   "cell_type": "code",
   "execution_count": null,
   "metadata": {},
   "outputs": [],
   "source": []
  },
  {
   "cell_type": "code",
   "execution_count": null,
   "metadata": {},
   "outputs": [],
   "source": []
  },
  {
   "cell_type": "code",
   "execution_count": null,
   "metadata": {},
   "outputs": [],
   "source": []
  },
  {
   "cell_type": "code",
   "execution_count": 384,
   "metadata": {},
   "outputs": [
    {
     "data": {
      "text/plain": [
       "0.0019164430816404753"
      ]
     },
     "execution_count": 384,
     "metadata": {},
     "output_type": "execute_result"
    }
   ],
   "source": [
    "from sklearn.metrics import accuracy_score\n",
    "accuracy_score(y_test.astype(int), y_predict.astype(int))"
   ]
  },
  {
   "cell_type": "code",
   "execution_count": 350,
   "metadata": {},
   "outputs": [],
   "source": [
    "    df = pd.DataFrame({'1':pd.Series(y_test),'2':pd.Series(y_predict)})"
   ]
  },
  {
   "cell_type": "code",
   "execution_count": null,
   "metadata": {},
   "outputs": [],
   "source": []
  },
  {
   "cell_type": "code",
   "execution_count": null,
   "metadata": {},
   "outputs": [],
   "source": []
  },
  {
   "cell_type": "code",
   "execution_count": null,
   "metadata": {},
   "outputs": [],
   "source": []
  },
  {
   "cell_type": "code",
   "execution_count": null,
   "metadata": {},
   "outputs": [],
   "source": []
  },
  {
   "cell_type": "code",
   "execution_count": null,
   "metadata": {},
   "outputs": [],
   "source": []
  },
  {
   "cell_type": "code",
   "execution_count": 279,
   "metadata": {},
   "outputs": [
    {
     "data": {
      "text/plain": [
       "array([ 50.,  24.,  62., ..., 116.,  60., 116.])"
      ]
     },
     "execution_count": 279,
     "metadata": {},
     "output_type": "execute_result"
    }
   ],
   "source": [
    "x_test[:,0]"
   ]
  },
  {
   "cell_type": "code",
   "execution_count": 201,
   "metadata": {},
   "outputs": [
    {
     "data": {
      "image/png": "[encoded data removed]",
      "text/plain": [
       "<Figure size 432x288 with 1 Axes>"
      ]
     },
     "metadata": {},
     "output_type": "display_data"
    }
   ],
   "source": [
    "import matplotlib.pyplot as plt\n",
    "\n",
    "#GENERO EJE X -> SUPERFICIE TOTAL\n",
    "x1 = x_test[:,0]\n",
    "\n",
    "#GENERO EJE Y -> PRECIO M2 DE TEST\n",
    "x2 = y_test\n",
    "\n",
    "# EJE Y -> PRECIO M2 PREDICHO\n",
    "x3 = y_predict\n",
    "\n",
    "\n",
    "#PLOT\n",
    "plt.scatter(x1,x2,label='test modelo', color='blue')\n",
    "plt.scatter(x1,x3,label='prediccion modelo', color='red')\n",
    "plt.title('grafico modelo')\n",
    "plt.show()"
   ]
  },
  {
   "cell_type": "code",
   "execution_count": null,
   "metadata": {},
   "outputs": [],
   "source": []
  },
  {
   "cell_type": "code",
   "execution_count": 216,
   "metadata": {},
   "outputs": [
    {
     "data": {
      "text/plain": [
       "'/home/DS-DH/notebooks/digitalHouse/modelo-properatti/ipynb'"
      ]
     },
     "execution_count": 216,
     "metadata": {},
     "output_type": "execute_result"
    }
   ],
   "source": [
    "%pwd"
   ]
  },
  {
   "cell_type": "code",
   "execution_count": 70,
   "metadata": {},
   "outputs": [],
   "source": [
    "import Util as utilidades"
   ]
  },
  {
   "cell_type": "code",
   "execution_count": 1,
   "metadata": {},
   "outputs": [],
   "source": [
    "import pandas as pd\n",
    "import numpy as np\n",
    "import matplotlib.pyplot as plt\n",
    "import unidecode as uni\n",
    "import Util as utilidades\n",
    "from sklearn import linear_model\n",
    "from sklearn.model_selection import train_test_split\n",
    "\n",
    "data = pd.read_csv('/home/DS-DH/notebooks/digitalHouse/properatti.csv')"
   ]
  },
  {
   "cell_type": "code",
   "execution_count": 4,
   "metadata": {},
   "outputs": [],
   "source": [
    "data = pd.read_csv('/home/DS-DH/notebooks/digitalHouse/properatti.csv')"
   ]
  },
  {
   "cell_type": "code",
   "execution_count": 5,
   "metadata": {},
   "outputs": [],
   "source": [
    "#QUITO LAS FILAS REPETIDAS DEL CAMPO DESCRIPCION\n",
    "data = data.drop_duplicates(subset=['description'], keep='first')"
   ]
  },
  {
   "cell_type": "code",
   "execution_count": 6,
   "metadata": {},
   "outputs": [],
   "source": [
    "#QUITO LAS FILAS CON SUPERFICIE CUBIERTA MENOR A 16\n",
    "data = data[(data.surface_covered_in_m2>16)|(data.surface_covered_in_m2.isnull())]\n",
    "  "
   ]
  },
  {
   "cell_type": "code",
   "execution_count": 7,
   "metadata": {},
   "outputs": [],
   "source": [
    "#QUITO LAS FILAS CON SUPERFICIE TOTAL MENOR A 16\n",
    "data = data[(data.surface_total_in_m2>16)|(data.surface_total_in_m2.isnull())]\n"
   ]
  },
  {
   "cell_type": "code",
   "execution_count": 8,
   "metadata": {},
   "outputs": [],
   "source": [
    "#QUITO LAS FILAS CON SUPERFICIES CUBIERTAS MENOR 50 DE CASAS \n",
    "data = data[(~((data.surface_covered_in_m2<50)&(data.property_type.str.contains('house'))))]\n"
   ]
  },
  {
   "cell_type": "code",
   "execution_count": 9,
   "metadata": {},
   "outputs": [],
   "source": [
    "#QUITO LAS FILAS CON SUPERFICIE TOTAL MENOR 50 DE CASAS \n",
    "data = data[(~((data.surface_total_in_m2<50)&(data.property_type.str.contains('house'))))]\n"
   ]
  },
  {
   "cell_type": "code",
   "execution_count": 11,
   "metadata": {},
   "outputs": [],
   "source": [
    "#PONGO NULOS LOS VALORES DE SUPERFICIE CUBIERTA CUANDO SUPERFICIE_CUBIERTA>SUPERFICIE_TOTAL\n",
    "data.surface_covered_in_m2[data.surface_covered_in_m2>data.surface_total_in_m2] = np.nan \n"
   ]
  },
  {
   "cell_type": "code",
   "execution_count": 12,
   "metadata": {},
   "outputs": [],
   "source": [
    "##REEMPLAZO COLUMNAS DESCRIPCION Y TITULO (MINUSCULAS Y ACENTOS)\n",
    "data.description = data.description.astype(str).apply(uni.unidecode).str.lower()\n",
    "data.title = data.title.astype(str).apply(uni.unidecode).str.lower()\n"
   ]
  },
  {
   "cell_type": "code",
   "execution_count": 13,
   "metadata": {},
   "outputs": [],
   "source": [
    "##OBTENGOS JARDINES, TERRAZAS \n",
    "booleanos_jardines =(data.description.str.contains('parquizado'))|(data.description.str.contains('patio'))|(data.description.str.contains('jardin')) \n",
    "booleanos_terraza = (data.description.str.contains('terraza'))|(data.description.str.contains('quincho')) \n",
    "    "
   ]
  },
  {
   "cell_type": "code",
   "execution_count": 14,
   "metadata": {},
   "outputs": [],
   "source": [
    "##CALCULO SUPERFICIES DE JARDINES (SIN TERRAZA) \n",
    "\n",
    "serie_jardines = (booleanos_jardines) & (~booleanos_terraza) & (data.surface_covered_in_m2.notnull()) & (data.surface_total_in_m2.notnull())\n",
    "data['superficie_jardin_patio'] = data.surface_total_in_m2[serie_jardines]-data.surface_covered_in_m2[serie_jardines]\n",
    "serie_superficie_jardines = pd.DataFrame(data.superficie_jardin_patio[(data.superficie_jardin_patio.notnull()) & (data.superficie_jardin_patio > 0)])\n",
    "data['superficies_jardines'] = data.merge(serie_superficie_jardines,how='left',left_on=['Unnamed: 0'],right_index=True)['superficie_jardin_patio_y']\n"
   ]
  },
  {
   "cell_type": "code",
   "execution_count": 15,
   "metadata": {},
   "outputs": [],
   "source": [
    "##CALCULO SUPERFICIES DE TERRAZAS (SIN JARDINES)\n",
    "serie_terraza = (booleanos_terraza) & (~booleanos_jardines) & (data.surface_covered_in_m2.notnull()) & (data.surface_total_in_m2.notnull())\n",
    "superficie_terraza_indices = pd.DataFrame(data.surface_total_in_m2[serie_terraza]-data.surface_covered_in_m2[serie_terraza],columns=['terraza_y'])    \n",
    "columna_superficie_terraza = data.merge(superficie_terraza_indices[superficie_terraza_indices.terraza_y>0],how='left', left_on=['Unnamed: 0'],right_index=True)['terraza_y']\n",
    "data['superficie_terraza'] = columna_superficie_terraza\n",
    "    "
   ]
  },
  {
   "cell_type": "code",
   "execution_count": 17,
   "metadata": {},
   "outputs": [],
   "source": [
    "##CALCULO SUPERFICIES DE TERRAZAS CON JARDINES\n",
    "serie_terraza_jardin = (booleanos_terraza) & (booleanos_jardines) & (data.surface_covered_in_m2.notnull()) & (data.surface_total_in_m2.notnull())\n",
    "superficie_terraza_jardin_indices = pd.DataFrame(data.surface_total_in_m2[serie_terraza_jardin]-data.surface_covered_in_m2[serie_terraza_jardin],columns=['terraza_jardin_y'])\n",
    "columna_superficie_terraza_jardin = data.merge(superficie_terraza_jardin_indices[superficie_terraza_jardin_indices.terraza_jardin_y>0],how='left', left_on=['Unnamed: 0'], right_index=True)['terraza_jardin_y']\n",
    "data['superficie_terraza_jardin'] = columna_superficie_terraza_jardin\n",
    "\n"
   ]
  },
  {
   "cell_type": "code",
   "execution_count": 18,
   "metadata": {},
   "outputs": [],
   "source": [
    "##CONTIENE AMBIENTES EN CAMPO DESCRIPCION \n",
    "un_ambiente = data[data.rooms<=7].description.str.contains(\"ambiente \") | data.description.str.contains(\"amb.\",\"amb \") & data.description.str.contains(\"1 amb\")\n",
    "dos_o_mas_ambientes = data.description.str.contains(\"ambientes\") | data.description.str.contains(\"2 amb\")\n",
    "data[\"un_ambiente\"]=un_ambiente"
   ]
  },
  {
   "cell_type": "code",
   "execution_count": 20,
   "metadata": {},
   "outputs": [],
   "source": [
    "cant_ambientes_old_desc = data[data.rooms<=7].description.astype(str).apply(utilidades.obtengo_ambiente)\n",
    "cant_ambientes_old_title = data[data.rooms<=7].title.astype(str).apply(utilidades.obtengo_ambiente)\n",
    "cant_ambientes_desc = cant_ambientes_old_desc.str.extract(r'(\\d+)')\n",
    "cant_ambientes_title = cant_ambientes_old_title.str.extract(r'(\\d+)')"
   ]
  },
  {
   "cell_type": "code",
   "execution_count": 21,
   "metadata": {},
   "outputs": [],
   "source": [
    "data['cantidad_ambientes_desc'] = cant_ambientes_desc\n",
    "data['cantidad_ambientes_title'] = cant_ambientes_title"
   ]
  },
  {
   "cell_type": "code",
   "execution_count": 22,
   "metadata": {},
   "outputs": [],
   "source": [
    "data['un_ambiente'] = data.un_ambiente\n",
    "data['monoambiente'] = data[data.rooms<=7].description.str.contains('monoambiente') | data.description.str.contains('mono ambiente') | data.title.str.contains('monoambiente') | data.title.str.contains('mono ambiente')  \n"
   ]
  },
  {
   "cell_type": "code",
   "execution_count": 26,
   "metadata": {},
   "outputs": [],
   "source": [
    "    data['ambientes'] = data.rooms[data.rooms.fillna(100).astype(int)<6].astype(int)\n"
   ]
  },
  {
   "cell_type": "code",
   "execution_count": null,
   "metadata": {},
   "outputs": [],
   "source": []
  },
  {
   "cell_type": "code",
   "execution_count": 38,
   "metadata": {},
   "outputs": [],
   "source": [
    "#data.cantidad_ambientes_title.update(data.cantidad_ambientes_desc)\n",
    "data.ambientes.update(data.cantidad_ambientes_title)\n",
    "data.ambientes.update(data.cantidad_ambientes_desc)"
   ]
  },
  {
   "cell_type": "code",
   "execution_count": null,
   "metadata": {},
   "outputs": [],
   "source": []
  },
  {
   "cell_type": "code",
   "execution_count": 39,
   "metadata": {},
   "outputs": [
    {
     "ename": "AttributeError",
     "evalue": "'bool' object has no attribute 'lower'",
     "output_type": "error",
     "traceback": [
      "\u001b[0;31m\u001b[0m",
      "\u001b[0;31mAttributeError\u001b[0mTraceback (most recent call last)",
      "\u001b[0;32m<ipython-input-39-cb4f4ebfe144>\u001b[0m in \u001b[0;36m<module>\u001b[0;34m()\u001b[0m\n\u001b[0;32m----> 1\u001b[0;31m \u001b[0mvar_un_ambiente\u001b[0m \u001b[0;34m=\u001b[0m \u001b[0mdata\u001b[0m\u001b[0;34m.\u001b[0m\u001b[0mun_ambiente\u001b[0m\u001b[0;34m.\u001b[0m\u001b[0mapply\u001b[0m\u001b[0;34m(\u001b[0m\u001b[0mutilidades\u001b[0m\u001b[0;34m.\u001b[0m\u001b[0mobtengo_ambiente\u001b[0m\u001b[0;34m)\u001b[0m\u001b[0;34m\u001b[0m\u001b[0m\n\u001b[0m",
      "\u001b[0;32m/opt/conda/lib/python3.6/site-packages/pandas/core/series.py\u001b[0m in \u001b[0;36mapply\u001b[0;34m(self, func, convert_dtype, args, **kwds)\u001b[0m\n\u001b[1;32m   3192\u001b[0m             \u001b[0;32melse\u001b[0m\u001b[0;34m:\u001b[0m\u001b[0;34m\u001b[0m\u001b[0m\n\u001b[1;32m   3193\u001b[0m                 \u001b[0mvalues\u001b[0m \u001b[0;34m=\u001b[0m \u001b[0mself\u001b[0m\u001b[0;34m.\u001b[0m\u001b[0mastype\u001b[0m\u001b[0;34m(\u001b[0m\u001b[0mobject\u001b[0m\u001b[0;34m)\u001b[0m\u001b[0;34m.\u001b[0m\u001b[0mvalues\u001b[0m\u001b[0;34m\u001b[0m\u001b[0m\n\u001b[0;32m-> 3194\u001b[0;31m                 \u001b[0mmapped\u001b[0m \u001b[0;34m=\u001b[0m \u001b[0mlib\u001b[0m\u001b[0;34m.\u001b[0m\u001b[0mmap_infer\u001b[0m\u001b[0;34m(\u001b[0m\u001b[0mvalues\u001b[0m\u001b[0;34m,\u001b[0m \u001b[0mf\u001b[0m\u001b[0;34m,\u001b[0m \u001b[0mconvert\u001b[0m\u001b[0;34m=\u001b[0m\u001b[0mconvert_dtype\u001b[0m\u001b[0;34m)\u001b[0m\u001b[0;34m\u001b[0m\u001b[0m\n\u001b[0m\u001b[1;32m   3195\u001b[0m \u001b[0;34m\u001b[0m\u001b[0m\n\u001b[1;32m   3196\u001b[0m         \u001b[0;32mif\u001b[0m \u001b[0mlen\u001b[0m\u001b[0;34m(\u001b[0m\u001b[0mmapped\u001b[0m\u001b[0;34m)\u001b[0m \u001b[0;32mand\u001b[0m \u001b[0misinstance\u001b[0m\u001b[0;34m(\u001b[0m\u001b[0mmapped\u001b[0m\u001b[0;34m[\u001b[0m\u001b[0;36m0\u001b[0m\u001b[0;34m]\u001b[0m\u001b[0;34m,\u001b[0m \u001b[0mSeries\u001b[0m\u001b[0;34m)\u001b[0m\u001b[0;34m:\u001b[0m\u001b[0;34m\u001b[0m\u001b[0m\n",
      "\u001b[0;32mpandas/_libs/src/inference.pyx\u001b[0m in \u001b[0;36mpandas._libs.lib.map_infer\u001b[0;34m()\u001b[0m\n",
      "\u001b[0;32m~/notebooks/digitalHouse/modelo-properatti/ipynb/Util.py\u001b[0m in \u001b[0;36mobtengo_ambiente\u001b[0;34m(x)\u001b[0m\n\u001b[1;32m      4\u001b[0m \u001b[0;32mdef\u001b[0m \u001b[0mdevolver_un_ambiente\u001b[0m \u001b[0;34m(\u001b[0m\u001b[0mx\u001b[0m\u001b[0;34m)\u001b[0m\u001b[0;34m:\u001b[0m\u001b[0;34m\u001b[0m\u001b[0m\n\u001b[1;32m      5\u001b[0m     \u001b[0;32mif\u001b[0m \u001b[0mx\u001b[0m \u001b[0;34m:\u001b[0m\u001b[0;34m\u001b[0m\u001b[0m\n\u001b[0;32m----> 6\u001b[0;31m         \u001b[0;32mreturn\u001b[0m \u001b[0;36m1\u001b[0m\u001b[0;34m\u001b[0m\u001b[0m\n\u001b[0m\u001b[1;32m      7\u001b[0m \u001b[0;34m\u001b[0m\u001b[0m\n\u001b[1;32m      8\u001b[0m \u001b[0;34m\u001b[0m\u001b[0m\n",
      "\u001b[0;31mAttributeError\u001b[0m: 'bool' object has no attribute 'lower'"
     ]
    }
   ],
   "source": [
    "    data['var_un_ambiente'] = var_un_ambiente\n",
    "    data['var_monoambiente'] = var_monoambiente\n",
    "    data.var_un_ambiente.update(data.ambientes)\n",
    "    data.var_monoambiente.update(data.var_un_ambiente)\n"
   ]
  },
  {
   "cell_type": "code",
   "execution_count": 42,
   "metadata": {},
   "outputs": [],
   "source": [
    "    var_un_ambiente = data.un_ambiente.apply(devolver_un_ambiente)\n",
    "    var_monoambiente = data.monoambiente.apply(devolver_un_ambiente)"
   ]
  },
  {
   "cell_type": "code",
   "execution_count": 43,
   "metadata": {},
   "outputs": [],
   "source": [
    "    data['var_un_ambiente'] = var_un_ambiente\n",
    "    data['var_monoambiente'] = var_monoambiente\n",
    "    data.var_un_ambiente.update(data.ambientes)\n",
    "    data.var_monoambiente.update(data.var_un_ambiente)"
   ]
  },
  {
   "cell_type": "code",
   "execution_count": 44,
   "metadata": {},
   "outputs": [],
   "source": [
    "  data['nuevos_ambientes'] = data.var_monoambiente "
   ]
  },
  {
   "cell_type": "code",
   "execution_count": 45,
   "metadata": {},
   "outputs": [],
   "source": [
    " data['ambientes_ceros'] = data.nuevos_ambientes.fillna(0).astype(int) \n",
    "    #data['grupos_ambientes'] = pd.cut(data.ambientes_ceros,[0,4!=0])"
   ]
  },
  {
   "cell_type": "code",
   "execution_count": 46,
   "metadata": {},
   "outputs": [],
   "source": [
    "    ##GUARDO COLUMNA TITLE\n",
    "    data['surface_total'] = data.surface_total_in_m2"
   ]
  },
  {
   "cell_type": "code",
   "execution_count": 47,
   "metadata": {},
   "outputs": [],
   "source": [
    "    data.surface_total_in_m2.update(data.surface_covered_in_m2)\n",
    "    data['nueva_surface_total_in_m2'] = data.surface_total_in_m2 "
   ]
  },
  {
   "cell_type": "code",
   "execution_count": null,
   "metadata": {},
   "outputs": [],
   "source": []
  },
  {
   "cell_type": "code",
   "execution_count": 56,
   "metadata": {},
   "outputs": [],
   "source": [
    "def ImputarAmbientes(data, rango=5):\n",
    "\n",
    "    data['imputar_ambientes'] = np.nan\n",
    "    \n",
    "    for i in range(1,rango): \n",
    "    \n",
    "        #GENERAR GRUPOS DE SUPERFICIES\n",
    "        data['categorias_sup_cubierta_por_m2'] = pd.qcut(data[data.surface_covered_in_m2>10].nueva_surface_total_in_m2,i)\n",
    "        #CALCULAR MEDIAS CANTIDAD_AMBIENTES \n",
    "        dfImputacionesAmbientes = pd.DataFrame(data[data.ambientes_ceros!=0].groupby(['state_name','place_name','categorias_sup_cubierta_por_m2'])['ambientes_ceros'].mean())\n",
    "        serie_imputaciones_ambientes = data.merge(dfImputacionesAmbientes,how='left',left_on=['state_name','place_name','categorias_sup_cubierta_por_m2'],right_on=['state_name','place_name','categorias_sup_cubierta_por_m2'])['ambientes_ceros_y']   \n",
    "        data.imputar_ambientes.update(serie_imputaciones_ambientes)\n",
    "    return data.imputar_ambientes"
   ]
  },
  {
   "cell_type": "code",
   "execution_count": 57,
   "metadata": {},
   "outputs": [],
   "source": [
    "    ##IMPUTAR AMBIENTES\n",
    "    data['ambientes_imputados_2'] = ImputarAmbientes(data, 10)\n"
   ]
  },
  {
   "cell_type": "code",
   "execution_count": 66,
   "metadata": {},
   "outputs": [],
   "source": [
    "def ImputarSupCubierta(data, rango=5):\n",
    "\n",
    "    data['imputando_superficies_cubiertas'] = np.nan\n",
    "    \n",
    "    for i in range(1,rango): \n",
    "    \n",
    "        #GENERAR GRUPOS DE AMBIENTES EN PESOS\n",
    "        data['ambientes_imputados_ceros'] = data.ambientes_imputados.fillna(0).astype(float)\n",
    "        data['categorias_ambientes'] = pd.qcut(data[data.ambientes_imputados_ceros>=1].ambientes_imputados_ceros,i)\n",
    "        #CALCULAR MEDIAS SUPERFICIES CUBIERTAS\n",
    "        df_superficies_imput = pd.DataFrame(data[data.ambientes_imputados_ceros>=1].groupby(['state_name','place_name','property_type','categorias_ambientes'])['nueva_surface_total_in_m2'].mean())\n",
    "        imputar_serie = data.merge(df_superficies_imput,how='left',left_on=['state_name','place_name','property_type','categorias_ambientes'],right_on=['state_name','place_name','property_type','categorias_ambientes'])['nueva_surface_total_in_m2_y']\n",
    "        data.imputando_superficies_cubiertas.update(imputar_serie)\n",
    "    return data.imputando_superficies_cubiertas"
   ]
  },
  {
   "cell_type": "code",
   "execution_count": 69,
   "metadata": {},
   "outputs": [],
   "source": [
    "    #IMPUTAR FALTANTES CANTIDAD_AMBIENTES CON SUPERFICIES CUBIERTAS\n",
    "    data['superficie_cubierta_imputada'] = np.nan\n",
    "    imputar_serie = ImputarSupCubierta(data, 10)\n",
    "    data.superficie_cubierta_imputada.update(imputar_serie)"
   ]
  },
  {
   "cell_type": "code",
   "execution_count": 71,
   "metadata": {},
   "outputs": [
    {
     "name": "stderr",
     "output_type": "stream",
     "text": [
      "/opt/conda/lib/python3.6/site-packages/ipykernel_launcher.py:2: SettingWithCopyWarning: \n",
      "A value is trying to be set on a copy of a slice from a DataFrame\n",
      "\n",
      "See the caveats in the documentation: http://pandas.pydata.org/pandas-docs/stable/indexing.html#indexing-view-versus-copy\n",
      "  \n"
     ]
    }
   ],
   "source": [
    "    data.superficie_cubierta_imputada.update(data.nueva_surface_total_in_m2)\n",
    "    data.superficie_cubierta_imputada[(data.superficie_cubierta_imputada<50)&(data.property_type.str.contains('house'))] = np.nan\n",
    "   "
   ]
  },
  {
   "cell_type": "code",
   "execution_count": 79,
   "metadata": {},
   "outputs": [
    {
     "ename": "TypeError",
     "evalue": "ImputarSupTer() takes from 0 to 1 positional arguments but 2 were given",
     "output_type": "error",
     "traceback": [
      "\u001b[0;31m\u001b[0m",
      "\u001b[0;31mTypeError\u001b[0mTraceback (most recent call last)",
      "\u001b[0;32m<ipython-input-79-15990fa1e95c>\u001b[0m in \u001b[0;36m<module>\u001b[0;34m()\u001b[0m\n\u001b[1;32m      1\u001b[0m \u001b[0;31m##IMPUTAR SUPERFICIE TERRAZA\u001b[0m\u001b[0;34m\u001b[0m\u001b[0;34m\u001b[0m\u001b[0m\n\u001b[0;32m----> 2\u001b[0;31m \u001b[0mdata\u001b[0m\u001b[0;34m[\u001b[0m\u001b[0;34m'superficie_terraza_imputada'\u001b[0m\u001b[0;34m]\u001b[0m \u001b[0;34m=\u001b[0m \u001b[0mutilidades\u001b[0m\u001b[0;34m.\u001b[0m\u001b[0mImputarSupTer\u001b[0m\u001b[0;34m(\u001b[0m\u001b[0mdata\u001b[0m\u001b[0;34m,\u001b[0m \u001b[0;36m10\u001b[0m\u001b[0;34m)\u001b[0m\u001b[0;34m\u001b[0m\u001b[0m\n\u001b[0m\u001b[1;32m      3\u001b[0m \u001b[0mdata\u001b[0m\u001b[0;34m.\u001b[0m\u001b[0msuperficie_terraza_imputada\u001b[0m\u001b[0;34m.\u001b[0m\u001b[0mupdate\u001b[0m\u001b[0;34m(\u001b[0m\u001b[0mdata\u001b[0m\u001b[0;34m.\u001b[0m\u001b[0msuperficie_terraza\u001b[0m\u001b[0;34m)\u001b[0m\u001b[0;34m\u001b[0m\u001b[0m\n",
      "\u001b[0;31mTypeError\u001b[0m: ImputarSupTer() takes from 0 to 1 positional arguments but 2 were given"
     ]
    }
   ],
   "source": [
    "    ##IMPUTAR SUPERFICIE TERRAZA\n",
    "    data['superficie_terraza_imputada'] = utilidades.ImputarSupTer(data, 10)\n",
    "    data.superficie_terraza_imputada.update(data.superficie_terraza)"
   ]
  },
  {
   "cell_type": "code",
   "execution_count": null,
   "metadata": {},
   "outputs": [],
   "source": []
  }
 ],
 "metadata": {
  "anaconda-cloud": {},
  "kernelspec": {
   "display_name": "Python 3",
   "language": "python",
   "name": "python3"
  },
  "language_info": {
   "codemirror_mode": {
    "name": "ipython",
    "version": 3
   },
   "file_extension": ".py",
   "mimetype": "text/x-python",
   "name": "python",
   "nbconvert_exporter": "python",
   "pygments_lexer": "ipython3",
   "version": "3.6.6"
  }
 },
 "nbformat": 4,
 "nbformat_minor": 1
}
